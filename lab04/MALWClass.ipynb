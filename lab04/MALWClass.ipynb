{
 "cells": [
  {
   "cell_type": "markdown",
   "metadata": {},
   "source": [
    "# Laboratorio #4 – Clasificación de Malware\n",
    "## Parte 1 - Análisis de un malware"
   ]
  },
  {
   "cell_type": "code",
   "execution_count": 13,
   "metadata": {},
   "outputs": [],
   "source": [
    "from pefile import PE\n",
    "from typing import Dict"
   ]
  },
  {
   "cell_type": "markdown",
   "metadata": {},
   "source": [
    "## Análisis estático"
   ]
  },
  {
   "cell_type": "code",
   "execution_count": 16,
   "metadata": {},
   "outputs": [],
   "source": [
    "vg655_25th = PE('MALWR2/sample_vg655_25th.exe')\n",
    "qwrty_dk2 = PE('MALWR2/sample_qwrty_dk2')"
   ]
  },
  {
   "cell_type": "code",
   "execution_count": 20,
   "metadata": {},
   "outputs": [],
   "source": [
    "def entry_import_info(pe: PE) -> Dict:\n",
    "    dlls = []\n",
    "    fun_calls = []\n",
    "    for entry in pe.DIRECTORY_ENTRY_IMPORT:\n",
    "        dlls.append(entry.dll)\n",
    "        fun_calls.extend([fun.name for fun in entry.imports])\n",
    "    return {'dlls': dlls, 'fun_calls': fun_calls}\n",
    "    "
   ]
  },
  {
   "cell_type": "code",
   "execution_count": 21,
   "metadata": {},
   "outputs": [
    {
     "data": {
      "text/plain": [
       "{'dlls': [b'KERNEL32.dll', b'USER32.dll', b'ADVAPI32.dll', b'MSVCRT.dll'],\n",
       " 'fun_calls': [b'GetFileAttributesW',\n",
       "  b'GetFileSizeEx',\n",
       "  b'CreateFileA',\n",
       "  b'InitializeCriticalSection',\n",
       "  b'DeleteCriticalSection',\n",
       "  b'ReadFile',\n",
       "  b'GetFileSize',\n",
       "  b'WriteFile',\n",
       "  b'LeaveCriticalSection',\n",
       "  b'EnterCriticalSection',\n",
       "  b'SetFileAttributesW',\n",
       "  b'SetCurrentDirectoryW',\n",
       "  b'CreateDirectoryW',\n",
       "  b'GetTempPathW',\n",
       "  b'GetWindowsDirectoryW',\n",
       "  b'GetFileAttributesA',\n",
       "  b'SizeofResource',\n",
       "  b'LockResource',\n",
       "  b'LoadResource',\n",
       "  b'MultiByteToWideChar',\n",
       "  b'Sleep',\n",
       "  b'OpenMutexA',\n",
       "  b'GetFullPathNameA',\n",
       "  b'CopyFileA',\n",
       "  b'GetModuleFileNameA',\n",
       "  b'VirtualAlloc',\n",
       "  b'VirtualFree',\n",
       "  b'FreeLibrary',\n",
       "  b'HeapAlloc',\n",
       "  b'GetProcessHeap',\n",
       "  b'GetModuleHandleA',\n",
       "  b'SetLastError',\n",
       "  b'VirtualProtect',\n",
       "  b'IsBadReadPtr',\n",
       "  b'HeapFree',\n",
       "  b'SystemTimeToFileTime',\n",
       "  b'LocalFileTimeToFileTime',\n",
       "  b'CreateDirectoryA',\n",
       "  b'GetStartupInfoA',\n",
       "  b'SetFilePointer',\n",
       "  b'SetFileTime',\n",
       "  b'GetComputerNameW',\n",
       "  b'GetCurrentDirectoryA',\n",
       "  b'SetCurrentDirectoryA',\n",
       "  b'GlobalAlloc',\n",
       "  b'LoadLibraryA',\n",
       "  b'GetProcAddress',\n",
       "  b'GlobalFree',\n",
       "  b'CreateProcessA',\n",
       "  b'CloseHandle',\n",
       "  b'WaitForSingleObject',\n",
       "  b'TerminateProcess',\n",
       "  b'GetExitCodeProcess',\n",
       "  b'FindResourceA',\n",
       "  b'wsprintfA',\n",
       "  b'CreateServiceA',\n",
       "  b'OpenServiceA',\n",
       "  b'StartServiceA',\n",
       "  b'CloseServiceHandle',\n",
       "  b'CryptReleaseContext',\n",
       "  b'RegCreateKeyW',\n",
       "  b'RegSetValueExA',\n",
       "  b'RegQueryValueExA',\n",
       "  b'RegCloseKey',\n",
       "  b'OpenSCManagerA',\n",
       "  b'realloc',\n",
       "  b'fclose',\n",
       "  b'fwrite',\n",
       "  b'fread',\n",
       "  b'fopen',\n",
       "  b'sprintf',\n",
       "  b'rand',\n",
       "  b'srand',\n",
       "  b'strcpy',\n",
       "  b'memset',\n",
       "  b'strlen',\n",
       "  b'wcscat',\n",
       "  b'wcslen',\n",
       "  b'__CxxFrameHandler',\n",
       "  b'??3@YAXPAX@Z',\n",
       "  b'memcmp',\n",
       "  b'_except_handler3',\n",
       "  b'_local_unwind2',\n",
       "  b'wcsrchr',\n",
       "  b'swprintf',\n",
       "  b'??2@YAPAXI@Z',\n",
       "  b'memcpy',\n",
       "  b'strcmp',\n",
       "  b'strrchr',\n",
       "  b'__p___argv',\n",
       "  b'__p___argc',\n",
       "  b'_stricmp',\n",
       "  b'free',\n",
       "  b'malloc',\n",
       "  b'??0exception@@QAE@ABV0@@Z',\n",
       "  b'??1exception@@UAE@XZ',\n",
       "  b'??0exception@@QAE@ABQBD@Z',\n",
       "  b'_CxxThrowException',\n",
       "  b'calloc',\n",
       "  b'strcat',\n",
       "  b'_mbsstr',\n",
       "  b'??1type_info@@UAE@XZ',\n",
       "  b'_exit',\n",
       "  b'_XcptFilter',\n",
       "  b'exit',\n",
       "  b'_acmdln',\n",
       "  b'__getmainargs',\n",
       "  b'_initterm',\n",
       "  b'__setusermatherr',\n",
       "  b'_adjust_fdiv',\n",
       "  b'__p__commode',\n",
       "  b'__p__fmode',\n",
       "  b'__set_app_type',\n",
       "  b'_controlfp']}"
      ]
     },
     "execution_count": 21,
     "metadata": {},
     "output_type": "execute_result"
    }
   ],
   "source": [
    "entry_import_info(vg655_25th)"
   ]
  },
  {
   "cell_type": "code",
   "execution_count": 22,
   "metadata": {},
   "outputs": [
    {
     "data": {
      "text/plain": [
       "{'dlls': [b'KERNEL32.DLL',\n",
       "  b'MSVCRT.dll',\n",
       "  b'SHELL32.dll',\n",
       "  b'USER32.dll',\n",
       "  b'WS2_32.dll'],\n",
       " 'fun_calls': [b'LoadLibraryA',\n",
       "  b'ExitProcess',\n",
       "  b'GetProcAddress',\n",
       "  b'VirtualProtect',\n",
       "  b'atol',\n",
       "  b'SHChangeNotify',\n",
       "  b'LoadStringA',\n",
       "  b'closesocket']}"
      ]
     },
     "execution_count": 22,
     "metadata": {},
     "output_type": "execute_result"
    }
   ],
   "source": [
    "entry_import_info(qwrty_dk2)"
   ]
  },
  {
   "cell_type": "markdown",
   "metadata": {},
   "source": [
    "¿Qué diferencias observa entre los ejemplos? \n",
    "\n",
    "En vg655_25th la cantidad de funciones utilizadas es mucho mayor que las funciones en qwrty_dk2. Algunos dlls cambian, pero no hay una gran diferencia en el numero de dlls.\n",
    "\n",
    "¿Existe algún indicio sospechoso en la cantidad de DLLs y las APIs llamadas?\n",
    "\n",
    "La poca cantidad de llamadas en qwrty_dk2 es sospechoso, pueden que esten empaquetadas. Ademas de algunos dlls, como `SHELL32.dll` tambien parecen sospechosos."
   ]
  },
  {
   "cell_type": "code",
   "execution_count": 32,
   "metadata": {},
   "outputs": [
    {
     "name": "stdout",
     "output_type": "stream",
     "text": [
      "------- vg655_25th -------\n",
      "[IMAGE_SECTION_HEADER]\n",
      "0x1F0      0x0   Name:                          .text\n",
      "0x1F8      0x8   Misc:                          0x69B0    \n",
      "0x1F8      0x8   Misc_PhysicalAddress:          0x69B0    \n",
      "0x1F8      0x8   Misc_VirtualSize:              0x69B0    \n",
      "0x1FC      0xC   VirtualAddress:                0x1000    \n",
      "0x200      0x10  SizeOfRawData:                 0x7000    \n",
      "0x204      0x14  PointerToRawData:              0x1000    \n",
      "0x208      0x18  PointerToRelocations:          0x0       \n",
      "0x20C      0x1C  PointerToLinenumbers:          0x0       \n",
      "0x210      0x20  NumberOfRelocations:           0x0       \n",
      "0x212      0x22  NumberOfLinenumbers:           0x0       \n",
      "0x214      0x24  Characteristics:               0x60000020\n",
      "[IMAGE_SECTION_HEADER]\n",
      "0x218      0x0   Name:                          .rdata\n",
      "0x220      0x8   Misc:                          0x5F70    \n",
      "0x220      0x8   Misc_PhysicalAddress:          0x5F70    \n",
      "0x220      0x8   Misc_VirtualSize:              0x5F70    \n",
      "0x224      0xC   VirtualAddress:                0x8000    \n",
      "0x228      0x10  SizeOfRawData:                 0x6000    \n",
      "0x22C      0x14  PointerToRawData:              0x8000    \n",
      "0x230      0x18  PointerToRelocations:          0x0       \n",
      "0x234      0x1C  PointerToLinenumbers:          0x0       \n",
      "0x238      0x20  NumberOfRelocations:           0x0       \n",
      "0x23A      0x22  NumberOfLinenumbers:           0x0       \n",
      "0x23C      0x24  Characteristics:               0x40000040\n",
      "[IMAGE_SECTION_HEADER]\n",
      "0x240      0x0   Name:                          .data\n",
      "0x248      0x8   Misc:                          0x1958    \n",
      "0x248      0x8   Misc_PhysicalAddress:          0x1958    \n",
      "0x248      0x8   Misc_VirtualSize:              0x1958    \n",
      "0x24C      0xC   VirtualAddress:                0xE000    \n",
      "0x250      0x10  SizeOfRawData:                 0x2000    \n",
      "0x254      0x14  PointerToRawData:              0xE000    \n",
      "0x258      0x18  PointerToRelocations:          0x0       \n",
      "0x25C      0x1C  PointerToLinenumbers:          0x0       \n",
      "0x260      0x20  NumberOfRelocations:           0x0       \n",
      "0x262      0x22  NumberOfLinenumbers:           0x0       \n",
      "0x264      0x24  Characteristics:               0xC0000040\n",
      "[IMAGE_SECTION_HEADER]\n",
      "0x268      0x0   Name:                          .rsrc\n",
      "0x270      0x8   Misc:                          0x349FA0  \n",
      "0x270      0x8   Misc_PhysicalAddress:          0x349FA0  \n",
      "0x270      0x8   Misc_VirtualSize:              0x349FA0  \n",
      "0x274      0xC   VirtualAddress:                0x10000   \n",
      "0x278      0x10  SizeOfRawData:                 0x34A000  \n",
      "0x27C      0x14  PointerToRawData:              0x10000   \n",
      "0x280      0x18  PointerToRelocations:          0x0       \n",
      "0x284      0x1C  PointerToLinenumbers:          0x0       \n",
      "0x288      0x20  NumberOfRelocations:           0x0       \n",
      "0x28A      0x22  NumberOfLinenumbers:           0x0       \n",
      "0x28C      0x24  Characteristics:               0x40000040\n",
      "------- qwrty_dk2 -------\n",
      "[IMAGE_SECTION_HEADER]\n",
      "0x1D8      0x0   Name:                          UPX0\n",
      "0x1E0      0x8   Misc:                          0x5000    \n",
      "0x1E0      0x8   Misc_PhysicalAddress:          0x5000    \n",
      "0x1E0      0x8   Misc_VirtualSize:              0x5000    \n",
      "0x1E4      0xC   VirtualAddress:                0x1000    \n",
      "0x1E8      0x10  SizeOfRawData:                 0x0       \n",
      "0x1EC      0x14  PointerToRawData:              0x400     \n",
      "0x1F0      0x18  PointerToRelocations:          0x0       \n",
      "0x1F4      0x1C  PointerToLinenumbers:          0x0       \n",
      "0x1F8      0x20  NumberOfRelocations:           0x0       \n",
      "0x1FA      0x22  NumberOfLinenumbers:           0x0       \n",
      "0x1FC      0x24  Characteristics:               0xE0000080\n",
      "[IMAGE_SECTION_HEADER]\n",
      "0x200      0x0   Name:                          UPX1\n",
      "0x208      0x8   Misc:                          0x1000    \n",
      "0x208      0x8   Misc_PhysicalAddress:          0x1000    \n",
      "0x208      0x8   Misc_VirtualSize:              0x1000    \n",
      "0x20C      0xC   VirtualAddress:                0x6000    \n",
      "0x210      0x10  SizeOfRawData:                 0x1000    \n",
      "0x214      0x14  PointerToRawData:              0x400     \n",
      "0x218      0x18  PointerToRelocations:          0x0       \n",
      "0x21C      0x1C  PointerToLinenumbers:          0x0       \n",
      "0x220      0x20  NumberOfRelocations:           0x0       \n",
      "0x222      0x22  NumberOfLinenumbers:           0x0       \n",
      "0x224      0x24  Characteristics:               0xE0000040\n",
      "[IMAGE_SECTION_HEADER]\n",
      "0x228      0x0   Name:                          .rsrc\n",
      "0x230      0x8   Misc:                          0x1000    \n",
      "0x230      0x8   Misc_PhysicalAddress:          0x1000    \n",
      "0x230      0x8   Misc_VirtualSize:              0x1000    \n",
      "0x234      0xC   VirtualAddress:                0x7000    \n",
      "0x238      0x10  SizeOfRawData:                 0x200     \n",
      "0x23C      0x14  PointerToRawData:              0x1400    \n",
      "0x240      0x18  PointerToRelocations:          0x0       \n",
      "0x244      0x1C  PointerToLinenumbers:          0x0       \n",
      "0x248      0x20  NumberOfRelocations:           0x0       \n",
      "0x24A      0x22  NumberOfLinenumbers:           0x0       \n",
      "0x24C      0x24  Characteristics:               0xC0000040\n"
     ]
    }
   ],
   "source": [
    "print('------- vg655_25th -------')\n",
    "for section in vg655_25th.sections:\n",
    "    print(section)\n",
    "print('------- qwrty_dk2 -------')\n",
    "for section in qwrty_dk2.sections:\n",
    "    print(section)"
   ]
  },
  {
   "cell_type": "markdown",
   "metadata": {},
   "source": [
    "¿Qué significa que algunas secciones tengan como parte de su nombre “upx”?\n",
    "\n",
    "Significa que las llamadas estan empaquetdas. Tal como se sospechaba con qwrty_dk2, las llamadas parecen estar empaquetadas."
   ]
  },
  {
   "cell_type": "code",
   "execution_count": 30,
   "metadata": {},
   "outputs": [
    {
     "data": {
      "text/plain": [
       "['                       Ultimate Packer for eXecutables',\n",
       " '                          Copyright (C) 1996 - 2020',\n",
       " 'UPX 3.96        Markus Oberhumer, Laszlo Molnar & John Reiser   Jan 23rd 2020',\n",
       " '',\n",
       " '        File size         Ratio      Format      Name',\n",
       " '   --------------------   ------   -----------   -----------',\n",
       " 'upx: MALWR2/sample_vg655_25th.exe: NotPackedException: not packed by UPX',\n",
       " '',\n",
       " 'Unpacked 0 files.']"
      ]
     },
     "execution_count": 30,
     "metadata": {},
     "output_type": "execute_result"
    }
   ],
   "source": [
    "!! upx -d MALWR2/sample_vg655_25th.exe"
   ]
  },
  {
   "cell_type": "code",
   "execution_count": 31,
   "metadata": {},
   "outputs": [
    {
     "data": {
      "text/plain": [
       "['                       Ultimate Packer for eXecutables',\n",
       " '                          Copyright (C) 1996 - 2020',\n",
       " 'UPX 3.96        Markus Oberhumer, Laszlo Molnar & John Reiser   Jan 23rd 2020',\n",
       " '',\n",
       " '        File size         Ratio      Format      Name',\n",
       " '   --------------------   ------   -----------   -----------',\n",
       " 'upx: MALWR2/qwrty_dk2.exe: FileNotFoundException: MALWR2/qwrty_dk2.exe: No such file or directory',\n",
       " '',\n",
       " 'Unpacked 0 files.']"
      ]
     },
     "execution_count": 31,
     "metadata": {},
     "output_type": "execute_result"
    }
   ],
   "source": [
    "!! upx -d MALWR2/qwrty_dk2.exe"
   ]
  },
  {
   "cell_type": "code",
   "execution_count": 33,
   "metadata": {},
   "outputs": [],
   "source": [
    "vg655_25th = PE('MALWR2/sample_vg655_25th.exe')\n",
    "qwrty_dk2 = PE('MALWR2/sample_qwrty_dk2')"
   ]
  },
  {
   "cell_type": "code",
   "execution_count": 34,
   "metadata": {},
   "outputs": [
    {
     "name": "stdout",
     "output_type": "stream",
     "text": [
      "------- vg655_25th -------\n",
      "[IMAGE_SECTION_HEADER]\n",
      "0x1F0      0x0   Name:                          .text\n",
      "0x1F8      0x8   Misc:                          0x69B0    \n",
      "0x1F8      0x8   Misc_PhysicalAddress:          0x69B0    \n",
      "0x1F8      0x8   Misc_VirtualSize:              0x69B0    \n",
      "0x1FC      0xC   VirtualAddress:                0x1000    \n",
      "0x200      0x10  SizeOfRawData:                 0x7000    \n",
      "0x204      0x14  PointerToRawData:              0x1000    \n",
      "0x208      0x18  PointerToRelocations:          0x0       \n",
      "0x20C      0x1C  PointerToLinenumbers:          0x0       \n",
      "0x210      0x20  NumberOfRelocations:           0x0       \n",
      "0x212      0x22  NumberOfLinenumbers:           0x0       \n",
      "0x214      0x24  Characteristics:               0x60000020\n",
      "[IMAGE_SECTION_HEADER]\n",
      "0x218      0x0   Name:                          .rdata\n",
      "0x220      0x8   Misc:                          0x5F70    \n",
      "0x220      0x8   Misc_PhysicalAddress:          0x5F70    \n",
      "0x220      0x8   Misc_VirtualSize:              0x5F70    \n",
      "0x224      0xC   VirtualAddress:                0x8000    \n",
      "0x228      0x10  SizeOfRawData:                 0x6000    \n",
      "0x22C      0x14  PointerToRawData:              0x8000    \n",
      "0x230      0x18  PointerToRelocations:          0x0       \n",
      "0x234      0x1C  PointerToLinenumbers:          0x0       \n",
      "0x238      0x20  NumberOfRelocations:           0x0       \n",
      "0x23A      0x22  NumberOfLinenumbers:           0x0       \n",
      "0x23C      0x24  Characteristics:               0x40000040\n",
      "[IMAGE_SECTION_HEADER]\n",
      "0x240      0x0   Name:                          .data\n",
      "0x248      0x8   Misc:                          0x1958    \n",
      "0x248      0x8   Misc_PhysicalAddress:          0x1958    \n",
      "0x248      0x8   Misc_VirtualSize:              0x1958    \n",
      "0x24C      0xC   VirtualAddress:                0xE000    \n",
      "0x250      0x10  SizeOfRawData:                 0x2000    \n",
      "0x254      0x14  PointerToRawData:              0xE000    \n",
      "0x258      0x18  PointerToRelocations:          0x0       \n",
      "0x25C      0x1C  PointerToLinenumbers:          0x0       \n",
      "0x260      0x20  NumberOfRelocations:           0x0       \n",
      "0x262      0x22  NumberOfLinenumbers:           0x0       \n",
      "0x264      0x24  Characteristics:               0xC0000040\n",
      "[IMAGE_SECTION_HEADER]\n",
      "0x268      0x0   Name:                          .rsrc\n",
      "0x270      0x8   Misc:                          0x349FA0  \n",
      "0x270      0x8   Misc_PhysicalAddress:          0x349FA0  \n",
      "0x270      0x8   Misc_VirtualSize:              0x349FA0  \n",
      "0x274      0xC   VirtualAddress:                0x10000   \n",
      "0x278      0x10  SizeOfRawData:                 0x34A000  \n",
      "0x27C      0x14  PointerToRawData:              0x10000   \n",
      "0x280      0x18  PointerToRelocations:          0x0       \n",
      "0x284      0x1C  PointerToLinenumbers:          0x0       \n",
      "0x288      0x20  NumberOfRelocations:           0x0       \n",
      "0x28A      0x22  NumberOfLinenumbers:           0x0       \n",
      "0x28C      0x24  Characteristics:               0x40000040\n",
      "------- qwrty_dk2 -------\n",
      "[IMAGE_SECTION_HEADER]\n",
      "0x1D8      0x0   Name:                          UPX0\n",
      "0x1E0      0x8   Misc:                          0x5000    \n",
      "0x1E0      0x8   Misc_PhysicalAddress:          0x5000    \n",
      "0x1E0      0x8   Misc_VirtualSize:              0x5000    \n",
      "0x1E4      0xC   VirtualAddress:                0x1000    \n",
      "0x1E8      0x10  SizeOfRawData:                 0x0       \n",
      "0x1EC      0x14  PointerToRawData:              0x400     \n",
      "0x1F0      0x18  PointerToRelocations:          0x0       \n",
      "0x1F4      0x1C  PointerToLinenumbers:          0x0       \n",
      "0x1F8      0x20  NumberOfRelocations:           0x0       \n",
      "0x1FA      0x22  NumberOfLinenumbers:           0x0       \n",
      "0x1FC      0x24  Characteristics:               0xE0000080\n",
      "[IMAGE_SECTION_HEADER]\n",
      "0x200      0x0   Name:                          UPX1\n",
      "0x208      0x8   Misc:                          0x1000    \n",
      "0x208      0x8   Misc_PhysicalAddress:          0x1000    \n",
      "0x208      0x8   Misc_VirtualSize:              0x1000    \n",
      "0x20C      0xC   VirtualAddress:                0x6000    \n",
      "0x210      0x10  SizeOfRawData:                 0x1000    \n",
      "0x214      0x14  PointerToRawData:              0x400     \n",
      "0x218      0x18  PointerToRelocations:          0x0       \n",
      "0x21C      0x1C  PointerToLinenumbers:          0x0       \n",
      "0x220      0x20  NumberOfRelocations:           0x0       \n",
      "0x222      0x22  NumberOfLinenumbers:           0x0       \n",
      "0x224      0x24  Characteristics:               0xE0000040\n",
      "[IMAGE_SECTION_HEADER]\n",
      "0x228      0x0   Name:                          .rsrc\n",
      "0x230      0x8   Misc:                          0x1000    \n",
      "0x230      0x8   Misc_PhysicalAddress:          0x1000    \n",
      "0x230      0x8   Misc_VirtualSize:              0x1000    \n",
      "0x234      0xC   VirtualAddress:                0x7000    \n",
      "0x238      0x10  SizeOfRawData:                 0x200     \n",
      "0x23C      0x14  PointerToRawData:              0x1400    \n",
      "0x240      0x18  PointerToRelocations:          0x0       \n",
      "0x244      0x1C  PointerToLinenumbers:          0x0       \n",
      "0x248      0x20  NumberOfRelocations:           0x0       \n",
      "0x24A      0x22  NumberOfLinenumbers:           0x0       \n",
      "0x24C      0x24  Characteristics:               0xC0000040\n"
     ]
    }
   ],
   "source": [
    "print('------- vg655_25th -------')\n",
    "for section in vg655_25th.sections:\n",
    "    print(section)\n",
    "print('------- qwrty_dk2 -------')\n",
    "for section in qwrty_dk2.sections:\n",
    "    print(section)"
   ]
  },
  {
   "cell_type": "markdown",
   "metadata": {},
   "source": [
    "Según el paper “Towards Understanding Malware Behaviour by the Extraction of API Calls”,\n",
    "¿en que categoría sospechosas pueden clasificarse estos ejemplos en base a algunas de las\n",
    "llamadas a las APIs que realizan?"
   ]
  },
  {
   "cell_type": "markdown",
   "metadata": {},
   "source": [
    "**SHA256 Hash**"
   ]
  },
  {
   "cell_type": "code",
   "execution_count": 36,
   "metadata": {},
   "outputs": [],
   "source": [
    "from hashlib import sha256"
   ]
  },
  {
   "cell_type": "code",
   "execution_count": 40,
   "metadata": {},
   "outputs": [
    {
     "data": {
      "text/plain": [
       "'ed01ebfbc9eb5bbea545af4d01bf5f1071661840480439c6e5babe8e080e41aa'"
      ]
     },
     "execution_count": 40,
     "metadata": {},
     "output_type": "execute_result"
    }
   ],
   "source": [
    "with open(\"MALWR2/sample_vg655_25th.exe\", \"rb\") as f:\n",
    "    file_hash = sha256()\n",
    "    while chunk := f.read(8192):\n",
    "        file_hash.update(chunk)\n",
    "file_hash.hexdigest()"
   ]
  },
  {
   "cell_type": "markdown",
   "metadata": {},
   "source": [
    "Para el archivo “sample_vg655_25th.exe”, ¿cuál es el propósito de la DLL ADVAPI32.dll?\n",
    "\n",
    "Son llamadas avanzadas de windows. Entre las funcionens que se puede utilizar es encender/apagar la computadora e iniciar procesos de windows.\n",
    "\n",
    "https://stackoverflow.com/questions/9194638/anyone-knows-what-does-advapi-stand-for\n",
    "\n",
    "Para el archivo “sample_vg655_25th.exe”, ¿cuál es el propósito de la API CryptReleaseContext?\n",
    "\n",
    "Se utiliza para liberar la referencia al cryptographic service provider y al key container, esto termina la sesion con el cryptographic service provider lo que causa que todos los objetos y llaves de la sesion ya no sean validos.\n",
    "\n",
    "https://docs.microsoft.com/en-us/windows/win32/api/wincrypt/nf-wincrypt-cryptreleasecontext"
   ]
  },
  {
   "cell_type": "markdown",
   "metadata": {},
   "source": [
    "## Análisis dinámico"
   ]
  },
  {
   "cell_type": "markdown",
   "metadata": {},
   "source": [
    "SRC: https://www.hybrid-analysis.com\n",
    "\n",
    "¿Se corresponde el HASH de la plataforma con el generado?\n",
    "\n",
    "Si, el hash generado por hybrid-analysis corresponde al generado localmente.\n",
    "\n",
    "¿Cuáles el nombre del malware encontrado? ¿En que consiste este malware?\n",
    "\n",
    "El nombre es `owo_im_not_ransomware_xd.exe`, es un [ransomware](https://en.wikipedia.org/wiki/Ransomware)\n",
    "\n",
    "¿Se corresponden las sospechas con el análisis realizado en el punto 7?\n",
    "\n",
    "Si, tiene muchos sentido que utilicen las apis de cryptografia para poder lograr encriptar la informacion del disco y que no sea factible desencriptarla al no tener llaves validas."
   ]
  },
  {
   "cell_type": "markdown",
   "metadata": {},
   "source": [
    "# Parte 2 - Clasificación de malware en base a secuencias de llamadas a las APIs "
   ]
  },
  {
   "cell_type": "markdown",
   "metadata": {},
   "source": [
    "Exploración de datos"
   ]
  },
  {
   "cell_type": "code",
   "execution_count": 34,
   "metadata": {},
   "outputs": [],
   "source": [
    "import pandas as pd\n",
    "import matplotlib.pyplot as plt \n",
    "import pandas as pd"
   ]
  },
  {
   "cell_type": "code",
   "execution_count": 35,
   "metadata": {},
   "outputs": [],
   "source": [
    "df = pd.read_csv(\"VirusSample.csv\")"
   ]
  },
  {
   "cell_type": "code",
   "execution_count": 36,
   "metadata": {},
   "outputs": [
    {
     "data": {
      "text/html": [
       "<div>\n",
       "<style scoped>\n",
       "    .dataframe tbody tr th:only-of-type {\n",
       "        vertical-align: middle;\n",
       "    }\n",
       "\n",
       "    .dataframe tbody tr th {\n",
       "        vertical-align: top;\n",
       "    }\n",
       "\n",
       "    .dataframe thead th {\n",
       "        text-align: right;\n",
       "    }\n",
       "</style>\n",
       "<table border=\"1\" class=\"dataframe\">\n",
       "  <thead>\n",
       "    <tr style=\"text-align: right;\">\n",
       "      <th></th>\n",
       "      <th>file</th>\n",
       "      <th>api</th>\n",
       "      <th>class</th>\n",
       "    </tr>\n",
       "  </thead>\n",
       "  <tbody>\n",
       "    <tr>\n",
       "      <th>0</th>\n",
       "      <td>7ff49f2f0912352416b05c010f35f402cc79feed</td>\n",
       "      <td>IntersectRect,GetCurrentProcess,GetVersion</td>\n",
       "      <td>Virus</td>\n",
       "    </tr>\n",
       "    <tr>\n",
       "      <th>1</th>\n",
       "      <td>50cc6c99ec285d0db45dde07d8fdc18d9098c5b6</td>\n",
       "      <td>GetCaretBlinkTime,CountClipboardFormats,GetCon...</td>\n",
       "      <td>Virus</td>\n",
       "    </tr>\n",
       "    <tr>\n",
       "      <th>2</th>\n",
       "      <td>f77c6bd4aebacd1a01d02e0cb20642ebf2d32929</td>\n",
       "      <td>VarR8Pow,GetClipboardViewer,GetInputDesktop,Ge...</td>\n",
       "      <td>Virus</td>\n",
       "    </tr>\n",
       "    <tr>\n",
       "      <th>3</th>\n",
       "      <td>349c367c5b88fbb6cafae5d7109588d7250e16b5</td>\n",
       "      <td>SetTraceCallback,CopyAcceleratorTableW,GetProc...</td>\n",
       "      <td>Virus</td>\n",
       "    </tr>\n",
       "    <tr>\n",
       "      <th>4</th>\n",
       "      <td>021f4aa86b520e1d606ab26699c35546bcd00c27</td>\n",
       "      <td>SHLoadNonloadedIconOverlayIdentifiers,VarUI8Fr...</td>\n",
       "      <td>Virus</td>\n",
       "    </tr>\n",
       "  </tbody>\n",
       "</table>\n",
       "</div>"
      ],
      "text/plain": [
       "                                       file  \\\n",
       "0  7ff49f2f0912352416b05c010f35f402cc79feed   \n",
       "1  50cc6c99ec285d0db45dde07d8fdc18d9098c5b6   \n",
       "2  f77c6bd4aebacd1a01d02e0cb20642ebf2d32929   \n",
       "3  349c367c5b88fbb6cafae5d7109588d7250e16b5   \n",
       "4  021f4aa86b520e1d606ab26699c35546bcd00c27   \n",
       "\n",
       "                                                 api  class  \n",
       "0         IntersectRect,GetCurrentProcess,GetVersion  Virus  \n",
       "1  GetCaretBlinkTime,CountClipboardFormats,GetCon...  Virus  \n",
       "2  VarR8Pow,GetClipboardViewer,GetInputDesktop,Ge...  Virus  \n",
       "3  SetTraceCallback,CopyAcceleratorTableW,GetProc...  Virus  \n",
       "4  SHLoadNonloadedIconOverlayIdentifiers,VarUI8Fr...  Virus  "
      ]
     },
     "execution_count": 36,
     "metadata": {},
     "output_type": "execute_result"
    }
   ],
   "source": [
    "#general\n",
    "df.head()"
   ]
  },
  {
   "cell_type": "code",
   "execution_count": 37,
   "metadata": {},
   "outputs": [
    {
     "name": "stdout",
     "output_type": "stream",
     "text": [
      "<class 'pandas.core.frame.DataFrame'>\n",
      "RangeIndex: 9795 entries, 0 to 9794\n",
      "Data columns (total 3 columns):\n",
      " #   Column  Non-Null Count  Dtype \n",
      "---  ------  --------------  ----- \n",
      " 0   file    9795 non-null   object\n",
      " 1   api     9795 non-null   object\n",
      " 2   class   9795 non-null   object\n",
      "dtypes: object(3)\n",
      "memory usage: 229.7+ KB\n"
     ]
    }
   ],
   "source": [
    "#tipos de variable\n",
    "df.dtypes\n",
    "df.info()"
   ]
  },
  {
   "cell_type": "markdown",
   "metadata": {},
   "source": [
    "Implementación"
   ]
  },
  {
   "cell_type": "code",
   "execution_count": 28,
   "metadata": {},
   "outputs": [],
   "source": [
    "df['class'] = df['class'].replace(['Virus'],'1')"
   ]
  },
  {
   "cell_type": "code",
   "execution_count": 29,
   "metadata": {},
   "outputs": [],
   "source": [
    "df['class'] = df['class'].replace(['Trojan'],'2')"
   ]
  },
  {
   "cell_type": "code",
   "execution_count": 30,
   "metadata": {},
   "outputs": [],
   "source": [
    "df['class'] = df['class'].replace(['Backdoor'],'3')"
   ]
  },
  {
   "cell_type": "code",
   "execution_count": 31,
   "metadata": {},
   "outputs": [],
   "source": [
    "df['class'] = df['class'].replace(['Worms'],'4')"
   ]
  },
  {
   "cell_type": "code",
   "execution_count": 32,
   "metadata": {},
   "outputs": [],
   "source": [
    "df['class'] = df['class'].replace(['Adware'],'5')"
   ]
  },
  {
   "cell_type": "code",
   "execution_count": 33,
   "metadata": {},
   "outputs": [
    {
     "data": {
      "text/html": [
       "<div>\n",
       "<style scoped>\n",
       "    .dataframe tbody tr th:only-of-type {\n",
       "        vertical-align: middle;\n",
       "    }\n",
       "\n",
       "    .dataframe tbody tr th {\n",
       "        vertical-align: top;\n",
       "    }\n",
       "\n",
       "    .dataframe thead th {\n",
       "        text-align: right;\n",
       "    }\n",
       "</style>\n",
       "<table border=\"1\" class=\"dataframe\">\n",
       "  <thead>\n",
       "    <tr style=\"text-align: right;\">\n",
       "      <th></th>\n",
       "      <th>file</th>\n",
       "      <th>api</th>\n",
       "      <th>class</th>\n",
       "    </tr>\n",
       "  </thead>\n",
       "  <tbody>\n",
       "    <tr>\n",
       "      <th>0</th>\n",
       "      <td>7ff49f2f0912352416b05c010f35f402cc79feed</td>\n",
       "      <td>IntersectRect,GetCurrentProcess,GetVersion</td>\n",
       "      <td>1</td>\n",
       "    </tr>\n",
       "    <tr>\n",
       "      <th>1</th>\n",
       "      <td>50cc6c99ec285d0db45dde07d8fdc18d9098c5b6</td>\n",
       "      <td>GetCaretBlinkTime,CountClipboardFormats,GetCon...</td>\n",
       "      <td>1</td>\n",
       "    </tr>\n",
       "    <tr>\n",
       "      <th>2</th>\n",
       "      <td>f77c6bd4aebacd1a01d02e0cb20642ebf2d32929</td>\n",
       "      <td>VarR8Pow,GetClipboardViewer,GetInputDesktop,Ge...</td>\n",
       "      <td>1</td>\n",
       "    </tr>\n",
       "    <tr>\n",
       "      <th>3</th>\n",
       "      <td>349c367c5b88fbb6cafae5d7109588d7250e16b5</td>\n",
       "      <td>SetTraceCallback,CopyAcceleratorTableW,GetProc...</td>\n",
       "      <td>1</td>\n",
       "    </tr>\n",
       "    <tr>\n",
       "      <th>4</th>\n",
       "      <td>021f4aa86b520e1d606ab26699c35546bcd00c27</td>\n",
       "      <td>SHLoadNonloadedIconOverlayIdentifiers,VarUI8Fr...</td>\n",
       "      <td>1</td>\n",
       "    </tr>\n",
       "    <tr>\n",
       "      <th>...</th>\n",
       "      <td>...</td>\n",
       "      <td>...</td>\n",
       "      <td>...</td>\n",
       "    </tr>\n",
       "    <tr>\n",
       "      <th>9790</th>\n",
       "      <td>3b91b43ad8a25a8e9e52f938473f5bb05fb4d530ff4b22...</td>\n",
       "      <td>NtResetWriteWatch,GetClipboardViewer,GetConsol...</td>\n",
       "      <td>2</td>\n",
       "    </tr>\n",
       "    <tr>\n",
       "      <th>9791</th>\n",
       "      <td>54315d591d2855fc794ba5f61012efdd92b489576e4aa5...</td>\n",
       "      <td>RtlpNtEnumerateSubKey,NtFlushWriteBuffer,ReadC...</td>\n",
       "      <td>2</td>\n",
       "    </tr>\n",
       "    <tr>\n",
       "      <th>9792</th>\n",
       "      <td>dcb7507fa10537d2e3da2ea22ec6346e02a0926ad64d76...</td>\n",
       "      <td>ZwNotifyChangeDirectoryFile,GetCursor,GetConso...</td>\n",
       "      <td>2</td>\n",
       "    </tr>\n",
       "    <tr>\n",
       "      <th>9793</th>\n",
       "      <td>cf441d0a2de25c6207fc782e190ce5302171d5e28ce41b...</td>\n",
       "      <td>ILSaveToStream,OleQueryLinkFromData,VarUdateFr...</td>\n",
       "      <td>2</td>\n",
       "    </tr>\n",
       "    <tr>\n",
       "      <th>9794</th>\n",
       "      <td>be7d4be8e48719257d6040c3e9a1f6f15bc2616ca22276...</td>\n",
       "      <td>SwitchToFiber,GetUserDefaultLCID,GetCurrentThr...</td>\n",
       "      <td>2</td>\n",
       "    </tr>\n",
       "  </tbody>\n",
       "</table>\n",
       "<p>9795 rows × 3 columns</p>\n",
       "</div>"
      ],
      "text/plain": [
       "                                                   file  \\\n",
       "0              7ff49f2f0912352416b05c010f35f402cc79feed   \n",
       "1              50cc6c99ec285d0db45dde07d8fdc18d9098c5b6   \n",
       "2              f77c6bd4aebacd1a01d02e0cb20642ebf2d32929   \n",
       "3              349c367c5b88fbb6cafae5d7109588d7250e16b5   \n",
       "4              021f4aa86b520e1d606ab26699c35546bcd00c27   \n",
       "...                                                 ...   \n",
       "9790  3b91b43ad8a25a8e9e52f938473f5bb05fb4d530ff4b22...   \n",
       "9791  54315d591d2855fc794ba5f61012efdd92b489576e4aa5...   \n",
       "9792  dcb7507fa10537d2e3da2ea22ec6346e02a0926ad64d76...   \n",
       "9793  cf441d0a2de25c6207fc782e190ce5302171d5e28ce41b...   \n",
       "9794  be7d4be8e48719257d6040c3e9a1f6f15bc2616ca22276...   \n",
       "\n",
       "                                                    api class  \n",
       "0            IntersectRect,GetCurrentProcess,GetVersion     1  \n",
       "1     GetCaretBlinkTime,CountClipboardFormats,GetCon...     1  \n",
       "2     VarR8Pow,GetClipboardViewer,GetInputDesktop,Ge...     1  \n",
       "3     SetTraceCallback,CopyAcceleratorTableW,GetProc...     1  \n",
       "4     SHLoadNonloadedIconOverlayIdentifiers,VarUI8Fr...     1  \n",
       "...                                                 ...   ...  \n",
       "9790  NtResetWriteWatch,GetClipboardViewer,GetConsol...     2  \n",
       "9791  RtlpNtEnumerateSubKey,NtFlushWriteBuffer,ReadC...     2  \n",
       "9792  ZwNotifyChangeDirectoryFile,GetCursor,GetConso...     2  \n",
       "9793  ILSaveToStream,OleQueryLinkFromData,VarUdateFr...     2  \n",
       "9794  SwitchToFiber,GetUserDefaultLCID,GetCurrentThr...     2  \n",
       "\n",
       "[9795 rows x 3 columns]"
      ]
     },
     "execution_count": 33,
     "metadata": {},
     "output_type": "execute_result"
    }
   ],
   "source": [
    "df"
   ]
  },
  {
   "cell_type": "code",
   "execution_count": null,
   "metadata": {},
   "outputs": [],
   "source": []
  }
 ],
 "metadata": {
  "kernelspec": {
   "display_name": "Python 3",
   "language": "python",
   "name": "python3"
  },
  "language_info": {
   "codemirror_mode": {
    "name": "ipython",
    "version": 3
   },
   "file_extension": ".py",
   "mimetype": "text/x-python",
   "name": "python",
   "nbconvert_exporter": "python",
   "pygments_lexer": "ipython3",
   "version": "3.8.5"
  }
 },
 "nbformat": 4,
 "nbformat_minor": 5
}
