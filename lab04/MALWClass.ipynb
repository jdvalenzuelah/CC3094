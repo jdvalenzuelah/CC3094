{
 "cells": [
  {
   "cell_type": "markdown",
   "id": "2e7fa2c5-a0f1-4b9c-b1b7-87a278d13797",
   "metadata": {},
   "source": [
    "# Laboratorio #4 – Clasificación de Malware\n",
    "## Parte 1 - Análisis de un malware"
   ]
  },
  {
   "cell_type": "code",
   "execution_count": 13,
   "id": "a32fc4f8-80a5-4e25-ba26-f6768187086e",
   "metadata": {},
   "outputs": [],
   "source": [
    "from pefile import PE\n",
    "from typing import Dict"
   ]
  },
  {
   "cell_type": "markdown",
   "id": "16a56606-fd27-45e0-a324-1a9498c0e760",
   "metadata": {},
   "source": [
    "## Análisis estático"
   ]
  },
  {
   "cell_type": "code",
   "execution_count": 16,
   "id": "751cfe71-4aa7-4ae2-a84a-59a80cabcb28",
   "metadata": {},
   "outputs": [],
   "source": [
    "vg655_25th = PE('MALWR2/sample_vg655_25th.exe')\n",
    "qwrty_dk2 = PE('MALWR2/sample_qwrty_dk2')"
   ]
  },
  {
   "cell_type": "code",
   "execution_count": 20,
   "id": "f6de209f-d25f-4c10-b7fb-100bf1596b1c",
   "metadata": {},
   "outputs": [],
   "source": [
    "def entry_import_info(pe: PE) -> Dict:\n",
    "    dlls = []\n",
    "    fun_calls = []\n",
    "    for entry in pe.DIRECTORY_ENTRY_IMPORT:\n",
    "        dlls.append(entry.dll)\n",
    "        fun_calls.extend([fun.name for fun in entry.imports])\n",
    "    return {'dlls': dlls, 'fun_calls': fun_calls}\n",
    "    "
   ]
  },
  {
   "cell_type": "code",
   "execution_count": 21,
   "id": "1036726c-cd28-4aca-b316-1142292fa8e8",
   "metadata": {},
   "outputs": [
    {
     "data": {
      "text/plain": [
       "{'dlls': [b'KERNEL32.dll', b'USER32.dll', b'ADVAPI32.dll', b'MSVCRT.dll'],\n",
       " 'fun_calls': [b'GetFileAttributesW',\n",
       "  b'GetFileSizeEx',\n",
       "  b'CreateFileA',\n",
       "  b'InitializeCriticalSection',\n",
       "  b'DeleteCriticalSection',\n",
       "  b'ReadFile',\n",
       "  b'GetFileSize',\n",
       "  b'WriteFile',\n",
       "  b'LeaveCriticalSection',\n",
       "  b'EnterCriticalSection',\n",
       "  b'SetFileAttributesW',\n",
       "  b'SetCurrentDirectoryW',\n",
       "  b'CreateDirectoryW',\n",
       "  b'GetTempPathW',\n",
       "  b'GetWindowsDirectoryW',\n",
       "  b'GetFileAttributesA',\n",
       "  b'SizeofResource',\n",
       "  b'LockResource',\n",
       "  b'LoadResource',\n",
       "  b'MultiByteToWideChar',\n",
       "  b'Sleep',\n",
       "  b'OpenMutexA',\n",
       "  b'GetFullPathNameA',\n",
       "  b'CopyFileA',\n",
       "  b'GetModuleFileNameA',\n",
       "  b'VirtualAlloc',\n",
       "  b'VirtualFree',\n",
       "  b'FreeLibrary',\n",
       "  b'HeapAlloc',\n",
       "  b'GetProcessHeap',\n",
       "  b'GetModuleHandleA',\n",
       "  b'SetLastError',\n",
       "  b'VirtualProtect',\n",
       "  b'IsBadReadPtr',\n",
       "  b'HeapFree',\n",
       "  b'SystemTimeToFileTime',\n",
       "  b'LocalFileTimeToFileTime',\n",
       "  b'CreateDirectoryA',\n",
       "  b'GetStartupInfoA',\n",
       "  b'SetFilePointer',\n",
       "  b'SetFileTime',\n",
       "  b'GetComputerNameW',\n",
       "  b'GetCurrentDirectoryA',\n",
       "  b'SetCurrentDirectoryA',\n",
       "  b'GlobalAlloc',\n",
       "  b'LoadLibraryA',\n",
       "  b'GetProcAddress',\n",
       "  b'GlobalFree',\n",
       "  b'CreateProcessA',\n",
       "  b'CloseHandle',\n",
       "  b'WaitForSingleObject',\n",
       "  b'TerminateProcess',\n",
       "  b'GetExitCodeProcess',\n",
       "  b'FindResourceA',\n",
       "  b'wsprintfA',\n",
       "  b'CreateServiceA',\n",
       "  b'OpenServiceA',\n",
       "  b'StartServiceA',\n",
       "  b'CloseServiceHandle',\n",
       "  b'CryptReleaseContext',\n",
       "  b'RegCreateKeyW',\n",
       "  b'RegSetValueExA',\n",
       "  b'RegQueryValueExA',\n",
       "  b'RegCloseKey',\n",
       "  b'OpenSCManagerA',\n",
       "  b'realloc',\n",
       "  b'fclose',\n",
       "  b'fwrite',\n",
       "  b'fread',\n",
       "  b'fopen',\n",
       "  b'sprintf',\n",
       "  b'rand',\n",
       "  b'srand',\n",
       "  b'strcpy',\n",
       "  b'memset',\n",
       "  b'strlen',\n",
       "  b'wcscat',\n",
       "  b'wcslen',\n",
       "  b'__CxxFrameHandler',\n",
       "  b'??3@YAXPAX@Z',\n",
       "  b'memcmp',\n",
       "  b'_except_handler3',\n",
       "  b'_local_unwind2',\n",
       "  b'wcsrchr',\n",
       "  b'swprintf',\n",
       "  b'??2@YAPAXI@Z',\n",
       "  b'memcpy',\n",
       "  b'strcmp',\n",
       "  b'strrchr',\n",
       "  b'__p___argv',\n",
       "  b'__p___argc',\n",
       "  b'_stricmp',\n",
       "  b'free',\n",
       "  b'malloc',\n",
       "  b'??0exception@@QAE@ABV0@@Z',\n",
       "  b'??1exception@@UAE@XZ',\n",
       "  b'??0exception@@QAE@ABQBD@Z',\n",
       "  b'_CxxThrowException',\n",
       "  b'calloc',\n",
       "  b'strcat',\n",
       "  b'_mbsstr',\n",
       "  b'??1type_info@@UAE@XZ',\n",
       "  b'_exit',\n",
       "  b'_XcptFilter',\n",
       "  b'exit',\n",
       "  b'_acmdln',\n",
       "  b'__getmainargs',\n",
       "  b'_initterm',\n",
       "  b'__setusermatherr',\n",
       "  b'_adjust_fdiv',\n",
       "  b'__p__commode',\n",
       "  b'__p__fmode',\n",
       "  b'__set_app_type',\n",
       "  b'_controlfp']}"
      ]
     },
     "execution_count": 21,
     "metadata": {},
     "output_type": "execute_result"
    }
   ],
   "source": [
    "entry_import_info(vg655_25th)"
   ]
  },
  {
   "cell_type": "code",
   "execution_count": 22,
   "id": "251384f8-77d9-4c19-ad6b-4227dc4909fc",
   "metadata": {},
   "outputs": [
    {
     "data": {
      "text/plain": [
       "{'dlls': [b'KERNEL32.DLL',\n",
       "  b'MSVCRT.dll',\n",
       "  b'SHELL32.dll',\n",
       "  b'USER32.dll',\n",
       "  b'WS2_32.dll'],\n",
       " 'fun_calls': [b'LoadLibraryA',\n",
       "  b'ExitProcess',\n",
       "  b'GetProcAddress',\n",
       "  b'VirtualProtect',\n",
       "  b'atol',\n",
       "  b'SHChangeNotify',\n",
       "  b'LoadStringA',\n",
       "  b'closesocket']}"
      ]
     },
     "execution_count": 22,
     "metadata": {},
     "output_type": "execute_result"
    }
   ],
   "source": [
    "entry_import_info(qwrty_dk2)"
   ]
  },
  {
   "cell_type": "markdown",
   "id": "816346bd-27dd-48a2-b358-dea741022621",
   "metadata": {},
   "source": [
    "¿Qué diferencias observa entre los ejemplos? \n",
    "\n",
    "En vg655_25th la cantidad de funciones utilizadas es mucho mayor que las funciones en qwrty_dk2. Algunos dlls cambian, pero no hay una gran diferencia en el numero de dlls.\n",
    "\n",
    "¿Existe algún indicio sospechoso en la cantidad de DLLs y las APIs llamadas?\n",
    "\n",
    "La poca cantidad de llamadas en qwrty_dk2 es sospechoso, pueden que esten empaquetadas. Ademas de algunos dlls, como `SHELL32.dll` tambien parecen sospechosos."
   ]
  },
  {
   "cell_type": "code",
   "execution_count": 32,
   "id": "bda027cf-a38a-49ac-9054-fc7089495250",
   "metadata": {},
   "outputs": [
    {
     "name": "stdout",
     "output_type": "stream",
     "text": [
      "------- vg655_25th -------\n",
      "[IMAGE_SECTION_HEADER]\n",
      "0x1F0      0x0   Name:                          .text\n",
      "0x1F8      0x8   Misc:                          0x69B0    \n",
      "0x1F8      0x8   Misc_PhysicalAddress:          0x69B0    \n",
      "0x1F8      0x8   Misc_VirtualSize:              0x69B0    \n",
      "0x1FC      0xC   VirtualAddress:                0x1000    \n",
      "0x200      0x10  SizeOfRawData:                 0x7000    \n",
      "0x204      0x14  PointerToRawData:              0x1000    \n",
      "0x208      0x18  PointerToRelocations:          0x0       \n",
      "0x20C      0x1C  PointerToLinenumbers:          0x0       \n",
      "0x210      0x20  NumberOfRelocations:           0x0       \n",
      "0x212      0x22  NumberOfLinenumbers:           0x0       \n",
      "0x214      0x24  Characteristics:               0x60000020\n",
      "[IMAGE_SECTION_HEADER]\n",
      "0x218      0x0   Name:                          .rdata\n",
      "0x220      0x8   Misc:                          0x5F70    \n",
      "0x220      0x8   Misc_PhysicalAddress:          0x5F70    \n",
      "0x220      0x8   Misc_VirtualSize:              0x5F70    \n",
      "0x224      0xC   VirtualAddress:                0x8000    \n",
      "0x228      0x10  SizeOfRawData:                 0x6000    \n",
      "0x22C      0x14  PointerToRawData:              0x8000    \n",
      "0x230      0x18  PointerToRelocations:          0x0       \n",
      "0x234      0x1C  PointerToLinenumbers:          0x0       \n",
      "0x238      0x20  NumberOfRelocations:           0x0       \n",
      "0x23A      0x22  NumberOfLinenumbers:           0x0       \n",
      "0x23C      0x24  Characteristics:               0x40000040\n",
      "[IMAGE_SECTION_HEADER]\n",
      "0x240      0x0   Name:                          .data\n",
      "0x248      0x8   Misc:                          0x1958    \n",
      "0x248      0x8   Misc_PhysicalAddress:          0x1958    \n",
      "0x248      0x8   Misc_VirtualSize:              0x1958    \n",
      "0x24C      0xC   VirtualAddress:                0xE000    \n",
      "0x250      0x10  SizeOfRawData:                 0x2000    \n",
      "0x254      0x14  PointerToRawData:              0xE000    \n",
      "0x258      0x18  PointerToRelocations:          0x0       \n",
      "0x25C      0x1C  PointerToLinenumbers:          0x0       \n",
      "0x260      0x20  NumberOfRelocations:           0x0       \n",
      "0x262      0x22  NumberOfLinenumbers:           0x0       \n",
      "0x264      0x24  Characteristics:               0xC0000040\n",
      "[IMAGE_SECTION_HEADER]\n",
      "0x268      0x0   Name:                          .rsrc\n",
      "0x270      0x8   Misc:                          0x349FA0  \n",
      "0x270      0x8   Misc_PhysicalAddress:          0x349FA0  \n",
      "0x270      0x8   Misc_VirtualSize:              0x349FA0  \n",
      "0x274      0xC   VirtualAddress:                0x10000   \n",
      "0x278      0x10  SizeOfRawData:                 0x34A000  \n",
      "0x27C      0x14  PointerToRawData:              0x10000   \n",
      "0x280      0x18  PointerToRelocations:          0x0       \n",
      "0x284      0x1C  PointerToLinenumbers:          0x0       \n",
      "0x288      0x20  NumberOfRelocations:           0x0       \n",
      "0x28A      0x22  NumberOfLinenumbers:           0x0       \n",
      "0x28C      0x24  Characteristics:               0x40000040\n",
      "------- qwrty_dk2 -------\n",
      "[IMAGE_SECTION_HEADER]\n",
      "0x1D8      0x0   Name:                          UPX0\n",
      "0x1E0      0x8   Misc:                          0x5000    \n",
      "0x1E0      0x8   Misc_PhysicalAddress:          0x5000    \n",
      "0x1E0      0x8   Misc_VirtualSize:              0x5000    \n",
      "0x1E4      0xC   VirtualAddress:                0x1000    \n",
      "0x1E8      0x10  SizeOfRawData:                 0x0       \n",
      "0x1EC      0x14  PointerToRawData:              0x400     \n",
      "0x1F0      0x18  PointerToRelocations:          0x0       \n",
      "0x1F4      0x1C  PointerToLinenumbers:          0x0       \n",
      "0x1F8      0x20  NumberOfRelocations:           0x0       \n",
      "0x1FA      0x22  NumberOfLinenumbers:           0x0       \n",
      "0x1FC      0x24  Characteristics:               0xE0000080\n",
      "[IMAGE_SECTION_HEADER]\n",
      "0x200      0x0   Name:                          UPX1\n",
      "0x208      0x8   Misc:                          0x1000    \n",
      "0x208      0x8   Misc_PhysicalAddress:          0x1000    \n",
      "0x208      0x8   Misc_VirtualSize:              0x1000    \n",
      "0x20C      0xC   VirtualAddress:                0x6000    \n",
      "0x210      0x10  SizeOfRawData:                 0x1000    \n",
      "0x214      0x14  PointerToRawData:              0x400     \n",
      "0x218      0x18  PointerToRelocations:          0x0       \n",
      "0x21C      0x1C  PointerToLinenumbers:          0x0       \n",
      "0x220      0x20  NumberOfRelocations:           0x0       \n",
      "0x222      0x22  NumberOfLinenumbers:           0x0       \n",
      "0x224      0x24  Characteristics:               0xE0000040\n",
      "[IMAGE_SECTION_HEADER]\n",
      "0x228      0x0   Name:                          .rsrc\n",
      "0x230      0x8   Misc:                          0x1000    \n",
      "0x230      0x8   Misc_PhysicalAddress:          0x1000    \n",
      "0x230      0x8   Misc_VirtualSize:              0x1000    \n",
      "0x234      0xC   VirtualAddress:                0x7000    \n",
      "0x238      0x10  SizeOfRawData:                 0x200     \n",
      "0x23C      0x14  PointerToRawData:              0x1400    \n",
      "0x240      0x18  PointerToRelocations:          0x0       \n",
      "0x244      0x1C  PointerToLinenumbers:          0x0       \n",
      "0x248      0x20  NumberOfRelocations:           0x0       \n",
      "0x24A      0x22  NumberOfLinenumbers:           0x0       \n",
      "0x24C      0x24  Characteristics:               0xC0000040\n"
     ]
    }
   ],
   "source": [
    "print('------- vg655_25th -------')\n",
    "for section in vg655_25th.sections:\n",
    "    print(section)\n",
    "print('------- qwrty_dk2 -------')\n",
    "for section in qwrty_dk2.sections:\n",
    "    print(section)"
   ]
  },
  {
   "cell_type": "markdown",
   "id": "ffd2262c-f967-40a6-97ee-bb105eb86358",
   "metadata": {},
   "source": [
    "¿Qué significa que algunas secciones tengan como parte de su nombre “upx”?\n",
    "\n",
    "Significa que las llamadas estan empaquetdas. Tal como se sospechaba con qwrty_dk2, las llamadas parecen estar empaquetadas."
   ]
  },
  {
   "cell_type": "code",
   "execution_count": 30,
   "id": "79bf2ca5-e0d9-48f4-bd6f-d55764da8485",
   "metadata": {},
   "outputs": [
    {
     "data": {
      "text/plain": [
       "['                       Ultimate Packer for eXecutables',\n",
       " '                          Copyright (C) 1996 - 2020',\n",
       " 'UPX 3.96        Markus Oberhumer, Laszlo Molnar & John Reiser   Jan 23rd 2020',\n",
       " '',\n",
       " '        File size         Ratio      Format      Name',\n",
       " '   --------------------   ------   -----------   -----------',\n",
       " 'upx: MALWR2/sample_vg655_25th.exe: NotPackedException: not packed by UPX',\n",
       " '',\n",
       " 'Unpacked 0 files.']"
      ]
     },
     "execution_count": 30,
     "metadata": {},
     "output_type": "execute_result"
    }
   ],
   "source": [
    "!! upx -d MALWR2/sample_vg655_25th.exe"
   ]
  },
  {
   "cell_type": "code",
   "execution_count": 31,
   "id": "000dbb65-b933-4322-a442-ba50ff2329ed",
   "metadata": {},
   "outputs": [
    {
     "data": {
      "text/plain": [
       "['                       Ultimate Packer for eXecutables',\n",
       " '                          Copyright (C) 1996 - 2020',\n",
       " 'UPX 3.96        Markus Oberhumer, Laszlo Molnar & John Reiser   Jan 23rd 2020',\n",
       " '',\n",
       " '        File size         Ratio      Format      Name',\n",
       " '   --------------------   ------   -----------   -----------',\n",
       " 'upx: MALWR2/qwrty_dk2.exe: FileNotFoundException: MALWR2/qwrty_dk2.exe: No such file or directory',\n",
       " '',\n",
       " 'Unpacked 0 files.']"
      ]
     },
     "execution_count": 31,
     "metadata": {},
     "output_type": "execute_result"
    }
   ],
   "source": [
    "!! upx -d MALWR2/qwrty_dk2.exe"
   ]
  },
  {
   "cell_type": "code",
   "execution_count": 33,
   "id": "57db826c-d281-4c64-b00c-68e47247208f",
   "metadata": {},
   "outputs": [],
   "source": [
    "vg655_25th = PE('MALWR2/sample_vg655_25th.exe')\n",
    "qwrty_dk2 = PE('MALWR2/sample_qwrty_dk2')"
   ]
  },
  {
   "cell_type": "code",
   "execution_count": 34,
   "id": "ba9a0451-b079-47a9-907d-011d78077096",
   "metadata": {},
   "outputs": [
    {
     "name": "stdout",
     "output_type": "stream",
     "text": [
      "------- vg655_25th -------\n",
      "[IMAGE_SECTION_HEADER]\n",
      "0x1F0      0x0   Name:                          .text\n",
      "0x1F8      0x8   Misc:                          0x69B0    \n",
      "0x1F8      0x8   Misc_PhysicalAddress:          0x69B0    \n",
      "0x1F8      0x8   Misc_VirtualSize:              0x69B0    \n",
      "0x1FC      0xC   VirtualAddress:                0x1000    \n",
      "0x200      0x10  SizeOfRawData:                 0x7000    \n",
      "0x204      0x14  PointerToRawData:              0x1000    \n",
      "0x208      0x18  PointerToRelocations:          0x0       \n",
      "0x20C      0x1C  PointerToLinenumbers:          0x0       \n",
      "0x210      0x20  NumberOfRelocations:           0x0       \n",
      "0x212      0x22  NumberOfLinenumbers:           0x0       \n",
      "0x214      0x24  Characteristics:               0x60000020\n",
      "[IMAGE_SECTION_HEADER]\n",
      "0x218      0x0   Name:                          .rdata\n",
      "0x220      0x8   Misc:                          0x5F70    \n",
      "0x220      0x8   Misc_PhysicalAddress:          0x5F70    \n",
      "0x220      0x8   Misc_VirtualSize:              0x5F70    \n",
      "0x224      0xC   VirtualAddress:                0x8000    \n",
      "0x228      0x10  SizeOfRawData:                 0x6000    \n",
      "0x22C      0x14  PointerToRawData:              0x8000    \n",
      "0x230      0x18  PointerToRelocations:          0x0       \n",
      "0x234      0x1C  PointerToLinenumbers:          0x0       \n",
      "0x238      0x20  NumberOfRelocations:           0x0       \n",
      "0x23A      0x22  NumberOfLinenumbers:           0x0       \n",
      "0x23C      0x24  Characteristics:               0x40000040\n",
      "[IMAGE_SECTION_HEADER]\n",
      "0x240      0x0   Name:                          .data\n",
      "0x248      0x8   Misc:                          0x1958    \n",
      "0x248      0x8   Misc_PhysicalAddress:          0x1958    \n",
      "0x248      0x8   Misc_VirtualSize:              0x1958    \n",
      "0x24C      0xC   VirtualAddress:                0xE000    \n",
      "0x250      0x10  SizeOfRawData:                 0x2000    \n",
      "0x254      0x14  PointerToRawData:              0xE000    \n",
      "0x258      0x18  PointerToRelocations:          0x0       \n",
      "0x25C      0x1C  PointerToLinenumbers:          0x0       \n",
      "0x260      0x20  NumberOfRelocations:           0x0       \n",
      "0x262      0x22  NumberOfLinenumbers:           0x0       \n",
      "0x264      0x24  Characteristics:               0xC0000040\n",
      "[IMAGE_SECTION_HEADER]\n",
      "0x268      0x0   Name:                          .rsrc\n",
      "0x270      0x8   Misc:                          0x349FA0  \n",
      "0x270      0x8   Misc_PhysicalAddress:          0x349FA0  \n",
      "0x270      0x8   Misc_VirtualSize:              0x349FA0  \n",
      "0x274      0xC   VirtualAddress:                0x10000   \n",
      "0x278      0x10  SizeOfRawData:                 0x34A000  \n",
      "0x27C      0x14  PointerToRawData:              0x10000   \n",
      "0x280      0x18  PointerToRelocations:          0x0       \n",
      "0x284      0x1C  PointerToLinenumbers:          0x0       \n",
      "0x288      0x20  NumberOfRelocations:           0x0       \n",
      "0x28A      0x22  NumberOfLinenumbers:           0x0       \n",
      "0x28C      0x24  Characteristics:               0x40000040\n",
      "------- qwrty_dk2 -------\n",
      "[IMAGE_SECTION_HEADER]\n",
      "0x1D8      0x0   Name:                          UPX0\n",
      "0x1E0      0x8   Misc:                          0x5000    \n",
      "0x1E0      0x8   Misc_PhysicalAddress:          0x5000    \n",
      "0x1E0      0x8   Misc_VirtualSize:              0x5000    \n",
      "0x1E4      0xC   VirtualAddress:                0x1000    \n",
      "0x1E8      0x10  SizeOfRawData:                 0x0       \n",
      "0x1EC      0x14  PointerToRawData:              0x400     \n",
      "0x1F0      0x18  PointerToRelocations:          0x0       \n",
      "0x1F4      0x1C  PointerToLinenumbers:          0x0       \n",
      "0x1F8      0x20  NumberOfRelocations:           0x0       \n",
      "0x1FA      0x22  NumberOfLinenumbers:           0x0       \n",
      "0x1FC      0x24  Characteristics:               0xE0000080\n",
      "[IMAGE_SECTION_HEADER]\n",
      "0x200      0x0   Name:                          UPX1\n",
      "0x208      0x8   Misc:                          0x1000    \n",
      "0x208      0x8   Misc_PhysicalAddress:          0x1000    \n",
      "0x208      0x8   Misc_VirtualSize:              0x1000    \n",
      "0x20C      0xC   VirtualAddress:                0x6000    \n",
      "0x210      0x10  SizeOfRawData:                 0x1000    \n",
      "0x214      0x14  PointerToRawData:              0x400     \n",
      "0x218      0x18  PointerToRelocations:          0x0       \n",
      "0x21C      0x1C  PointerToLinenumbers:          0x0       \n",
      "0x220      0x20  NumberOfRelocations:           0x0       \n",
      "0x222      0x22  NumberOfLinenumbers:           0x0       \n",
      "0x224      0x24  Characteristics:               0xE0000040\n",
      "[IMAGE_SECTION_HEADER]\n",
      "0x228      0x0   Name:                          .rsrc\n",
      "0x230      0x8   Misc:                          0x1000    \n",
      "0x230      0x8   Misc_PhysicalAddress:          0x1000    \n",
      "0x230      0x8   Misc_VirtualSize:              0x1000    \n",
      "0x234      0xC   VirtualAddress:                0x7000    \n",
      "0x238      0x10  SizeOfRawData:                 0x200     \n",
      "0x23C      0x14  PointerToRawData:              0x1400    \n",
      "0x240      0x18  PointerToRelocations:          0x0       \n",
      "0x244      0x1C  PointerToLinenumbers:          0x0       \n",
      "0x248      0x20  NumberOfRelocations:           0x0       \n",
      "0x24A      0x22  NumberOfLinenumbers:           0x0       \n",
      "0x24C      0x24  Characteristics:               0xC0000040\n"
     ]
    }
   ],
   "source": [
    "print('------- vg655_25th -------')\n",
    "for section in vg655_25th.sections:\n",
    "    print(section)\n",
    "print('------- qwrty_dk2 -------')\n",
    "for section in qwrty_dk2.sections:\n",
    "    print(section)"
   ]
  },
  {
   "cell_type": "markdown",
   "id": "12f13e89-88ac-4a16-ac79-311e5a717c72",
   "metadata": {},
   "source": [
    "Según el paper “Towards Understanding Malware Behaviour by the Extraction of API Calls”,\n",
    "¿en que categoría sospechosas pueden clasificarse estos ejemplos en base a algunas de las\n",
    "llamadas a las APIs que realizan?"
   ]
  },
  {
   "cell_type": "markdown",
   "id": "3a020b15-1c41-4394-9b8b-7651ba99359d",
   "metadata": {},
   "source": [
    "**SHA256 Hash**"
   ]
  },
  {
   "cell_type": "code",
   "execution_count": 36,
   "id": "85595907-a351-48cd-831c-a180046e335b",
   "metadata": {},
   "outputs": [],
   "source": [
    "from hashlib import sha256"
   ]
  },
  {
   "cell_type": "code",
   "execution_count": 40,
   "id": "0483aa23-f56b-4684-9f67-b2b7d2cb2c71",
   "metadata": {},
   "outputs": [
    {
     "data": {
      "text/plain": [
       "'ed01ebfbc9eb5bbea545af4d01bf5f1071661840480439c6e5babe8e080e41aa'"
      ]
     },
     "execution_count": 40,
     "metadata": {},
     "output_type": "execute_result"
    }
   ],
   "source": [
    "with open(\"MALWR2/sample_vg655_25th.exe\", \"rb\") as f:\n",
    "    file_hash = sha256()\n",
    "    while chunk := f.read(8192):\n",
    "        file_hash.update(chunk)\n",
    "file_hash.hexdigest()"
   ]
  },
  {
   "cell_type": "markdown",
   "id": "eea356b7-96a9-4bd8-b368-960fd6dcd4fc",
   "metadata": {},
   "source": [
    "Para el archivo “sample_vg655_25th.exe”, ¿cuál es el propósito de la DLL ADVAPI32.dll?\n",
    "\n",
    "Son llamadas avanzadas de windows. Entre las funcionens que se puede utilizar es encender/apagar la computadora e iniciar procesos de windows.\n",
    "\n",
    "https://stackoverflow.com/questions/9194638/anyone-knows-what-does-advapi-stand-for\n",
    "\n",
    "Para el archivo “sample_vg655_25th.exe”, ¿cuál es el propósito de la API CryptReleaseContext?\n",
    "\n",
    "Se utiliza para liberar la referencia al cryptographic service provider y al key container, esto termina la sesion con el cryptographic service provider lo que causa que todos los objetos y llaves de la sesion ya no sean validos.\n",
    "\n",
    "https://docs.microsoft.com/en-us/windows/win32/api/wincrypt/nf-wincrypt-cryptreleasecontext"
   ]
  },
  {
   "cell_type": "markdown",
   "id": "af642b28-705e-4d06-bc7f-8c495bd4d080",
   "metadata": {},
   "source": [
    "## Análisis dinámico"
   ]
  },
  {
   "cell_type": "markdown",
   "id": "545251e3-102a-49b1-bc89-f18b64456106",
   "metadata": {},
   "source": [
    "SRC: https://www.hybrid-analysis.com\n",
    "\n",
    "¿Se corresponde el HASH de la plataforma con el generado?\n",
    "\n",
    "Si, el hash generado por hybrid-analysis corresponde al generado localmente.\n",
    "\n",
    "¿Cuáles el nombre del malware encontrado? ¿En que consiste este malware?\n",
    "\n",
    "El nombre es `owo_im_not_ransomware_xd.exe`, es un [ransomware](https://en.wikipedia.org/wiki/Ransomware)\n",
    "\n",
    "¿Se corresponden las sospechas con el análisis realizado en el punto 7?\n",
    "\n",
    "Si, tiene muchos sentido que utilicen las apis de cryptografia para poder lograr encriptar la informacion del disco y que no sea factible desencriptarla al no tener llaves validas."
   ]
  },
  {
   "cell_type": "code",
   "execution_count": null,
   "id": "a2f3de3a-7091-4b57-a4a8-d7463b0808f9",
   "metadata": {},
   "outputs": [],
   "source": []
  }
 ],
 "metadata": {
  "kernelspec": {
   "display_name": "lab04",
   "language": "python",
   "name": "lab04"
  },
  "language_info": {
   "codemirror_mode": {
    "name": "ipython",
    "version": 3
   },
   "file_extension": ".py",
   "mimetype": "text/x-python",
   "name": "python",
   "nbconvert_exporter": "python",
   "pygments_lexer": "ipython3",
   "version": "3.8.12"
  }
 },
 "nbformat": 4,
 "nbformat_minor": 5
}
