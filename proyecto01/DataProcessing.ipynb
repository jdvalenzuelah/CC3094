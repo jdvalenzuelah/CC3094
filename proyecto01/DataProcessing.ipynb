{
 "cells": [
  {
   "cell_type": "markdown",
   "id": "8cc21568",
   "metadata": {},
   "source": [
    "# Proyecto 1\n",
    "## Proyecto SIMARGL\n",
    "\n",
    "\n",
    "Carlos Chew      - 17507\n",
    "Josue Valenzuela - 171001"
   ]
  },
  {
   "cell_type": "markdown",
   "id": "22cbe084",
   "metadata": {},
   "source": [
    "### Análisis exploratorio"
   ]
  },
  {
   "cell_type": "code",
   "execution_count": 1,
   "id": "495f7253",
   "metadata": {},
   "outputs": [],
   "source": [
    "import pandas as pd"
   ]
  },
  {
   "cell_type": "markdown",
   "id": "5760dc7f",
   "metadata": {},
   "source": [
    "Vamos a usar la parte 1 y 2 del dataset"
   ]
  },
  {
   "cell_type": "code",
   "execution_count": 2,
   "id": "9e3fa986",
   "metadata": {},
   "outputs": [
    {
     "data": {
      "text/html": [
       "<div>\n",
       "<style scoped>\n",
       "    .dataframe tbody tr th:only-of-type {\n",
       "        vertical-align: middle;\n",
       "    }\n",
       "\n",
       "    .dataframe tbody tr th {\n",
       "        vertical-align: top;\n",
       "    }\n",
       "\n",
       "    .dataframe thead th {\n",
       "        text-align: right;\n",
       "    }\n",
       "</style>\n",
       "<table border=\"1\" class=\"dataframe\">\n",
       "  <thead>\n",
       "    <tr style=\"text-align: right;\">\n",
       "      <th></th>\n",
       "      <th>BIFLOW_DIRECTION</th>\n",
       "      <th>DIRECTION</th>\n",
       "      <th>DST_TO_SRC_SECOND_BYTES</th>\n",
       "      <th>FIREWALL_EVENT</th>\n",
       "      <th>FIRST_SWITCHED</th>\n",
       "      <th>FLOW_ACTIVE_TIMEOUT</th>\n",
       "      <th>FLOW_DURATION_MICROSECONDS</th>\n",
       "      <th>FLOW_DURATION_MILLISECONDS</th>\n",
       "      <th>FLOW_END_MILLISECONDS</th>\n",
       "      <th>FLOW_END_SEC</th>\n",
       "      <th>...</th>\n",
       "      <th>TCP_WIN_MSS_IN</th>\n",
       "      <th>TCP_WIN_MSS_OUT</th>\n",
       "      <th>TCP_WIN_SCALE_IN</th>\n",
       "      <th>TCP_WIN_SCALE_OUT</th>\n",
       "      <th>SRC_TOS</th>\n",
       "      <th>DST_TOS</th>\n",
       "      <th>L7_PROTO_NAME</th>\n",
       "      <th>SAMPLING_INTERVAL</th>\n",
       "      <th>TOTAL_FLOWS_EXP</th>\n",
       "      <th>LABEL</th>\n",
       "    </tr>\n",
       "  </thead>\n",
       "  <tbody>\n",
       "    <tr>\n",
       "      <th>0</th>\n",
       "      <td>1</td>\n",
       "      <td>0</td>\n",
       "      <td>40</td>\n",
       "      <td>0</td>\n",
       "      <td>1616660040</td>\n",
       "      <td>120</td>\n",
       "      <td>339</td>\n",
       "      <td>0</td>\n",
       "      <td>1616660040010</td>\n",
       "      <td>1616660040</td>\n",
       "      <td>...</td>\n",
       "      <td>1460</td>\n",
       "      <td>0</td>\n",
       "      <td>0</td>\n",
       "      <td>0</td>\n",
       "      <td>0</td>\n",
       "      <td>0</td>\n",
       "      <td>Unknown</td>\n",
       "      <td>1</td>\n",
       "      <td>2293398</td>\n",
       "      <td>Normal flow</td>\n",
       "    </tr>\n",
       "    <tr>\n",
       "      <th>1</th>\n",
       "      <td>1</td>\n",
       "      <td>0</td>\n",
       "      <td>,</td>\n",
       "      <td>0</td>\n",
       "      <td>1616660040</td>\n",
       "      <td>120</td>\n",
       "      <td>0</td>\n",
       "      <td>0</td>\n",
       "      <td>1616660040068</td>\n",
       "      <td>1616660040</td>\n",
       "      <td>...</td>\n",
       "      <td>0</td>\n",
       "      <td>0</td>\n",
       "      <td>0</td>\n",
       "      <td>0</td>\n",
       "      <td>40</td>\n",
       "      <td>0</td>\n",
       "      <td>ICMP</td>\n",
       "      <td>1</td>\n",
       "      <td>2293400</td>\n",
       "      <td>Normal flow</td>\n",
       "    </tr>\n",
       "    <tr>\n",
       "      <th>2</th>\n",
       "      <td>1</td>\n",
       "      <td>0</td>\n",
       "      <td>104</td>\n",
       "      <td>0</td>\n",
       "      <td>1616660040</td>\n",
       "      <td>120</td>\n",
       "      <td>44725</td>\n",
       "      <td>44</td>\n",
       "      <td>1616660040114</td>\n",
       "      <td>1616660040</td>\n",
       "      <td>...</td>\n",
       "      <td>0</td>\n",
       "      <td>0</td>\n",
       "      <td>0</td>\n",
       "      <td>0</td>\n",
       "      <td>0</td>\n",
       "      <td>0</td>\n",
       "      <td>TLS</td>\n",
       "      <td>1</td>\n",
       "      <td>2293404</td>\n",
       "      <td>Normal flow</td>\n",
       "    </tr>\n",
       "    <tr>\n",
       "      <th>3</th>\n",
       "      <td>1</td>\n",
       "      <td>0</td>\n",
       "      <td>,</td>\n",
       "      <td>0</td>\n",
       "      <td>1616660040</td>\n",
       "      <td>120</td>\n",
       "      <td>0</td>\n",
       "      <td>0</td>\n",
       "      <td>1616660040122</td>\n",
       "      <td>1616660040</td>\n",
       "      <td>...</td>\n",
       "      <td>1440</td>\n",
       "      <td>0</td>\n",
       "      <td>8</td>\n",
       "      <td>0</td>\n",
       "      <td>40</td>\n",
       "      <td>0</td>\n",
       "      <td>Unknown</td>\n",
       "      <td>1</td>\n",
       "      <td>2293407</td>\n",
       "      <td>Normal flow</td>\n",
       "    </tr>\n",
       "    <tr>\n",
       "      <th>4</th>\n",
       "      <td>1</td>\n",
       "      <td>0</td>\n",
       "      <td>40</td>\n",
       "      <td>0</td>\n",
       "      <td>1616660040</td>\n",
       "      <td>120</td>\n",
       "      <td>1114</td>\n",
       "      <td>1</td>\n",
       "      <td>1616660040184</td>\n",
       "      <td>1616660040</td>\n",
       "      <td>...</td>\n",
       "      <td>0</td>\n",
       "      <td>0</td>\n",
       "      <td>0</td>\n",
       "      <td>0</td>\n",
       "      <td>0</td>\n",
       "      <td>0</td>\n",
       "      <td>TLS</td>\n",
       "      <td>1</td>\n",
       "      <td>2293409</td>\n",
       "      <td>Normal flow</td>\n",
       "    </tr>\n",
       "  </tbody>\n",
       "</table>\n",
       "<p>5 rows × 50 columns</p>\n",
       "</div>"
      ],
      "text/plain": [
       "   BIFLOW_DIRECTION  DIRECTION DST_TO_SRC_SECOND_BYTES  FIREWALL_EVENT  \\\n",
       "0                 1          0                      40               0   \n",
       "1                 1          0                       ,               0   \n",
       "2                 1          0                     104               0   \n",
       "3                 1          0                       ,               0   \n",
       "4                 1          0                      40               0   \n",
       "\n",
       "   FIRST_SWITCHED  FLOW_ACTIVE_TIMEOUT  FLOW_DURATION_MICROSECONDS  \\\n",
       "0      1616660040                  120                         339   \n",
       "1      1616660040                  120                           0   \n",
       "2      1616660040                  120                       44725   \n",
       "3      1616660040                  120                           0   \n",
       "4      1616660040                  120                        1114   \n",
       "\n",
       "   FLOW_DURATION_MILLISECONDS  FLOW_END_MILLISECONDS  FLOW_END_SEC  ...  \\\n",
       "0                           0          1616660040010    1616660040  ...   \n",
       "1                           0          1616660040068    1616660040  ...   \n",
       "2                          44          1616660040114    1616660040  ...   \n",
       "3                           0          1616660040122    1616660040  ...   \n",
       "4                           1          1616660040184    1616660040  ...   \n",
       "\n",
       "   TCP_WIN_MSS_IN  TCP_WIN_MSS_OUT  TCP_WIN_SCALE_IN  TCP_WIN_SCALE_OUT  \\\n",
       "0            1460                0                 0                  0   \n",
       "1               0                0                 0                  0   \n",
       "2               0                0                 0                  0   \n",
       "3            1440                0                 8                  0   \n",
       "4               0                0                 0                  0   \n",
       "\n",
       "   SRC_TOS  DST_TOS  L7_PROTO_NAME SAMPLING_INTERVAL TOTAL_FLOWS_EXP  \\\n",
       "0        0        0        Unknown                 1         2293398   \n",
       "1       40        0           ICMP                 1         2293400   \n",
       "2        0        0            TLS                 1         2293404   \n",
       "3       40        0        Unknown                 1         2293407   \n",
       "4        0        0            TLS                 1         2293409   \n",
       "\n",
       "         LABEL  \n",
       "0  Normal flow  \n",
       "1  Normal flow  \n",
       "2  Normal flow  \n",
       "3  Normal flow  \n",
       "4  Normal flow  \n",
       "\n",
       "[5 rows x 50 columns]"
      ]
     },
     "execution_count": 2,
     "metadata": {},
     "output_type": "execute_result"
    }
   ],
   "source": [
    "df1 = pd.read_csv('datasets/dataset-part1.csv')\n",
    "df1.head(5)"
   ]
  },
  {
   "cell_type": "code",
   "execution_count": 3,
   "id": "848d233a",
   "metadata": {},
   "outputs": [
    {
     "data": {
      "text/html": [
       "<div>\n",
       "<style scoped>\n",
       "    .dataframe tbody tr th:only-of-type {\n",
       "        vertical-align: middle;\n",
       "    }\n",
       "\n",
       "    .dataframe tbody tr th {\n",
       "        vertical-align: top;\n",
       "    }\n",
       "\n",
       "    .dataframe thead th {\n",
       "        text-align: right;\n",
       "    }\n",
       "</style>\n",
       "<table border=\"1\" class=\"dataframe\">\n",
       "  <thead>\n",
       "    <tr style=\"text-align: right;\">\n",
       "      <th></th>\n",
       "      <th>BIFLOW_DIRECTION</th>\n",
       "      <th>DIRECTION</th>\n",
       "      <th>DST_TO_SRC_SECOND_BYTES</th>\n",
       "      <th>FIREWALL_EVENT</th>\n",
       "      <th>FIRST_SWITCHED</th>\n",
       "      <th>FLOW_ACTIVE_TIMEOUT</th>\n",
       "      <th>FLOW_DURATION_MICROSECONDS</th>\n",
       "      <th>FLOW_DURATION_MILLISECONDS</th>\n",
       "      <th>FLOW_END_MILLISECONDS</th>\n",
       "      <th>FLOW_END_SEC</th>\n",
       "      <th>...</th>\n",
       "      <th>TCP_WIN_MSS_IN</th>\n",
       "      <th>TCP_WIN_MSS_OUT</th>\n",
       "      <th>TCP_WIN_SCALE_IN</th>\n",
       "      <th>TCP_WIN_SCALE_OUT</th>\n",
       "      <th>SRC_TOS</th>\n",
       "      <th>DST_TOS</th>\n",
       "      <th>L7_PROTO_NAME</th>\n",
       "      <th>SAMPLING_INTERVAL</th>\n",
       "      <th>TOTAL_FLOWS_EXP</th>\n",
       "      <th>LABEL</th>\n",
       "    </tr>\n",
       "  </thead>\n",
       "  <tbody>\n",
       "    <tr>\n",
       "      <th>0</th>\n",
       "      <td>1</td>\n",
       "      <td>0</td>\n",
       "      <td>,,48,,,,,,,,,,40,,,,,,,,,,40,,,,,,,,,,40,,,,,,...</td>\n",
       "      <td>0</td>\n",
       "      <td>1618174987</td>\n",
       "      <td>120</td>\n",
       "      <td>104116914</td>\n",
       "      <td>104116</td>\n",
       "      <td>1618175092090</td>\n",
       "      <td>1618175092</td>\n",
       "      <td>...</td>\n",
       "      <td>1460</td>\n",
       "      <td>1460</td>\n",
       "      <td>0</td>\n",
       "      <td>0</td>\n",
       "      <td>0</td>\n",
       "      <td>164</td>\n",
       "      <td>TLS</td>\n",
       "      <td>1</td>\n",
       "      <td>77251491</td>\n",
       "      <td>Normal flow</td>\n",
       "    </tr>\n",
       "    <tr>\n",
       "      <th>1</th>\n",
       "      <td>1</td>\n",
       "      <td>0</td>\n",
       "      <td>,,,,,,,,,,,</td>\n",
       "      <td>0</td>\n",
       "      <td>1618175067</td>\n",
       "      <td>120</td>\n",
       "      <td>9529030</td>\n",
       "      <td>9529</td>\n",
       "      <td>1618175077010</td>\n",
       "      <td>1618175077</td>\n",
       "      <td>...</td>\n",
       "      <td>0</td>\n",
       "      <td>0</td>\n",
       "      <td>0</td>\n",
       "      <td>0</td>\n",
       "      <td>0</td>\n",
       "      <td>0</td>\n",
       "      <td>STUN.Messenger</td>\n",
       "      <td>1</td>\n",
       "      <td>77251492</td>\n",
       "      <td>Normal flow</td>\n",
       "    </tr>\n",
       "    <tr>\n",
       "      <th>2</th>\n",
       "      <td>1</td>\n",
       "      <td>0</td>\n",
       "      <td>,,,,,,,,,,,</td>\n",
       "      <td>0</td>\n",
       "      <td>1618175067</td>\n",
       "      <td>120</td>\n",
       "      <td>9529169</td>\n",
       "      <td>9529</td>\n",
       "      <td>1618175077010</td>\n",
       "      <td>1618175077</td>\n",
       "      <td>...</td>\n",
       "      <td>0</td>\n",
       "      <td>0</td>\n",
       "      <td>0</td>\n",
       "      <td>0</td>\n",
       "      <td>192</td>\n",
       "      <td>0</td>\n",
       "      <td>ICMP</td>\n",
       "      <td>1</td>\n",
       "      <td>77251493</td>\n",
       "      <td>Normal flow</td>\n",
       "    </tr>\n",
       "    <tr>\n",
       "      <th>3</th>\n",
       "      <td>1</td>\n",
       "      <td>0</td>\n",
       "      <td>,</td>\n",
       "      <td>0</td>\n",
       "      <td>1618175077</td>\n",
       "      <td>120</td>\n",
       "      <td>0</td>\n",
       "      <td>0</td>\n",
       "      <td>1618175077021</td>\n",
       "      <td>1618175077</td>\n",
       "      <td>...</td>\n",
       "      <td>0</td>\n",
       "      <td>0</td>\n",
       "      <td>0</td>\n",
       "      <td>0</td>\n",
       "      <td>72</td>\n",
       "      <td>0</td>\n",
       "      <td>ICMP</td>\n",
       "      <td>1</td>\n",
       "      <td>77251494</td>\n",
       "      <td>Normal flow</td>\n",
       "    </tr>\n",
       "    <tr>\n",
       "      <th>4</th>\n",
       "      <td>1</td>\n",
       "      <td>0</td>\n",
       "      <td>,</td>\n",
       "      <td>0</td>\n",
       "      <td>1618175077</td>\n",
       "      <td>120</td>\n",
       "      <td>0</td>\n",
       "      <td>0</td>\n",
       "      <td>1618175077069</td>\n",
       "      <td>1618175077</td>\n",
       "      <td>...</td>\n",
       "      <td>0</td>\n",
       "      <td>0</td>\n",
       "      <td>0</td>\n",
       "      <td>0</td>\n",
       "      <td>0</td>\n",
       "      <td>0</td>\n",
       "      <td>Unknown</td>\n",
       "      <td>1</td>\n",
       "      <td>77251495</td>\n",
       "      <td>Normal flow</td>\n",
       "    </tr>\n",
       "  </tbody>\n",
       "</table>\n",
       "<p>5 rows × 50 columns</p>\n",
       "</div>"
      ],
      "text/plain": [
       "   BIFLOW_DIRECTION  DIRECTION  \\\n",
       "0                 1          0   \n",
       "1                 1          0   \n",
       "2                 1          0   \n",
       "3                 1          0   \n",
       "4                 1          0   \n",
       "\n",
       "                             DST_TO_SRC_SECOND_BYTES  FIREWALL_EVENT  \\\n",
       "0  ,,48,,,,,,,,,,40,,,,,,,,,,40,,,,,,,,,,40,,,,,,...               0   \n",
       "1                                        ,,,,,,,,,,,               0   \n",
       "2                                        ,,,,,,,,,,,               0   \n",
       "3                                                  ,               0   \n",
       "4                                                  ,               0   \n",
       "\n",
       "   FIRST_SWITCHED  FLOW_ACTIVE_TIMEOUT  FLOW_DURATION_MICROSECONDS  \\\n",
       "0      1618174987                  120                   104116914   \n",
       "1      1618175067                  120                     9529030   \n",
       "2      1618175067                  120                     9529169   \n",
       "3      1618175077                  120                           0   \n",
       "4      1618175077                  120                           0   \n",
       "\n",
       "   FLOW_DURATION_MILLISECONDS  FLOW_END_MILLISECONDS  FLOW_END_SEC  ...  \\\n",
       "0                      104116          1618175092090    1618175092  ...   \n",
       "1                        9529          1618175077010    1618175077  ...   \n",
       "2                        9529          1618175077010    1618175077  ...   \n",
       "3                           0          1618175077021    1618175077  ...   \n",
       "4                           0          1618175077069    1618175077  ...   \n",
       "\n",
       "   TCP_WIN_MSS_IN  TCP_WIN_MSS_OUT  TCP_WIN_SCALE_IN  TCP_WIN_SCALE_OUT  \\\n",
       "0            1460             1460                 0                  0   \n",
       "1               0                0                 0                  0   \n",
       "2               0                0                 0                  0   \n",
       "3               0                0                 0                  0   \n",
       "4               0                0                 0                  0   \n",
       "\n",
       "   SRC_TOS  DST_TOS   L7_PROTO_NAME SAMPLING_INTERVAL TOTAL_FLOWS_EXP  \\\n",
       "0        0      164             TLS                 1        77251491   \n",
       "1        0        0  STUN.Messenger                 1        77251492   \n",
       "2      192        0            ICMP                 1        77251493   \n",
       "3       72        0            ICMP                 1        77251494   \n",
       "4        0        0         Unknown                 1        77251495   \n",
       "\n",
       "         LABEL  \n",
       "0  Normal flow  \n",
       "1  Normal flow  \n",
       "2  Normal flow  \n",
       "3  Normal flow  \n",
       "4  Normal flow  \n",
       "\n",
       "[5 rows x 50 columns]"
      ]
     },
     "execution_count": 3,
     "metadata": {},
     "output_type": "execute_result"
    }
   ],
   "source": [
    "df2 = pd.read_csv('datasets/dataset-part2.csv')\n",
    "df2.head(5)"
   ]
  },
  {
   "cell_type": "markdown",
   "id": "519963bd",
   "metadata": {},
   "source": [
    "Verifiquemos que tengan las mismas columnas y unamos los datasets en uno solo"
   ]
  },
  {
   "cell_type": "code",
   "execution_count": 4,
   "id": "63ad82ce",
   "metadata": {},
   "outputs": [
    {
     "data": {
      "text/plain": [
       "True"
      ]
     },
     "execution_count": 4,
     "metadata": {},
     "output_type": "execute_result"
    }
   ],
   "source": [
    "list(df1.columns) == list(df2.columns)"
   ]
  },
  {
   "cell_type": "code",
   "execution_count": 5,
   "id": "48dd572e",
   "metadata": {},
   "outputs": [
    {
     "data": {
      "text/html": [
       "<div>\n",
       "<style scoped>\n",
       "    .dataframe tbody tr th:only-of-type {\n",
       "        vertical-align: middle;\n",
       "    }\n",
       "\n",
       "    .dataframe tbody tr th {\n",
       "        vertical-align: top;\n",
       "    }\n",
       "\n",
       "    .dataframe thead th {\n",
       "        text-align: right;\n",
       "    }\n",
       "</style>\n",
       "<table border=\"1\" class=\"dataframe\">\n",
       "  <thead>\n",
       "    <tr style=\"text-align: right;\">\n",
       "      <th></th>\n",
       "      <th>BIFLOW_DIRECTION</th>\n",
       "      <th>DIRECTION</th>\n",
       "      <th>DST_TO_SRC_SECOND_BYTES</th>\n",
       "      <th>FIREWALL_EVENT</th>\n",
       "      <th>FIRST_SWITCHED</th>\n",
       "      <th>FLOW_ACTIVE_TIMEOUT</th>\n",
       "      <th>FLOW_DURATION_MICROSECONDS</th>\n",
       "      <th>FLOW_DURATION_MILLISECONDS</th>\n",
       "      <th>FLOW_END_MILLISECONDS</th>\n",
       "      <th>FLOW_END_SEC</th>\n",
       "      <th>...</th>\n",
       "      <th>TCP_WIN_MSS_IN</th>\n",
       "      <th>TCP_WIN_MSS_OUT</th>\n",
       "      <th>TCP_WIN_SCALE_IN</th>\n",
       "      <th>TCP_WIN_SCALE_OUT</th>\n",
       "      <th>SRC_TOS</th>\n",
       "      <th>DST_TOS</th>\n",
       "      <th>L7_PROTO_NAME</th>\n",
       "      <th>SAMPLING_INTERVAL</th>\n",
       "      <th>TOTAL_FLOWS_EXP</th>\n",
       "      <th>LABEL</th>\n",
       "    </tr>\n",
       "  </thead>\n",
       "  <tbody>\n",
       "    <tr>\n",
       "      <th>0</th>\n",
       "      <td>1</td>\n",
       "      <td>0</td>\n",
       "      <td>40</td>\n",
       "      <td>0</td>\n",
       "      <td>1616660040</td>\n",
       "      <td>120</td>\n",
       "      <td>339</td>\n",
       "      <td>0</td>\n",
       "      <td>1616660040010</td>\n",
       "      <td>1616660040</td>\n",
       "      <td>...</td>\n",
       "      <td>1460</td>\n",
       "      <td>0</td>\n",
       "      <td>0</td>\n",
       "      <td>0</td>\n",
       "      <td>0</td>\n",
       "      <td>0</td>\n",
       "      <td>Unknown</td>\n",
       "      <td>1</td>\n",
       "      <td>2293398</td>\n",
       "      <td>Normal flow</td>\n",
       "    </tr>\n",
       "    <tr>\n",
       "      <th>1</th>\n",
       "      <td>1</td>\n",
       "      <td>0</td>\n",
       "      <td>,</td>\n",
       "      <td>0</td>\n",
       "      <td>1616660040</td>\n",
       "      <td>120</td>\n",
       "      <td>0</td>\n",
       "      <td>0</td>\n",
       "      <td>1616660040068</td>\n",
       "      <td>1616660040</td>\n",
       "      <td>...</td>\n",
       "      <td>0</td>\n",
       "      <td>0</td>\n",
       "      <td>0</td>\n",
       "      <td>0</td>\n",
       "      <td>40</td>\n",
       "      <td>0</td>\n",
       "      <td>ICMP</td>\n",
       "      <td>1</td>\n",
       "      <td>2293400</td>\n",
       "      <td>Normal flow</td>\n",
       "    </tr>\n",
       "    <tr>\n",
       "      <th>2</th>\n",
       "      <td>1</td>\n",
       "      <td>0</td>\n",
       "      <td>104</td>\n",
       "      <td>0</td>\n",
       "      <td>1616660040</td>\n",
       "      <td>120</td>\n",
       "      <td>44725</td>\n",
       "      <td>44</td>\n",
       "      <td>1616660040114</td>\n",
       "      <td>1616660040</td>\n",
       "      <td>...</td>\n",
       "      <td>0</td>\n",
       "      <td>0</td>\n",
       "      <td>0</td>\n",
       "      <td>0</td>\n",
       "      <td>0</td>\n",
       "      <td>0</td>\n",
       "      <td>TLS</td>\n",
       "      <td>1</td>\n",
       "      <td>2293404</td>\n",
       "      <td>Normal flow</td>\n",
       "    </tr>\n",
       "    <tr>\n",
       "      <th>3</th>\n",
       "      <td>1</td>\n",
       "      <td>0</td>\n",
       "      <td>,</td>\n",
       "      <td>0</td>\n",
       "      <td>1616660040</td>\n",
       "      <td>120</td>\n",
       "      <td>0</td>\n",
       "      <td>0</td>\n",
       "      <td>1616660040122</td>\n",
       "      <td>1616660040</td>\n",
       "      <td>...</td>\n",
       "      <td>1440</td>\n",
       "      <td>0</td>\n",
       "      <td>8</td>\n",
       "      <td>0</td>\n",
       "      <td>40</td>\n",
       "      <td>0</td>\n",
       "      <td>Unknown</td>\n",
       "      <td>1</td>\n",
       "      <td>2293407</td>\n",
       "      <td>Normal flow</td>\n",
       "    </tr>\n",
       "    <tr>\n",
       "      <th>4</th>\n",
       "      <td>1</td>\n",
       "      <td>0</td>\n",
       "      <td>40</td>\n",
       "      <td>0</td>\n",
       "      <td>1616660040</td>\n",
       "      <td>120</td>\n",
       "      <td>1114</td>\n",
       "      <td>1</td>\n",
       "      <td>1616660040184</td>\n",
       "      <td>1616660040</td>\n",
       "      <td>...</td>\n",
       "      <td>0</td>\n",
       "      <td>0</td>\n",
       "      <td>0</td>\n",
       "      <td>0</td>\n",
       "      <td>0</td>\n",
       "      <td>0</td>\n",
       "      <td>TLS</td>\n",
       "      <td>1</td>\n",
       "      <td>2293409</td>\n",
       "      <td>Normal flow</td>\n",
       "    </tr>\n",
       "  </tbody>\n",
       "</table>\n",
       "<p>5 rows × 50 columns</p>\n",
       "</div>"
      ],
      "text/plain": [
       "   BIFLOW_DIRECTION  DIRECTION DST_TO_SRC_SECOND_BYTES  FIREWALL_EVENT  \\\n",
       "0                 1          0                      40               0   \n",
       "1                 1          0                       ,               0   \n",
       "2                 1          0                     104               0   \n",
       "3                 1          0                       ,               0   \n",
       "4                 1          0                      40               0   \n",
       "\n",
       "   FIRST_SWITCHED  FLOW_ACTIVE_TIMEOUT  FLOW_DURATION_MICROSECONDS  \\\n",
       "0      1616660040                  120                         339   \n",
       "1      1616660040                  120                           0   \n",
       "2      1616660040                  120                       44725   \n",
       "3      1616660040                  120                           0   \n",
       "4      1616660040                  120                        1114   \n",
       "\n",
       "   FLOW_DURATION_MILLISECONDS  FLOW_END_MILLISECONDS  FLOW_END_SEC  ...  \\\n",
       "0                           0          1616660040010    1616660040  ...   \n",
       "1                           0          1616660040068    1616660040  ...   \n",
       "2                          44          1616660040114    1616660040  ...   \n",
       "3                           0          1616660040122    1616660040  ...   \n",
       "4                           1          1616660040184    1616660040  ...   \n",
       "\n",
       "   TCP_WIN_MSS_IN  TCP_WIN_MSS_OUT  TCP_WIN_SCALE_IN  TCP_WIN_SCALE_OUT  \\\n",
       "0            1460                0                 0                  0   \n",
       "1               0                0                 0                  0   \n",
       "2               0                0                 0                  0   \n",
       "3            1440                0                 8                  0   \n",
       "4               0                0                 0                  0   \n",
       "\n",
       "   SRC_TOS  DST_TOS  L7_PROTO_NAME SAMPLING_INTERVAL TOTAL_FLOWS_EXP  \\\n",
       "0        0        0        Unknown                 1         2293398   \n",
       "1       40        0           ICMP                 1         2293400   \n",
       "2        0        0            TLS                 1         2293404   \n",
       "3       40        0        Unknown                 1         2293407   \n",
       "4        0        0            TLS                 1         2293409   \n",
       "\n",
       "         LABEL  \n",
       "0  Normal flow  \n",
       "1  Normal flow  \n",
       "2  Normal flow  \n",
       "3  Normal flow  \n",
       "4  Normal flow  \n",
       "\n",
       "[5 rows x 50 columns]"
      ]
     },
     "execution_count": 5,
     "metadata": {},
     "output_type": "execute_result"
    }
   ],
   "source": [
    "df = pd.concat([df1, df2])\n",
    "del df1, df2\n",
    "df.head(5)"
   ]
  },
  {
   "cell_type": "code",
   "execution_count": 6,
   "id": "fcfe80bc",
   "metadata": {},
   "outputs": [],
   "source": [
    "# Quitamos los valores invalidos\n",
    "df = df.dropna()"
   ]
  },
  {
   "cell_type": "code",
   "execution_count": 7,
   "id": "207fd8bd",
   "metadata": {},
   "outputs": [
    {
     "name": "stdout",
     "output_type": "stream",
     "text": [
      "<class 'pandas.core.frame.DataFrame'>\n",
      "Int64Index: 12207873 entries, 0 to 8637206\n",
      "Data columns (total 50 columns):\n",
      " #   Column                      Dtype \n",
      "---  ------                      ----- \n",
      " 0   BIFLOW_DIRECTION            int64 \n",
      " 1   DIRECTION                   int64 \n",
      " 2   DST_TO_SRC_SECOND_BYTES     object\n",
      " 3   FIREWALL_EVENT              int64 \n",
      " 4   FIRST_SWITCHED              int64 \n",
      " 5   FLOW_ACTIVE_TIMEOUT         int64 \n",
      " 6   FLOW_DURATION_MICROSECONDS  int64 \n",
      " 7   FLOW_DURATION_MILLISECONDS  int64 \n",
      " 8   FLOW_END_MILLISECONDS       int64 \n",
      " 9   FLOW_END_SEC                int64 \n",
      " 10  FLOW_ID                     int64 \n",
      " 11  FLOW_INACTIVE_TIMEOUT       int64 \n",
      " 12  FLOW_START_MILLISECONDS     int64 \n",
      " 13  FLOW_START_SEC              int64 \n",
      " 14  FRAME_LENGTH                int64 \n",
      " 15  IN_BYTES                    int64 \n",
      " 16  IN_PKTS                     int64 \n",
      " 17  IPV4_DST_ADDR               object\n",
      " 18  IPV4_SRC_ADDR               object\n",
      " 19  L4_DST_PORT                 int64 \n",
      " 20  L4_SRC_PORT                 int64 \n",
      " 21  LAST_SWITCHED               int64 \n",
      " 22  MAX_IP_PKT_LEN              int64 \n",
      " 23  MIN_IP_PKT_LEN              int64 \n",
      " 24  OOORDER_IN_PKTS             int64 \n",
      " 25  OOORDER_OUT_PKTS            int64 \n",
      " 26  OUT_BYTES                   int64 \n",
      " 27  OUT_PKTS                    int64 \n",
      " 28  PROTOCOL                    int64 \n",
      " 29  PROTOCOL_MAP                object\n",
      " 30  RETRANSMITTED_IN_BYTES      int64 \n",
      " 31  RETRANSMITTED_IN_PKTS       int64 \n",
      " 32  RETRANSMITTED_OUT_BYTES     int64 \n",
      " 33  RETRANSMITTED_OUT_PKTS      int64 \n",
      " 34  SRC_TO_DST_SECOND_BYTES     object\n",
      " 35  TCP_FLAGS                   int64 \n",
      " 36  TCP_WIN_MAX_IN              int64 \n",
      " 37  TCP_WIN_MAX_OUT             int64 \n",
      " 38  TCP_WIN_MIN_IN              int64 \n",
      " 39  TCP_WIN_MIN_OUT             int64 \n",
      " 40  TCP_WIN_MSS_IN              int64 \n",
      " 41  TCP_WIN_MSS_OUT             int64 \n",
      " 42  TCP_WIN_SCALE_IN            int64 \n",
      " 43  TCP_WIN_SCALE_OUT           int64 \n",
      " 44  SRC_TOS                     int64 \n",
      " 45  DST_TOS                     int64 \n",
      " 46  L7_PROTO_NAME               object\n",
      " 47  SAMPLING_INTERVAL           int64 \n",
      " 48  TOTAL_FLOWS_EXP             int64 \n",
      " 49  LABEL                       object\n",
      "dtypes: int64(43), object(7)\n",
      "memory usage: 4.6+ GB\n"
     ]
    }
   ],
   "source": [
    "df.info()"
   ]
  },
  {
   "cell_type": "markdown",
   "id": "e1ed08e0",
   "metadata": {},
   "source": [
    "### Pre – procesamiento"
   ]
  },
  {
   "cell_type": "markdown",
   "id": "fafeac77",
   "metadata": {},
   "source": [
    "Veamos que valores tiene la columna LABEL"
   ]
  },
  {
   "cell_type": "code",
   "execution_count": 8,
   "id": "1c96520a",
   "metadata": {},
   "outputs": [
    {
     "data": {
      "text/plain": [
       "Normal flow                       6570058\n",
       "SYN Scan - aggressive             2496814\n",
       "Denial of Service R-U-Dead-Yet    2276947\n",
       "Denial of Service Slowloris        864054\n",
       "Name: LABEL, dtype: int64"
      ]
     },
     "execution_count": 8,
     "metadata": {},
     "output_type": "execute_result"
    }
   ],
   "source": [
    "df['LABEL'].value_counts()"
   ]
  },
  {
   "cell_type": "markdown",
   "id": "4f6a5302",
   "metadata": {},
   "source": [
    "Los valores de Denial of Service Slowloris son mucho menos que de los demas. Se usara Oversample una vez las observaciones esten codificadas y separadas en train y test"
   ]
  },
  {
   "cell_type": "markdown",
   "id": "87b4f1ad",
   "metadata": {},
   "source": [
    "**Codificamos las variables cualitativas relevantes**"
   ]
  },
  {
   "cell_type": "code",
   "execution_count": 9,
   "id": "de928fc8",
   "metadata": {},
   "outputs": [],
   "source": [
    "def rename(options):\n",
    "    return lambda option: options[option]\n",
    "\n",
    "def get_options(row):\n",
    "    return dict((v, k) for k, v in enumerate(row.value_counts().reset_index()['index']))"
   ]
  },
  {
   "cell_type": "code",
   "execution_count": 11,
   "id": "20ff1e8b",
   "metadata": {},
   "outputs": [
    {
     "data": {
      "text/plain": [
       "{'Normal flow': 0,\n",
       " 'SYN Scan - aggressive': 1,\n",
       " 'Denial of Service R-U-Dead-Yet': 2,\n",
       " 'Denial of Service Slowloris': 3}"
      ]
     },
     "execution_count": 11,
     "metadata": {},
     "output_type": "execute_result"
    }
   ],
   "source": [
    "label_options = get_options(df['LABEL'])\n",
    "label_options"
   ]
  },
  {
   "cell_type": "code",
   "execution_count": 12,
   "id": "88708daf",
   "metadata": {},
   "outputs": [
    {
     "data": {
      "text/plain": [
       "0    6570058\n",
       "1    2496814\n",
       "2    2276947\n",
       "3     864054\n",
       "Name: LABEL, dtype: int64"
      ]
     },
     "execution_count": 12,
     "metadata": {},
     "output_type": "execute_result"
    }
   ],
   "source": [
    "df['LABEL'] = df['LABEL'].apply(rename(label_options))\n",
    "df['LABEL'].value_counts()"
   ]
  },
  {
   "cell_type": "code",
   "execution_count": 13,
   "id": "9402af48",
   "metadata": {},
   "outputs": [
    {
     "data": {
      "text/plain": [
       "tcp          8950058\n",
       "udp          2791088\n",
       "icmp          466697\n",
       "ipv6-icmp         28\n",
       "gre                2\n",
       "Name: PROTOCOL_MAP, dtype: int64"
      ]
     },
     "execution_count": 13,
     "metadata": {},
     "output_type": "execute_result"
    }
   ],
   "source": [
    "df['PROTOCOL_MAP'].value_counts()"
   ]
  },
  {
   "cell_type": "code",
   "execution_count": 14,
   "id": "6df286ef",
   "metadata": {},
   "outputs": [
    {
     "data": {
      "text/plain": [
       "0    8950058\n",
       "1    2791088\n",
       "2     466697\n",
       "3         28\n",
       "4          2\n",
       "Name: PROTOCOL_MAP, dtype: int64"
      ]
     },
     "execution_count": 14,
     "metadata": {},
     "output_type": "execute_result"
    }
   ],
   "source": [
    "df['PROTOCOL_MAP'] = df['PROTOCOL_MAP'].apply(rename(get_options(df['PROTOCOL_MAP'])))\n",
    "df['PROTOCOL_MAP'].value_counts()"
   ]
  },
  {
   "cell_type": "code",
   "execution_count": 15,
   "id": "477ab8cd",
   "metadata": {},
   "outputs": [
    {
     "data": {
      "text/plain": [
       "Unknown            4090802\n",
       "HTTP               3237616\n",
       "DNS                1076385\n",
       "TLS                 859143\n",
       "ICMP                360551\n",
       "                    ...   \n",
       "NFS.HTTP                 1\n",
       "Radius.NFS               1\n",
       "OCS                      1\n",
       "VHUA.Amazon              1\n",
       "COAP.BitTorrent          1\n",
       "Name: L7_PROTO_NAME, Length: 457, dtype: int64"
      ]
     },
     "execution_count": 15,
     "metadata": {},
     "output_type": "execute_result"
    }
   ],
   "source": [
    "df['L7_PROTO_NAME'].value_counts()"
   ]
  },
  {
   "cell_type": "code",
   "execution_count": 16,
   "id": "35f91735",
   "metadata": {},
   "outputs": [
    {
     "data": {
      "text/plain": [
       "0      4090802\n",
       "1      3237616\n",
       "2      1076385\n",
       "3       859143\n",
       "4       360551\n",
       "        ...   \n",
       "452          1\n",
       "453          1\n",
       "454          1\n",
       "455          1\n",
       "456          1\n",
       "Name: L7_PROTO_NAME, Length: 457, dtype: int64"
      ]
     },
     "execution_count": 16,
     "metadata": {},
     "output_type": "execute_result"
    }
   ],
   "source": [
    "df['L7_PROTO_NAME'] = df['L7_PROTO_NAME'].apply(rename(get_options(df['L7_PROTO_NAME'])))\n",
    "df['L7_PROTO_NAME'].value_counts()"
   ]
  },
  {
   "cell_type": "markdown",
   "id": "50d4f1aa",
   "metadata": {},
   "source": [
    "Las variables  DST_TO_SRC_SECOND_BYTES, IPV4_DST_ADDR, IPV4_SRC_ADDR, SRC_TO_DST_SECOND_BYTES no parecen tener informacion relevante, no las utilizaremos en adelante."
   ]
  },
  {
   "cell_type": "code",
   "execution_count": 17,
   "id": "7b14c835",
   "metadata": {},
   "outputs": [],
   "source": [
    "df = df.drop([ 'DST_TO_SRC_SECOND_BYTES', 'IPV4_DST_ADDR', 'IPV4_SRC_ADDR', 'SRC_TO_DST_SECOND_BYTES'], axis=1)"
   ]
  },
  {
   "cell_type": "code",
   "execution_count": 18,
   "id": "68479b8d",
   "metadata": {},
   "outputs": [
    {
     "name": "stdout",
     "output_type": "stream",
     "text": [
      "<class 'pandas.core.frame.DataFrame'>\n",
      "Int64Index: 12207873 entries, 0 to 8637206\n",
      "Data columns (total 46 columns):\n",
      " #   Column                      Dtype\n",
      "---  ------                      -----\n",
      " 0   BIFLOW_DIRECTION            int64\n",
      " 1   DIRECTION                   int64\n",
      " 2   FIREWALL_EVENT              int64\n",
      " 3   FIRST_SWITCHED              int64\n",
      " 4   FLOW_ACTIVE_TIMEOUT         int64\n",
      " 5   FLOW_DURATION_MICROSECONDS  int64\n",
      " 6   FLOW_DURATION_MILLISECONDS  int64\n",
      " 7   FLOW_END_MILLISECONDS       int64\n",
      " 8   FLOW_END_SEC                int64\n",
      " 9   FLOW_ID                     int64\n",
      " 10  FLOW_INACTIVE_TIMEOUT       int64\n",
      " 11  FLOW_START_MILLISECONDS     int64\n",
      " 12  FLOW_START_SEC              int64\n",
      " 13  FRAME_LENGTH                int64\n",
      " 14  IN_BYTES                    int64\n",
      " 15  IN_PKTS                     int64\n",
      " 16  L4_DST_PORT                 int64\n",
      " 17  L4_SRC_PORT                 int64\n",
      " 18  LAST_SWITCHED               int64\n",
      " 19  MAX_IP_PKT_LEN              int64\n",
      " 20  MIN_IP_PKT_LEN              int64\n",
      " 21  OOORDER_IN_PKTS             int64\n",
      " 22  OOORDER_OUT_PKTS            int64\n",
      " 23  OUT_BYTES                   int64\n",
      " 24  OUT_PKTS                    int64\n",
      " 25  PROTOCOL                    int64\n",
      " 26  PROTOCOL_MAP                int64\n",
      " 27  RETRANSMITTED_IN_BYTES      int64\n",
      " 28  RETRANSMITTED_IN_PKTS       int64\n",
      " 29  RETRANSMITTED_OUT_BYTES     int64\n",
      " 30  RETRANSMITTED_OUT_PKTS      int64\n",
      " 31  TCP_FLAGS                   int64\n",
      " 32  TCP_WIN_MAX_IN              int64\n",
      " 33  TCP_WIN_MAX_OUT             int64\n",
      " 34  TCP_WIN_MIN_IN              int64\n",
      " 35  TCP_WIN_MIN_OUT             int64\n",
      " 36  TCP_WIN_MSS_IN              int64\n",
      " 37  TCP_WIN_MSS_OUT             int64\n",
      " 38  TCP_WIN_SCALE_IN            int64\n",
      " 39  TCP_WIN_SCALE_OUT           int64\n",
      " 40  SRC_TOS                     int64\n",
      " 41  DST_TOS                     int64\n",
      " 42  L7_PROTO_NAME               int64\n",
      " 43  SAMPLING_INTERVAL           int64\n",
      " 44  TOTAL_FLOWS_EXP             int64\n",
      " 45  LABEL                       int64\n",
      "dtypes: int64(46)\n",
      "memory usage: 4.3 GB\n"
     ]
    }
   ],
   "source": [
    "df.info()"
   ]
  },
  {
   "cell_type": "markdown",
   "id": "6c4f6be1",
   "metadata": {},
   "source": [
    "### Selección de características"
   ]
  },
  {
   "cell_type": "code",
   "execution_count": 19,
   "id": "9e887cdd",
   "metadata": {},
   "outputs": [],
   "source": [
    "from sklearn.feature_selection import SelectKBest, chi2"
   ]
  },
  {
   "cell_type": "code",
   "execution_count": 20,
   "id": "ec98b9a6",
   "metadata": {},
   "outputs": [],
   "source": [
    "X = df.drop(['LABEL'], axis=1)\n",
    "y = df['LABEL']\n",
    "del df"
   ]
  },
  {
   "cell_type": "code",
   "execution_count": 21,
   "id": "2dca2101",
   "metadata": {},
   "outputs": [
    {
     "data": {
      "text/plain": [
       "(12207873, 45)"
      ]
     },
     "execution_count": 21,
     "metadata": {},
     "output_type": "execute_result"
    }
   ],
   "source": [
    "X.shape"
   ]
  },
  {
   "cell_type": "code",
   "execution_count": 22,
   "id": "4d39a79c",
   "metadata": {},
   "outputs": [],
   "source": [
    "X_new = SelectKBest(chi2, k=10).fit_transform(X, y)"
   ]
  },
  {
   "cell_type": "code",
   "execution_count": 23,
   "id": "3d95d695",
   "metadata": {},
   "outputs": [
    {
     "data": {
      "text/plain": [
       "(12207873, 10)"
      ]
     },
     "execution_count": 23,
     "metadata": {},
     "output_type": "execute_result"
    }
   ],
   "source": [
    "X = X_new\n",
    "del X_new\n",
    "X.shape"
   ]
  },
  {
   "cell_type": "code",
   "execution_count": 24,
   "id": "2466378e",
   "metadata": {},
   "outputs": [],
   "source": [
    "X = pd.DataFrame(X)"
   ]
  },
  {
   "cell_type": "markdown",
   "id": "8d58e5f5",
   "metadata": {},
   "source": [
    "### Separación de datos \n",
    "- 55% entrenamiento\n",
    "- 15% validación\n",
    "- 30% pruebas"
   ]
  },
  {
   "cell_type": "code",
   "execution_count": 25,
   "id": "eb13e475",
   "metadata": {},
   "outputs": [],
   "source": [
    "from sklearn.model_selection import train_test_split"
   ]
  },
  {
   "cell_type": "code",
   "execution_count": 26,
   "id": "96849634",
   "metadata": {},
   "outputs": [],
   "source": [
    "feature_train, feature_test, target_train, target_test =\\\n",
    "    train_test_split(X, y, test_size=0.30, random_state=31)\n",
    "\n",
    "feature_train, feature_validation, target_train, target_validation =\\\n",
    "    train_test_split(feature_train, target_train, test_size=0.21, random_state=31) # 0.21*0.7 = 0.15"
   ]
  },
  {
   "cell_type": "markdown",
   "id": "d8796d42",
   "metadata": {},
   "source": [
    "#### Resolver el problema del desbalance en las observaciones del ataque Slowloris"
   ]
  },
  {
   "cell_type": "code",
   "execution_count": 27,
   "id": "19773243",
   "metadata": {},
   "outputs": [],
   "source": [
    "from sklearn.utils import resample"
   ]
  },
  {
   "cell_type": "code",
   "execution_count": 58,
   "id": "f70e6b12",
   "metadata": {},
   "outputs": [],
   "source": [
    "X = pd.concat(\n",
    "    [\n",
    "        feature_train.reset_index().drop(['index'], axis=1),\n",
    "        pd.DataFrame(target_train).reset_index().drop(['index'], axis=1)\n",
    "    ],\n",
    "    axis=1\n",
    ")"
   ]
  },
  {
   "cell_type": "code",
   "execution_count": 60,
   "id": "39d2148c",
   "metadata": {},
   "outputs": [
    {
     "data": {
      "text/html": [
       "<div>\n",
       "<style scoped>\n",
       "    .dataframe tbody tr th:only-of-type {\n",
       "        vertical-align: middle;\n",
       "    }\n",
       "\n",
       "    .dataframe tbody tr th {\n",
       "        vertical-align: top;\n",
       "    }\n",
       "\n",
       "    .dataframe thead th {\n",
       "        text-align: right;\n",
       "    }\n",
       "</style>\n",
       "<table border=\"1\" class=\"dataframe\">\n",
       "  <thead>\n",
       "    <tr style=\"text-align: right;\">\n",
       "      <th></th>\n",
       "      <th>0</th>\n",
       "      <th>1</th>\n",
       "      <th>2</th>\n",
       "      <th>3</th>\n",
       "      <th>4</th>\n",
       "      <th>5</th>\n",
       "      <th>6</th>\n",
       "      <th>7</th>\n",
       "      <th>8</th>\n",
       "      <th>9</th>\n",
       "      <th>LABEL</th>\n",
       "    </tr>\n",
       "  </thead>\n",
       "  <tbody>\n",
       "    <tr>\n",
       "      <th>0</th>\n",
       "      <td>17901</td>\n",
       "      <td>17</td>\n",
       "      <td>1618232890860</td>\n",
       "      <td>82997240</td>\n",
       "      <td>1618232890842</td>\n",
       "      <td>80</td>\n",
       "      <td>164</td>\n",
       "      <td>64860</td>\n",
       "      <td>64860</td>\n",
       "      <td>82997240</td>\n",
       "      <td>2</td>\n",
       "    </tr>\n",
       "    <tr>\n",
       "      <th>1</th>\n",
       "      <td>0</td>\n",
       "      <td>0</td>\n",
       "      <td>1616673692217</td>\n",
       "      <td>5667065</td>\n",
       "      <td>1616673692217</td>\n",
       "      <td>57782</td>\n",
       "      <td>0</td>\n",
       "      <td>0</td>\n",
       "      <td>0</td>\n",
       "      <td>5667065</td>\n",
       "      <td>0</td>\n",
       "    </tr>\n",
       "    <tr>\n",
       "      <th>2</th>\n",
       "      <td>899816</td>\n",
       "      <td>899</td>\n",
       "      <td>1618224720923</td>\n",
       "      <td>80257264</td>\n",
       "      <td>1618224720023</td>\n",
       "      <td>80</td>\n",
       "      <td>104</td>\n",
       "      <td>507</td>\n",
       "      <td>507</td>\n",
       "      <td>80257264</td>\n",
       "      <td>2</td>\n",
       "    </tr>\n",
       "    <tr>\n",
       "      <th>3</th>\n",
       "      <td>742</td>\n",
       "      <td>0</td>\n",
       "      <td>1616669105445</td>\n",
       "      <td>4243088</td>\n",
       "      <td>1616669105444</td>\n",
       "      <td>43560</td>\n",
       "      <td>40</td>\n",
       "      <td>1024</td>\n",
       "      <td>1024</td>\n",
       "      <td>4243088</td>\n",
       "      <td>1</td>\n",
       "    </tr>\n",
       "    <tr>\n",
       "      <th>4</th>\n",
       "      <td>228</td>\n",
       "      <td>0</td>\n",
       "      <td>1616671657493</td>\n",
       "      <td>5027687</td>\n",
       "      <td>1616671657492</td>\n",
       "      <td>57904</td>\n",
       "      <td>40</td>\n",
       "      <td>1024</td>\n",
       "      <td>1024</td>\n",
       "      <td>5027687</td>\n",
       "      <td>1</td>\n",
       "    </tr>\n",
       "  </tbody>\n",
       "</table>\n",
       "</div>"
      ],
      "text/plain": [
       "        0    1              2         3              4      5    6      7  \\\n",
       "0   17901   17  1618232890860  82997240  1618232890842     80  164  64860   \n",
       "1       0    0  1616673692217   5667065  1616673692217  57782    0      0   \n",
       "2  899816  899  1618224720923  80257264  1618224720023     80  104    507   \n",
       "3     742    0  1616669105445   4243088  1616669105444  43560   40   1024   \n",
       "4     228    0  1616671657493   5027687  1616671657492  57904   40   1024   \n",
       "\n",
       "       8         9  LABEL  \n",
       "0  64860  82997240      2  \n",
       "1      0   5667065      0  \n",
       "2    507  80257264      2  \n",
       "3   1024   4243088      1  \n",
       "4   1024   5027687      1  "
      ]
     },
     "execution_count": 60,
     "metadata": {},
     "output_type": "execute_result"
    }
   ],
   "source": [
    "X.head(5)"
   ]
  },
  {
   "cell_type": "code",
   "execution_count": 61,
   "id": "3d92e9e7",
   "metadata": {},
   "outputs": [],
   "source": [
    "ft0 = X[X.LABEL == 0]\n",
    "ft1 = X[X.LABEL == 1]\n",
    "ft2 = X[X.LABEL == 2]\n",
    "ft3 = X[X.LABEL == 3]"
   ]
  },
  {
   "cell_type": "code",
   "execution_count": 72,
   "id": "5da20d50",
   "metadata": {},
   "outputs": [
    {
     "data": {
      "text/plain": [
       "[3633487, 1380346, 1259318, 477802]"
      ]
     },
     "execution_count": 72,
     "metadata": {},
     "output_type": "execute_result"
    }
   ],
   "source": [
    "sizes = [len(ft0), len(ft1), len(ft2), len(ft3)]\n",
    "sizes"
   ]
  },
  {
   "cell_type": "code",
   "execution_count": 70,
   "id": "faace76e",
   "metadata": {},
   "outputs": [
    {
     "data": {
      "text/plain": [
       "3633487"
      ]
     },
     "execution_count": 70,
     "metadata": {},
     "output_type": "execute_result"
    }
   ],
   "source": [
    "max_size = max(sizes)\n",
    "max_size"
   ]
  },
  {
   "cell_type": "code",
   "execution_count": 71,
   "id": "f89792c9",
   "metadata": {},
   "outputs": [
    {
     "data": {
      "text/plain": [
       "[1.0, 0.37989567597186946, 0.346586626015175, 0.13149957602710563]"
      ]
     },
     "execution_count": 71,
     "metadata": {},
     "output_type": "execute_result"
    }
   ],
   "source": [
    "per_size = [x/max_size for x in sizes]\n",
    "per_size"
   ]
  },
  {
   "cell_type": "code",
   "execution_count": 75,
   "id": "856bb3b0",
   "metadata": {},
   "outputs": [
    {
     "data": {
      "text/plain": [
       "1816743"
      ]
     },
     "execution_count": 75,
     "metadata": {},
     "output_type": "execute_result"
    }
   ],
   "source": [
    "new_size = int(3633487*0.5)\n",
    "new_size"
   ]
  },
  {
   "cell_type": "markdown",
   "id": "518d1465",
   "metadata": {},
   "source": [
    "Vamos a usar upsample a 1816743 para tener por lo menos un 50% del feature que mas observaciones tiene"
   ]
  },
  {
   "cell_type": "code",
   "execution_count": 76,
   "id": "12e952c2",
   "metadata": {},
   "outputs": [],
   "source": [
    "ft0 = resample(ft0, replace=True, n_samples=new_size, random_state=27)\n",
    "ft1 = resample(ft1, replace=True, n_samples=new_size, random_state=27)\n",
    "ft2 = resample(ft2, replace=True, n_samples=new_size, random_state=27)\n",
    "ft3 = resample(ft3, replace=True, n_samples=new_size, random_state=27)"
   ]
  },
  {
   "cell_type": "code",
   "execution_count": 79,
   "id": "b2584292",
   "metadata": {},
   "outputs": [
    {
     "data": {
      "text/plain": [
       "0    1816743\n",
       "1    1816743\n",
       "2    1816743\n",
       "3    1816743\n",
       "Name: LABEL, dtype: int64"
      ]
     },
     "execution_count": 79,
     "metadata": {},
     "output_type": "execute_result"
    }
   ],
   "source": [
    "X = pd.concat([ft0, ft1, ft2, ft3])\n",
    "X['LABEL'].value_counts()"
   ]
  },
  {
   "cell_type": "code",
   "execution_count": 81,
   "id": "d0467844",
   "metadata": {},
   "outputs": [],
   "source": [
    "feature_train = X.drop(['LABEL'], axis=1)\n",
    "target_train = X['LABEL']"
   ]
  },
  {
   "cell_type": "markdown",
   "id": "e513c52a",
   "metadata": {},
   "source": [
    "### Implementación\n",
    "\n",
    "Algoritmo de árboles de decisión para entrenar el modelo"
   ]
  },
  {
   "cell_type": "code",
   "execution_count": null,
   "id": "bbb82738",
   "metadata": {},
   "outputs": [],
   "source": [
    "from sklearn.multiclass import OneVsRestClassifier\n",
    "from sklearn import svm\n",
    "import numpy as np\n",
    "random_state = np.random.RandomState(0)\n",
    "dtc = OneVsRestClassifier(\n",
    "    svm.SVC(kernel=\"linear\", probability=True, random_state=random_state)\n",
    ")\n",
    "dtc = dtc.fit(feature_train, target_train)"
   ]
  },
  {
   "cell_type": "markdown",
   "id": "992ffec2",
   "metadata": {},
   "source": [
    "**Métricas de desempeño del modelo**"
   ]
  },
  {
   "cell_type": "markdown",
   "id": "39cc62e3",
   "metadata": {},
   "source": [
    "Datos de pruebas"
   ]
  },
  {
   "cell_type": "code",
   "execution_count": null,
   "id": "16debae4",
   "metadata": {},
   "outputs": [],
   "source": [
    "from sklearn.metrics import confusion_matrix, classification_report"
   ]
  },
  {
   "cell_type": "code",
   "execution_count": null,
   "id": "69988293",
   "metadata": {},
   "outputs": [],
   "source": [
    "target_pred_test = dtc.predict(feature_test)"
   ]
  },
  {
   "cell_type": "code",
   "execution_count": null,
   "id": "b292e970",
   "metadata": {},
   "outputs": [],
   "source": [
    "confusion_matrix(target_test, target_pred_test)"
   ]
  },
  {
   "cell_type": "code",
   "execution_count": null,
   "id": "292b859f",
   "metadata": {},
   "outputs": [],
   "source": [
    "classification_report_test = classification_report(target_test, target_pred_test, target_names=['Normal flow', 'SYN Scan - aggressive', 'Denial of Service R-U-Dead-Yet', 'Denial of Service Slowloris'])\n",
    "print(classification_report_test)"
   ]
  },
  {
   "cell_type": "markdown",
   "id": "15dc11df",
   "metadata": {},
   "source": [
    "Datos de validación"
   ]
  },
  {
   "cell_type": "code",
   "execution_count": null,
   "id": "6f9a3b41",
   "metadata": {},
   "outputs": [],
   "source": [
    "target_pred_validation = dtc.predict(feature_validation)"
   ]
  },
  {
   "cell_type": "code",
   "execution_count": null,
   "id": "64cecb1e",
   "metadata": {},
   "outputs": [],
   "source": [
    "confusion_matrix(target_validation, target_pred_validation)"
   ]
  },
  {
   "cell_type": "code",
   "execution_count": null,
   "id": "e05a3384",
   "metadata": {},
   "outputs": [],
   "source": [
    "classification_report_validation = classification_report(target_validation, target_pred_validation, target_names=['Normal flow', 'SYN Scan - aggressive', 'Denial of Service R-U-Dead-Yet', 'Denial of Service Slowloris'])\n",
    "print(classification_report_validation)"
   ]
  },
  {
   "cell_type": "markdown",
   "id": "f35bbc87",
   "metadata": {},
   "source": [
    "Gráfica de la curva ROC"
   ]
  },
  {
   "cell_type": "code",
   "execution_count": null,
   "id": "4b63706c",
   "metadata": {},
   "outputs": [],
   "source": [
    "from sklearn.metrics import roc_curve, auc"
   ]
  },
  {
   "cell_type": "code",
   "execution_count": null,
   "id": "9dd19790",
   "metadata": {},
   "outputs": [],
   "source": [
    "y_score = dtc.decision_function(feature_test)"
   ]
  },
  {
   "cell_type": "code",
   "execution_count": null,
   "id": "cec03b00",
   "metadata": {},
   "outputs": [],
   "source": [
    "# Compute ROC curve and ROC area for each class\n",
    "fpr = dict()\n",
    "tpr = dict()\n",
    "roc_auc = dict()\n",
    "for i in range(n_classes):\n",
    "    fpr[i], tpr[i], _ = roc_curve(y_test[:, i], y_score[:, i])\n",
    "    roc_auc[i] = auc(fpr[i], tpr[i])\n",
    "\n",
    "# Compute micro-average ROC curve and ROC area\n",
    "fpr[\"micro\"], tpr[\"micro\"], _ = roc_curve(y_test.ravel(), y_score.ravel())\n",
    "roc_auc[\"micro\"] = auc(fpr[\"micro\"], tpr[\"micro\"])"
   ]
  },
  {
   "cell_type": "markdown",
   "id": "8f70fc07",
   "metadata": {},
   "source": [
    "Evaluación cruzada con K - folds para k = 10 "
   ]
  },
  {
   "cell_type": "code",
   "execution_count": null,
   "id": "2b424357",
   "metadata": {},
   "outputs": [],
   "source": []
  }
 ],
 "metadata": {
  "kernelspec": {
   "display_name": "proyecto01-cc3094",
   "language": "python",
   "name": "proyecto01-cc3094"
  },
  "language_info": {
   "codemirror_mode": {
    "name": "ipython",
    "version": 3
   },
   "file_extension": ".py",
   "mimetype": "text/x-python",
   "name": "python",
   "nbconvert_exporter": "python",
   "pygments_lexer": "ipython3",
   "version": "3.8.12"
  }
 },
 "nbformat": 4,
 "nbformat_minor": 5
}
