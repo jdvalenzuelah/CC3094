{
 "cells": [
  {
   "cell_type": "markdown",
   "id": "c7f1a6ff",
   "metadata": {},
   "source": [
    "# Proyecto 1\n",
    "## Proyecto SIMARGL\n",
    "\n",
    "\n",
    "Carlos Chew      - 17507\n",
    "Josue Valenzuela - 171001"
   ]
  },
  {
   "cell_type": "markdown",
   "id": "74435523",
   "metadata": {},
   "source": [
    "### Análisis exploratorio"
   ]
  },
  {
   "cell_type": "code",
   "execution_count": 1,
   "id": "0857722f",
   "metadata": {},
   "outputs": [],
   "source": [
    "import pandas as pd"
   ]
  },
  {
   "cell_type": "markdown",
   "id": "efd6f8c7",
   "metadata": {},
   "source": [
    "Vamos a usar la parte 1 y 2 del dataset"
   ]
  },
  {
   "cell_type": "code",
   "execution_count": 2,
   "id": "9d7d6db4",
   "metadata": {},
   "outputs": [
    {
     "data": {
      "text/html": [
       "<div>\n",
       "<style scoped>\n",
       "    .dataframe tbody tr th:only-of-type {\n",
       "        vertical-align: middle;\n",
       "    }\n",
       "\n",
       "    .dataframe tbody tr th {\n",
       "        vertical-align: top;\n",
       "    }\n",
       "\n",
       "    .dataframe thead th {\n",
       "        text-align: right;\n",
       "    }\n",
       "</style>\n",
       "<table border=\"1\" class=\"dataframe\">\n",
       "  <thead>\n",
       "    <tr style=\"text-align: right;\">\n",
       "      <th></th>\n",
       "      <th>BIFLOW_DIRECTION</th>\n",
       "      <th>DIRECTION</th>\n",
       "      <th>DST_TO_SRC_SECOND_BYTES</th>\n",
       "      <th>FIREWALL_EVENT</th>\n",
       "      <th>FIRST_SWITCHED</th>\n",
       "      <th>FLOW_ACTIVE_TIMEOUT</th>\n",
       "      <th>FLOW_DURATION_MICROSECONDS</th>\n",
       "      <th>FLOW_DURATION_MILLISECONDS</th>\n",
       "      <th>FLOW_END_MILLISECONDS</th>\n",
       "      <th>FLOW_END_SEC</th>\n",
       "      <th>...</th>\n",
       "      <th>TCP_WIN_MSS_IN</th>\n",
       "      <th>TCP_WIN_MSS_OUT</th>\n",
       "      <th>TCP_WIN_SCALE_IN</th>\n",
       "      <th>TCP_WIN_SCALE_OUT</th>\n",
       "      <th>SRC_TOS</th>\n",
       "      <th>DST_TOS</th>\n",
       "      <th>L7_PROTO_NAME</th>\n",
       "      <th>SAMPLING_INTERVAL</th>\n",
       "      <th>TOTAL_FLOWS_EXP</th>\n",
       "      <th>LABEL</th>\n",
       "    </tr>\n",
       "  </thead>\n",
       "  <tbody>\n",
       "    <tr>\n",
       "      <th>0</th>\n",
       "      <td>1</td>\n",
       "      <td>0</td>\n",
       "      <td>40</td>\n",
       "      <td>0</td>\n",
       "      <td>1616660040</td>\n",
       "      <td>120</td>\n",
       "      <td>339</td>\n",
       "      <td>0</td>\n",
       "      <td>1616660040010</td>\n",
       "      <td>1616660040</td>\n",
       "      <td>...</td>\n",
       "      <td>1460</td>\n",
       "      <td>0</td>\n",
       "      <td>0</td>\n",
       "      <td>0</td>\n",
       "      <td>0</td>\n",
       "      <td>0</td>\n",
       "      <td>Unknown</td>\n",
       "      <td>1</td>\n",
       "      <td>2293398</td>\n",
       "      <td>Normal flow</td>\n",
       "    </tr>\n",
       "    <tr>\n",
       "      <th>1</th>\n",
       "      <td>1</td>\n",
       "      <td>0</td>\n",
       "      <td>,</td>\n",
       "      <td>0</td>\n",
       "      <td>1616660040</td>\n",
       "      <td>120</td>\n",
       "      <td>0</td>\n",
       "      <td>0</td>\n",
       "      <td>1616660040068</td>\n",
       "      <td>1616660040</td>\n",
       "      <td>...</td>\n",
       "      <td>0</td>\n",
       "      <td>0</td>\n",
       "      <td>0</td>\n",
       "      <td>0</td>\n",
       "      <td>40</td>\n",
       "      <td>0</td>\n",
       "      <td>ICMP</td>\n",
       "      <td>1</td>\n",
       "      <td>2293400</td>\n",
       "      <td>Normal flow</td>\n",
       "    </tr>\n",
       "    <tr>\n",
       "      <th>2</th>\n",
       "      <td>1</td>\n",
       "      <td>0</td>\n",
       "      <td>104</td>\n",
       "      <td>0</td>\n",
       "      <td>1616660040</td>\n",
       "      <td>120</td>\n",
       "      <td>44725</td>\n",
       "      <td>44</td>\n",
       "      <td>1616660040114</td>\n",
       "      <td>1616660040</td>\n",
       "      <td>...</td>\n",
       "      <td>0</td>\n",
       "      <td>0</td>\n",
       "      <td>0</td>\n",
       "      <td>0</td>\n",
       "      <td>0</td>\n",
       "      <td>0</td>\n",
       "      <td>TLS</td>\n",
       "      <td>1</td>\n",
       "      <td>2293404</td>\n",
       "      <td>Normal flow</td>\n",
       "    </tr>\n",
       "    <tr>\n",
       "      <th>3</th>\n",
       "      <td>1</td>\n",
       "      <td>0</td>\n",
       "      <td>,</td>\n",
       "      <td>0</td>\n",
       "      <td>1616660040</td>\n",
       "      <td>120</td>\n",
       "      <td>0</td>\n",
       "      <td>0</td>\n",
       "      <td>1616660040122</td>\n",
       "      <td>1616660040</td>\n",
       "      <td>...</td>\n",
       "      <td>1440</td>\n",
       "      <td>0</td>\n",
       "      <td>8</td>\n",
       "      <td>0</td>\n",
       "      <td>40</td>\n",
       "      <td>0</td>\n",
       "      <td>Unknown</td>\n",
       "      <td>1</td>\n",
       "      <td>2293407</td>\n",
       "      <td>Normal flow</td>\n",
       "    </tr>\n",
       "    <tr>\n",
       "      <th>4</th>\n",
       "      <td>1</td>\n",
       "      <td>0</td>\n",
       "      <td>40</td>\n",
       "      <td>0</td>\n",
       "      <td>1616660040</td>\n",
       "      <td>120</td>\n",
       "      <td>1114</td>\n",
       "      <td>1</td>\n",
       "      <td>1616660040184</td>\n",
       "      <td>1616660040</td>\n",
       "      <td>...</td>\n",
       "      <td>0</td>\n",
       "      <td>0</td>\n",
       "      <td>0</td>\n",
       "      <td>0</td>\n",
       "      <td>0</td>\n",
       "      <td>0</td>\n",
       "      <td>TLS</td>\n",
       "      <td>1</td>\n",
       "      <td>2293409</td>\n",
       "      <td>Normal flow</td>\n",
       "    </tr>\n",
       "  </tbody>\n",
       "</table>\n",
       "<p>5 rows × 50 columns</p>\n",
       "</div>"
      ],
      "text/plain": [
       "   BIFLOW_DIRECTION  DIRECTION DST_TO_SRC_SECOND_BYTES  FIREWALL_EVENT  \\\n",
       "0                 1          0                      40               0   \n",
       "1                 1          0                       ,               0   \n",
       "2                 1          0                     104               0   \n",
       "3                 1          0                       ,               0   \n",
       "4                 1          0                      40               0   \n",
       "\n",
       "   FIRST_SWITCHED  FLOW_ACTIVE_TIMEOUT  FLOW_DURATION_MICROSECONDS  \\\n",
       "0      1616660040                  120                         339   \n",
       "1      1616660040                  120                           0   \n",
       "2      1616660040                  120                       44725   \n",
       "3      1616660040                  120                           0   \n",
       "4      1616660040                  120                        1114   \n",
       "\n",
       "   FLOW_DURATION_MILLISECONDS  FLOW_END_MILLISECONDS  FLOW_END_SEC  ...  \\\n",
       "0                           0          1616660040010    1616660040  ...   \n",
       "1                           0          1616660040068    1616660040  ...   \n",
       "2                          44          1616660040114    1616660040  ...   \n",
       "3                           0          1616660040122    1616660040  ...   \n",
       "4                           1          1616660040184    1616660040  ...   \n",
       "\n",
       "   TCP_WIN_MSS_IN  TCP_WIN_MSS_OUT  TCP_WIN_SCALE_IN  TCP_WIN_SCALE_OUT  \\\n",
       "0            1460                0                 0                  0   \n",
       "1               0                0                 0                  0   \n",
       "2               0                0                 0                  0   \n",
       "3            1440                0                 8                  0   \n",
       "4               0                0                 0                  0   \n",
       "\n",
       "   SRC_TOS  DST_TOS  L7_PROTO_NAME SAMPLING_INTERVAL TOTAL_FLOWS_EXP  \\\n",
       "0        0        0        Unknown                 1         2293398   \n",
       "1       40        0           ICMP                 1         2293400   \n",
       "2        0        0            TLS                 1         2293404   \n",
       "3       40        0        Unknown                 1         2293407   \n",
       "4        0        0            TLS                 1         2293409   \n",
       "\n",
       "         LABEL  \n",
       "0  Normal flow  \n",
       "1  Normal flow  \n",
       "2  Normal flow  \n",
       "3  Normal flow  \n",
       "4  Normal flow  \n",
       "\n",
       "[5 rows x 50 columns]"
      ]
     },
     "execution_count": 2,
     "metadata": {},
     "output_type": "execute_result"
    }
   ],
   "source": [
    "df1 = pd.read_csv('datasets/dataset-part1.csv')\n",
    "df1.head(5)"
   ]
  },
  {
   "cell_type": "code",
   "execution_count": 3,
   "id": "24ccd651",
   "metadata": {},
   "outputs": [
    {
     "data": {
      "text/html": [
       "<div>\n",
       "<style scoped>\n",
       "    .dataframe tbody tr th:only-of-type {\n",
       "        vertical-align: middle;\n",
       "    }\n",
       "\n",
       "    .dataframe tbody tr th {\n",
       "        vertical-align: top;\n",
       "    }\n",
       "\n",
       "    .dataframe thead th {\n",
       "        text-align: right;\n",
       "    }\n",
       "</style>\n",
       "<table border=\"1\" class=\"dataframe\">\n",
       "  <thead>\n",
       "    <tr style=\"text-align: right;\">\n",
       "      <th></th>\n",
       "      <th>BIFLOW_DIRECTION</th>\n",
       "      <th>DIRECTION</th>\n",
       "      <th>DST_TO_SRC_SECOND_BYTES</th>\n",
       "      <th>FIREWALL_EVENT</th>\n",
       "      <th>FIRST_SWITCHED</th>\n",
       "      <th>FLOW_ACTIVE_TIMEOUT</th>\n",
       "      <th>FLOW_DURATION_MICROSECONDS</th>\n",
       "      <th>FLOW_DURATION_MILLISECONDS</th>\n",
       "      <th>FLOW_END_MILLISECONDS</th>\n",
       "      <th>FLOW_END_SEC</th>\n",
       "      <th>...</th>\n",
       "      <th>TCP_WIN_MSS_IN</th>\n",
       "      <th>TCP_WIN_MSS_OUT</th>\n",
       "      <th>TCP_WIN_SCALE_IN</th>\n",
       "      <th>TCP_WIN_SCALE_OUT</th>\n",
       "      <th>SRC_TOS</th>\n",
       "      <th>DST_TOS</th>\n",
       "      <th>L7_PROTO_NAME</th>\n",
       "      <th>SAMPLING_INTERVAL</th>\n",
       "      <th>TOTAL_FLOWS_EXP</th>\n",
       "      <th>LABEL</th>\n",
       "    </tr>\n",
       "  </thead>\n",
       "  <tbody>\n",
       "    <tr>\n",
       "      <th>0</th>\n",
       "      <td>1</td>\n",
       "      <td>0</td>\n",
       "      <td>,,48,,,,,,,,,,40,,,,,,,,,,40,,,,,,,,,,40,,,,,,...</td>\n",
       "      <td>0</td>\n",
       "      <td>1618174987</td>\n",
       "      <td>120</td>\n",
       "      <td>104116914</td>\n",
       "      <td>104116</td>\n",
       "      <td>1618175092090</td>\n",
       "      <td>1618175092</td>\n",
       "      <td>...</td>\n",
       "      <td>1460</td>\n",
       "      <td>1460</td>\n",
       "      <td>0</td>\n",
       "      <td>0</td>\n",
       "      <td>0</td>\n",
       "      <td>164</td>\n",
       "      <td>TLS</td>\n",
       "      <td>1</td>\n",
       "      <td>77251491</td>\n",
       "      <td>Normal flow</td>\n",
       "    </tr>\n",
       "    <tr>\n",
       "      <th>1</th>\n",
       "      <td>1</td>\n",
       "      <td>0</td>\n",
       "      <td>,,,,,,,,,,,</td>\n",
       "      <td>0</td>\n",
       "      <td>1618175067</td>\n",
       "      <td>120</td>\n",
       "      <td>9529030</td>\n",
       "      <td>9529</td>\n",
       "      <td>1618175077010</td>\n",
       "      <td>1618175077</td>\n",
       "      <td>...</td>\n",
       "      <td>0</td>\n",
       "      <td>0</td>\n",
       "      <td>0</td>\n",
       "      <td>0</td>\n",
       "      <td>0</td>\n",
       "      <td>0</td>\n",
       "      <td>STUN.Messenger</td>\n",
       "      <td>1</td>\n",
       "      <td>77251492</td>\n",
       "      <td>Normal flow</td>\n",
       "    </tr>\n",
       "    <tr>\n",
       "      <th>2</th>\n",
       "      <td>1</td>\n",
       "      <td>0</td>\n",
       "      <td>,,,,,,,,,,,</td>\n",
       "      <td>0</td>\n",
       "      <td>1618175067</td>\n",
       "      <td>120</td>\n",
       "      <td>9529169</td>\n",
       "      <td>9529</td>\n",
       "      <td>1618175077010</td>\n",
       "      <td>1618175077</td>\n",
       "      <td>...</td>\n",
       "      <td>0</td>\n",
       "      <td>0</td>\n",
       "      <td>0</td>\n",
       "      <td>0</td>\n",
       "      <td>192</td>\n",
       "      <td>0</td>\n",
       "      <td>ICMP</td>\n",
       "      <td>1</td>\n",
       "      <td>77251493</td>\n",
       "      <td>Normal flow</td>\n",
       "    </tr>\n",
       "    <tr>\n",
       "      <th>3</th>\n",
       "      <td>1</td>\n",
       "      <td>0</td>\n",
       "      <td>,</td>\n",
       "      <td>0</td>\n",
       "      <td>1618175077</td>\n",
       "      <td>120</td>\n",
       "      <td>0</td>\n",
       "      <td>0</td>\n",
       "      <td>1618175077021</td>\n",
       "      <td>1618175077</td>\n",
       "      <td>...</td>\n",
       "      <td>0</td>\n",
       "      <td>0</td>\n",
       "      <td>0</td>\n",
       "      <td>0</td>\n",
       "      <td>72</td>\n",
       "      <td>0</td>\n",
       "      <td>ICMP</td>\n",
       "      <td>1</td>\n",
       "      <td>77251494</td>\n",
       "      <td>Normal flow</td>\n",
       "    </tr>\n",
       "    <tr>\n",
       "      <th>4</th>\n",
       "      <td>1</td>\n",
       "      <td>0</td>\n",
       "      <td>,</td>\n",
       "      <td>0</td>\n",
       "      <td>1618175077</td>\n",
       "      <td>120</td>\n",
       "      <td>0</td>\n",
       "      <td>0</td>\n",
       "      <td>1618175077069</td>\n",
       "      <td>1618175077</td>\n",
       "      <td>...</td>\n",
       "      <td>0</td>\n",
       "      <td>0</td>\n",
       "      <td>0</td>\n",
       "      <td>0</td>\n",
       "      <td>0</td>\n",
       "      <td>0</td>\n",
       "      <td>Unknown</td>\n",
       "      <td>1</td>\n",
       "      <td>77251495</td>\n",
       "      <td>Normal flow</td>\n",
       "    </tr>\n",
       "  </tbody>\n",
       "</table>\n",
       "<p>5 rows × 50 columns</p>\n",
       "</div>"
      ],
      "text/plain": [
       "   BIFLOW_DIRECTION  DIRECTION  \\\n",
       "0                 1          0   \n",
       "1                 1          0   \n",
       "2                 1          0   \n",
       "3                 1          0   \n",
       "4                 1          0   \n",
       "\n",
       "                             DST_TO_SRC_SECOND_BYTES  FIREWALL_EVENT  \\\n",
       "0  ,,48,,,,,,,,,,40,,,,,,,,,,40,,,,,,,,,,40,,,,,,...               0   \n",
       "1                                        ,,,,,,,,,,,               0   \n",
       "2                                        ,,,,,,,,,,,               0   \n",
       "3                                                  ,               0   \n",
       "4                                                  ,               0   \n",
       "\n",
       "   FIRST_SWITCHED  FLOW_ACTIVE_TIMEOUT  FLOW_DURATION_MICROSECONDS  \\\n",
       "0      1618174987                  120                   104116914   \n",
       "1      1618175067                  120                     9529030   \n",
       "2      1618175067                  120                     9529169   \n",
       "3      1618175077                  120                           0   \n",
       "4      1618175077                  120                           0   \n",
       "\n",
       "   FLOW_DURATION_MILLISECONDS  FLOW_END_MILLISECONDS  FLOW_END_SEC  ...  \\\n",
       "0                      104116          1618175092090    1618175092  ...   \n",
       "1                        9529          1618175077010    1618175077  ...   \n",
       "2                        9529          1618175077010    1618175077  ...   \n",
       "3                           0          1618175077021    1618175077  ...   \n",
       "4                           0          1618175077069    1618175077  ...   \n",
       "\n",
       "   TCP_WIN_MSS_IN  TCP_WIN_MSS_OUT  TCP_WIN_SCALE_IN  TCP_WIN_SCALE_OUT  \\\n",
       "0            1460             1460                 0                  0   \n",
       "1               0                0                 0                  0   \n",
       "2               0                0                 0                  0   \n",
       "3               0                0                 0                  0   \n",
       "4               0                0                 0                  0   \n",
       "\n",
       "   SRC_TOS  DST_TOS   L7_PROTO_NAME SAMPLING_INTERVAL TOTAL_FLOWS_EXP  \\\n",
       "0        0      164             TLS                 1        77251491   \n",
       "1        0        0  STUN.Messenger                 1        77251492   \n",
       "2      192        0            ICMP                 1        77251493   \n",
       "3       72        0            ICMP                 1        77251494   \n",
       "4        0        0         Unknown                 1        77251495   \n",
       "\n",
       "         LABEL  \n",
       "0  Normal flow  \n",
       "1  Normal flow  \n",
       "2  Normal flow  \n",
       "3  Normal flow  \n",
       "4  Normal flow  \n",
       "\n",
       "[5 rows x 50 columns]"
      ]
     },
     "execution_count": 3,
     "metadata": {},
     "output_type": "execute_result"
    }
   ],
   "source": [
    "df2 = pd.read_csv('datasets/dataset-part2.csv')\n",
    "df2.head(5)"
   ]
  },
  {
   "cell_type": "markdown",
   "id": "9bc4c63c",
   "metadata": {},
   "source": [
    "Verifiquemos que tengan las mismas columnas y unamos los datasets en uno solo"
   ]
  },
  {
   "cell_type": "code",
   "execution_count": 4,
   "id": "bc8cbfb6",
   "metadata": {},
   "outputs": [
    {
     "data": {
      "text/plain": [
       "True"
      ]
     },
     "execution_count": 4,
     "metadata": {},
     "output_type": "execute_result"
    }
   ],
   "source": [
    "list(df1.columns) == list(df2.columns)"
   ]
  },
  {
   "cell_type": "code",
   "execution_count": 5,
   "id": "0ca7bb38",
   "metadata": {},
   "outputs": [
    {
     "data": {
      "text/html": [
       "<div>\n",
       "<style scoped>\n",
       "    .dataframe tbody tr th:only-of-type {\n",
       "        vertical-align: middle;\n",
       "    }\n",
       "\n",
       "    .dataframe tbody tr th {\n",
       "        vertical-align: top;\n",
       "    }\n",
       "\n",
       "    .dataframe thead th {\n",
       "        text-align: right;\n",
       "    }\n",
       "</style>\n",
       "<table border=\"1\" class=\"dataframe\">\n",
       "  <thead>\n",
       "    <tr style=\"text-align: right;\">\n",
       "      <th></th>\n",
       "      <th>BIFLOW_DIRECTION</th>\n",
       "      <th>DIRECTION</th>\n",
       "      <th>DST_TO_SRC_SECOND_BYTES</th>\n",
       "      <th>FIREWALL_EVENT</th>\n",
       "      <th>FIRST_SWITCHED</th>\n",
       "      <th>FLOW_ACTIVE_TIMEOUT</th>\n",
       "      <th>FLOW_DURATION_MICROSECONDS</th>\n",
       "      <th>FLOW_DURATION_MILLISECONDS</th>\n",
       "      <th>FLOW_END_MILLISECONDS</th>\n",
       "      <th>FLOW_END_SEC</th>\n",
       "      <th>...</th>\n",
       "      <th>TCP_WIN_MSS_IN</th>\n",
       "      <th>TCP_WIN_MSS_OUT</th>\n",
       "      <th>TCP_WIN_SCALE_IN</th>\n",
       "      <th>TCP_WIN_SCALE_OUT</th>\n",
       "      <th>SRC_TOS</th>\n",
       "      <th>DST_TOS</th>\n",
       "      <th>L7_PROTO_NAME</th>\n",
       "      <th>SAMPLING_INTERVAL</th>\n",
       "      <th>TOTAL_FLOWS_EXP</th>\n",
       "      <th>LABEL</th>\n",
       "    </tr>\n",
       "  </thead>\n",
       "  <tbody>\n",
       "    <tr>\n",
       "      <th>0</th>\n",
       "      <td>1</td>\n",
       "      <td>0</td>\n",
       "      <td>40</td>\n",
       "      <td>0</td>\n",
       "      <td>1616660040</td>\n",
       "      <td>120</td>\n",
       "      <td>339</td>\n",
       "      <td>0</td>\n",
       "      <td>1616660040010</td>\n",
       "      <td>1616660040</td>\n",
       "      <td>...</td>\n",
       "      <td>1460</td>\n",
       "      <td>0</td>\n",
       "      <td>0</td>\n",
       "      <td>0</td>\n",
       "      <td>0</td>\n",
       "      <td>0</td>\n",
       "      <td>Unknown</td>\n",
       "      <td>1</td>\n",
       "      <td>2293398</td>\n",
       "      <td>Normal flow</td>\n",
       "    </tr>\n",
       "    <tr>\n",
       "      <th>1</th>\n",
       "      <td>1</td>\n",
       "      <td>0</td>\n",
       "      <td>,</td>\n",
       "      <td>0</td>\n",
       "      <td>1616660040</td>\n",
       "      <td>120</td>\n",
       "      <td>0</td>\n",
       "      <td>0</td>\n",
       "      <td>1616660040068</td>\n",
       "      <td>1616660040</td>\n",
       "      <td>...</td>\n",
       "      <td>0</td>\n",
       "      <td>0</td>\n",
       "      <td>0</td>\n",
       "      <td>0</td>\n",
       "      <td>40</td>\n",
       "      <td>0</td>\n",
       "      <td>ICMP</td>\n",
       "      <td>1</td>\n",
       "      <td>2293400</td>\n",
       "      <td>Normal flow</td>\n",
       "    </tr>\n",
       "    <tr>\n",
       "      <th>2</th>\n",
       "      <td>1</td>\n",
       "      <td>0</td>\n",
       "      <td>104</td>\n",
       "      <td>0</td>\n",
       "      <td>1616660040</td>\n",
       "      <td>120</td>\n",
       "      <td>44725</td>\n",
       "      <td>44</td>\n",
       "      <td>1616660040114</td>\n",
       "      <td>1616660040</td>\n",
       "      <td>...</td>\n",
       "      <td>0</td>\n",
       "      <td>0</td>\n",
       "      <td>0</td>\n",
       "      <td>0</td>\n",
       "      <td>0</td>\n",
       "      <td>0</td>\n",
       "      <td>TLS</td>\n",
       "      <td>1</td>\n",
       "      <td>2293404</td>\n",
       "      <td>Normal flow</td>\n",
       "    </tr>\n",
       "    <tr>\n",
       "      <th>3</th>\n",
       "      <td>1</td>\n",
       "      <td>0</td>\n",
       "      <td>,</td>\n",
       "      <td>0</td>\n",
       "      <td>1616660040</td>\n",
       "      <td>120</td>\n",
       "      <td>0</td>\n",
       "      <td>0</td>\n",
       "      <td>1616660040122</td>\n",
       "      <td>1616660040</td>\n",
       "      <td>...</td>\n",
       "      <td>1440</td>\n",
       "      <td>0</td>\n",
       "      <td>8</td>\n",
       "      <td>0</td>\n",
       "      <td>40</td>\n",
       "      <td>0</td>\n",
       "      <td>Unknown</td>\n",
       "      <td>1</td>\n",
       "      <td>2293407</td>\n",
       "      <td>Normal flow</td>\n",
       "    </tr>\n",
       "    <tr>\n",
       "      <th>4</th>\n",
       "      <td>1</td>\n",
       "      <td>0</td>\n",
       "      <td>40</td>\n",
       "      <td>0</td>\n",
       "      <td>1616660040</td>\n",
       "      <td>120</td>\n",
       "      <td>1114</td>\n",
       "      <td>1</td>\n",
       "      <td>1616660040184</td>\n",
       "      <td>1616660040</td>\n",
       "      <td>...</td>\n",
       "      <td>0</td>\n",
       "      <td>0</td>\n",
       "      <td>0</td>\n",
       "      <td>0</td>\n",
       "      <td>0</td>\n",
       "      <td>0</td>\n",
       "      <td>TLS</td>\n",
       "      <td>1</td>\n",
       "      <td>2293409</td>\n",
       "      <td>Normal flow</td>\n",
       "    </tr>\n",
       "  </tbody>\n",
       "</table>\n",
       "<p>5 rows × 50 columns</p>\n",
       "</div>"
      ],
      "text/plain": [
       "   BIFLOW_DIRECTION  DIRECTION DST_TO_SRC_SECOND_BYTES  FIREWALL_EVENT  \\\n",
       "0                 1          0                      40               0   \n",
       "1                 1          0                       ,               0   \n",
       "2                 1          0                     104               0   \n",
       "3                 1          0                       ,               0   \n",
       "4                 1          0                      40               0   \n",
       "\n",
       "   FIRST_SWITCHED  FLOW_ACTIVE_TIMEOUT  FLOW_DURATION_MICROSECONDS  \\\n",
       "0      1616660040                  120                         339   \n",
       "1      1616660040                  120                           0   \n",
       "2      1616660040                  120                       44725   \n",
       "3      1616660040                  120                           0   \n",
       "4      1616660040                  120                        1114   \n",
       "\n",
       "   FLOW_DURATION_MILLISECONDS  FLOW_END_MILLISECONDS  FLOW_END_SEC  ...  \\\n",
       "0                           0          1616660040010    1616660040  ...   \n",
       "1                           0          1616660040068    1616660040  ...   \n",
       "2                          44          1616660040114    1616660040  ...   \n",
       "3                           0          1616660040122    1616660040  ...   \n",
       "4                           1          1616660040184    1616660040  ...   \n",
       "\n",
       "   TCP_WIN_MSS_IN  TCP_WIN_MSS_OUT  TCP_WIN_SCALE_IN  TCP_WIN_SCALE_OUT  \\\n",
       "0            1460                0                 0                  0   \n",
       "1               0                0                 0                  0   \n",
       "2               0                0                 0                  0   \n",
       "3            1440                0                 8                  0   \n",
       "4               0                0                 0                  0   \n",
       "\n",
       "   SRC_TOS  DST_TOS  L7_PROTO_NAME SAMPLING_INTERVAL TOTAL_FLOWS_EXP  \\\n",
       "0        0        0        Unknown                 1         2293398   \n",
       "1       40        0           ICMP                 1         2293400   \n",
       "2        0        0            TLS                 1         2293404   \n",
       "3       40        0        Unknown                 1         2293407   \n",
       "4        0        0            TLS                 1         2293409   \n",
       "\n",
       "         LABEL  \n",
       "0  Normal flow  \n",
       "1  Normal flow  \n",
       "2  Normal flow  \n",
       "3  Normal flow  \n",
       "4  Normal flow  \n",
       "\n",
       "[5 rows x 50 columns]"
      ]
     },
     "execution_count": 5,
     "metadata": {},
     "output_type": "execute_result"
    }
   ],
   "source": [
    "df = pd.concat([df1, df2])\n",
    "del df1, df2\n",
    "df.head(5)"
   ]
  },
  {
   "cell_type": "code",
   "execution_count": 6,
   "id": "3e7d0f8c",
   "metadata": {},
   "outputs": [],
   "source": [
    "# Quitamos los valores invalidos\n",
    "df = df.dropna()"
   ]
  },
  {
   "cell_type": "code",
   "execution_count": 7,
   "id": "a73b67d8",
   "metadata": {},
   "outputs": [
    {
     "name": "stdout",
     "output_type": "stream",
     "text": [
      "<class 'pandas.core.frame.DataFrame'>\n",
      "Int64Index: 12207873 entries, 0 to 8637206\n",
      "Data columns (total 50 columns):\n",
      " #   Column                      Dtype \n",
      "---  ------                      ----- \n",
      " 0   BIFLOW_DIRECTION            int64 \n",
      " 1   DIRECTION                   int64 \n",
      " 2   DST_TO_SRC_SECOND_BYTES     object\n",
      " 3   FIREWALL_EVENT              int64 \n",
      " 4   FIRST_SWITCHED              int64 \n",
      " 5   FLOW_ACTIVE_TIMEOUT         int64 \n",
      " 6   FLOW_DURATION_MICROSECONDS  int64 \n",
      " 7   FLOW_DURATION_MILLISECONDS  int64 \n",
      " 8   FLOW_END_MILLISECONDS       int64 \n",
      " 9   FLOW_END_SEC                int64 \n",
      " 10  FLOW_ID                     int64 \n",
      " 11  FLOW_INACTIVE_TIMEOUT       int64 \n",
      " 12  FLOW_START_MILLISECONDS     int64 \n",
      " 13  FLOW_START_SEC              int64 \n",
      " 14  FRAME_LENGTH                int64 \n",
      " 15  IN_BYTES                    int64 \n",
      " 16  IN_PKTS                     int64 \n",
      " 17  IPV4_DST_ADDR               object\n",
      " 18  IPV4_SRC_ADDR               object\n",
      " 19  L4_DST_PORT                 int64 \n",
      " 20  L4_SRC_PORT                 int64 \n",
      " 21  LAST_SWITCHED               int64 \n",
      " 22  MAX_IP_PKT_LEN              int64 \n",
      " 23  MIN_IP_PKT_LEN              int64 \n",
      " 24  OOORDER_IN_PKTS             int64 \n",
      " 25  OOORDER_OUT_PKTS            int64 \n",
      " 26  OUT_BYTES                   int64 \n",
      " 27  OUT_PKTS                    int64 \n",
      " 28  PROTOCOL                    int64 \n",
      " 29  PROTOCOL_MAP                object\n",
      " 30  RETRANSMITTED_IN_BYTES      int64 \n",
      " 31  RETRANSMITTED_IN_PKTS       int64 \n",
      " 32  RETRANSMITTED_OUT_BYTES     int64 \n",
      " 33  RETRANSMITTED_OUT_PKTS      int64 \n",
      " 34  SRC_TO_DST_SECOND_BYTES     object\n",
      " 35  TCP_FLAGS                   int64 \n",
      " 36  TCP_WIN_MAX_IN              int64 \n",
      " 37  TCP_WIN_MAX_OUT             int64 \n",
      " 38  TCP_WIN_MIN_IN              int64 \n",
      " 39  TCP_WIN_MIN_OUT             int64 \n",
      " 40  TCP_WIN_MSS_IN              int64 \n",
      " 41  TCP_WIN_MSS_OUT             int64 \n",
      " 42  TCP_WIN_SCALE_IN            int64 \n",
      " 43  TCP_WIN_SCALE_OUT           int64 \n",
      " 44  SRC_TOS                     int64 \n",
      " 45  DST_TOS                     int64 \n",
      " 46  L7_PROTO_NAME               object\n",
      " 47  SAMPLING_INTERVAL           int64 \n",
      " 48  TOTAL_FLOWS_EXP             int64 \n",
      " 49  LABEL                       object\n",
      "dtypes: int64(43), object(7)\n",
      "memory usage: 4.6+ GB\n"
     ]
    }
   ],
   "source": [
    "df.info()"
   ]
  },
  {
   "cell_type": "markdown",
   "id": "bbedce50",
   "metadata": {},
   "source": [
    "### Pre – procesamiento"
   ]
  },
  {
   "cell_type": "markdown",
   "id": "4601ebdb",
   "metadata": {},
   "source": [
    "Veamos que valores tiene la columna LABEL"
   ]
  },
  {
   "cell_type": "code",
   "execution_count": 8,
   "id": "0819b3bb",
   "metadata": {},
   "outputs": [
    {
     "data": {
      "text/plain": [
       "Normal flow                       6570058\n",
       "SYN Scan - aggressive             2496814\n",
       "Denial of Service R-U-Dead-Yet    2276947\n",
       "Denial of Service Slowloris        864054\n",
       "Name: LABEL, dtype: int64"
      ]
     },
     "execution_count": 8,
     "metadata": {},
     "output_type": "execute_result"
    }
   ],
   "source": [
    "df['LABEL'].value_counts()"
   ]
  },
  {
   "cell_type": "markdown",
   "id": "4a82a6f8",
   "metadata": {},
   "source": [
    "Los valores de Denial of Service Slowloris son mucho menos que de los demas. Se usara Oversample una vez las observaciones esten codificadas y separadas en train y test"
   ]
  },
  {
   "cell_type": "markdown",
   "id": "6d5d95c2",
   "metadata": {},
   "source": [
    "**Codificamos las variables cualitativas relevantes**"
   ]
  },
  {
   "cell_type": "code",
   "execution_count": 9,
   "id": "635d8e68",
   "metadata": {},
   "outputs": [],
   "source": [
    "def rename(options):\n",
    "    return lambda option: options[option]\n",
    "\n",
    "def get_options(row):\n",
    "    return dict((v, k) for k, v in enumerate(row.value_counts().reset_index()['index']))"
   ]
  },
  {
   "cell_type": "code",
   "execution_count": 10,
   "id": "df444f04",
   "metadata": {},
   "outputs": [
    {
     "data": {
      "text/plain": [
       "{'Normal flow': 0,\n",
       " 'SYN Scan - aggressive': 1,\n",
       " 'Denial of Service R-U-Dead-Yet': 2,\n",
       " 'Denial of Service Slowloris': 3}"
      ]
     },
     "execution_count": 10,
     "metadata": {},
     "output_type": "execute_result"
    }
   ],
   "source": [
    "label_options = get_options(df['LABEL'])\n",
    "label_options"
   ]
  },
  {
   "cell_type": "code",
   "execution_count": 11,
   "id": "6b16eb74",
   "metadata": {},
   "outputs": [
    {
     "data": {
      "text/plain": [
       "0    6570058\n",
       "1    2496814\n",
       "2    2276947\n",
       "3     864054\n",
       "Name: LABEL, dtype: int64"
      ]
     },
     "execution_count": 11,
     "metadata": {},
     "output_type": "execute_result"
    }
   ],
   "source": [
    "df['LABEL'] = df['LABEL'].apply(rename(label_options))\n",
    "df['LABEL'].value_counts()"
   ]
  },
  {
   "cell_type": "code",
   "execution_count": 12,
   "id": "c5822ad9",
   "metadata": {},
   "outputs": [
    {
     "data": {
      "text/plain": [
       "tcp          8950058\n",
       "udp          2791088\n",
       "icmp          466697\n",
       "ipv6-icmp         28\n",
       "gre                2\n",
       "Name: PROTOCOL_MAP, dtype: int64"
      ]
     },
     "execution_count": 12,
     "metadata": {},
     "output_type": "execute_result"
    }
   ],
   "source": [
    "df['PROTOCOL_MAP'].value_counts()"
   ]
  },
  {
   "cell_type": "code",
   "execution_count": 13,
   "id": "b2b2ce13",
   "metadata": {},
   "outputs": [
    {
     "data": {
      "text/plain": [
       "0    8950058\n",
       "1    2791088\n",
       "2     466697\n",
       "3         28\n",
       "4          2\n",
       "Name: PROTOCOL_MAP, dtype: int64"
      ]
     },
     "execution_count": 13,
     "metadata": {},
     "output_type": "execute_result"
    }
   ],
   "source": [
    "df['PROTOCOL_MAP'] = df['PROTOCOL_MAP'].apply(rename(get_options(df['PROTOCOL_MAP'])))\n",
    "df['PROTOCOL_MAP'].value_counts()"
   ]
  },
  {
   "cell_type": "code",
   "execution_count": 14,
   "id": "5296d2d3",
   "metadata": {},
   "outputs": [
    {
     "data": {
      "text/plain": [
       "Unknown            4090802\n",
       "HTTP               3237616\n",
       "DNS                1076385\n",
       "TLS                 859143\n",
       "ICMP                360551\n",
       "                    ...   \n",
       "NFS.HTTP                 1\n",
       "Radius.NFS               1\n",
       "OCS                      1\n",
       "VHUA.Amazon              1\n",
       "COAP.BitTorrent          1\n",
       "Name: L7_PROTO_NAME, Length: 457, dtype: int64"
      ]
     },
     "execution_count": 14,
     "metadata": {},
     "output_type": "execute_result"
    }
   ],
   "source": [
    "df['L7_PROTO_NAME'].value_counts()"
   ]
  },
  {
   "cell_type": "code",
   "execution_count": 15,
   "id": "0555135c",
   "metadata": {},
   "outputs": [
    {
     "data": {
      "text/plain": [
       "0      4090802\n",
       "1      3237616\n",
       "2      1076385\n",
       "3       859143\n",
       "4       360551\n",
       "        ...   \n",
       "452          1\n",
       "453          1\n",
       "454          1\n",
       "455          1\n",
       "456          1\n",
       "Name: L7_PROTO_NAME, Length: 457, dtype: int64"
      ]
     },
     "execution_count": 15,
     "metadata": {},
     "output_type": "execute_result"
    }
   ],
   "source": [
    "df['L7_PROTO_NAME'] = df['L7_PROTO_NAME'].apply(rename(get_options(df['L7_PROTO_NAME'])))\n",
    "df['L7_PROTO_NAME'].value_counts()"
   ]
  },
  {
   "cell_type": "markdown",
   "id": "87484679",
   "metadata": {},
   "source": [
    "Las variables  DST_TO_SRC_SECOND_BYTES, IPV4_DST_ADDR, IPV4_SRC_ADDR, SRC_TO_DST_SECOND_BYTES no parecen tener informacion relevante, no las utilizaremos en adelante."
   ]
  },
  {
   "cell_type": "code",
   "execution_count": 16,
   "id": "bf2a265b",
   "metadata": {},
   "outputs": [],
   "source": [
    "df = df.drop([ 'DST_TO_SRC_SECOND_BYTES', 'IPV4_DST_ADDR', 'IPV4_SRC_ADDR', 'SRC_TO_DST_SECOND_BYTES'], axis=1)"
   ]
  },
  {
   "cell_type": "code",
   "execution_count": 17,
   "id": "8df1935d",
   "metadata": {},
   "outputs": [
    {
     "name": "stdout",
     "output_type": "stream",
     "text": [
      "<class 'pandas.core.frame.DataFrame'>\n",
      "Int64Index: 12207873 entries, 0 to 8637206\n",
      "Data columns (total 46 columns):\n",
      " #   Column                      Dtype\n",
      "---  ------                      -----\n",
      " 0   BIFLOW_DIRECTION            int64\n",
      " 1   DIRECTION                   int64\n",
      " 2   FIREWALL_EVENT              int64\n",
      " 3   FIRST_SWITCHED              int64\n",
      " 4   FLOW_ACTIVE_TIMEOUT         int64\n",
      " 5   FLOW_DURATION_MICROSECONDS  int64\n",
      " 6   FLOW_DURATION_MILLISECONDS  int64\n",
      " 7   FLOW_END_MILLISECONDS       int64\n",
      " 8   FLOW_END_SEC                int64\n",
      " 9   FLOW_ID                     int64\n",
      " 10  FLOW_INACTIVE_TIMEOUT       int64\n",
      " 11  FLOW_START_MILLISECONDS     int64\n",
      " 12  FLOW_START_SEC              int64\n",
      " 13  FRAME_LENGTH                int64\n",
      " 14  IN_BYTES                    int64\n",
      " 15  IN_PKTS                     int64\n",
      " 16  L4_DST_PORT                 int64\n",
      " 17  L4_SRC_PORT                 int64\n",
      " 18  LAST_SWITCHED               int64\n",
      " 19  MAX_IP_PKT_LEN              int64\n",
      " 20  MIN_IP_PKT_LEN              int64\n",
      " 21  OOORDER_IN_PKTS             int64\n",
      " 22  OOORDER_OUT_PKTS            int64\n",
      " 23  OUT_BYTES                   int64\n",
      " 24  OUT_PKTS                    int64\n",
      " 25  PROTOCOL                    int64\n",
      " 26  PROTOCOL_MAP                int64\n",
      " 27  RETRANSMITTED_IN_BYTES      int64\n",
      " 28  RETRANSMITTED_IN_PKTS       int64\n",
      " 29  RETRANSMITTED_OUT_BYTES     int64\n",
      " 30  RETRANSMITTED_OUT_PKTS      int64\n",
      " 31  TCP_FLAGS                   int64\n",
      " 32  TCP_WIN_MAX_IN              int64\n",
      " 33  TCP_WIN_MAX_OUT             int64\n",
      " 34  TCP_WIN_MIN_IN              int64\n",
      " 35  TCP_WIN_MIN_OUT             int64\n",
      " 36  TCP_WIN_MSS_IN              int64\n",
      " 37  TCP_WIN_MSS_OUT             int64\n",
      " 38  TCP_WIN_SCALE_IN            int64\n",
      " 39  TCP_WIN_SCALE_OUT           int64\n",
      " 40  SRC_TOS                     int64\n",
      " 41  DST_TOS                     int64\n",
      " 42  L7_PROTO_NAME               int64\n",
      " 43  SAMPLING_INTERVAL           int64\n",
      " 44  TOTAL_FLOWS_EXP             int64\n",
      " 45  LABEL                       int64\n",
      "dtypes: int64(46)\n",
      "memory usage: 4.3 GB\n"
     ]
    }
   ],
   "source": [
    "df.info()"
   ]
  },
  {
   "cell_type": "markdown",
   "id": "828addea",
   "metadata": {},
   "source": [
    "Guardamos el df para ahorrar tiempo en el futuro"
   ]
  },
  {
   "cell_type": "code",
   "execution_count": 19,
   "id": "994261e7",
   "metadata": {},
   "outputs": [],
   "source": [
    "df.to_csv('datasets/df.csv')\n",
    "del df"
   ]
  },
  {
   "cell_type": "markdown",
   "id": "ae6b1b52",
   "metadata": {},
   "source": [
    "### Selección de características"
   ]
  },
  {
   "cell_type": "code",
   "execution_count": 2,
   "id": "8a567250",
   "metadata": {},
   "outputs": [],
   "source": [
    "from sklearn.feature_selection import SelectKBest, chi2"
   ]
  },
  {
   "cell_type": "code",
   "execution_count": 3,
   "id": "20ad7650",
   "metadata": {},
   "outputs": [],
   "source": [
    "df = pd.read_csv('datasets/df.csv')"
   ]
  },
  {
   "cell_type": "code",
   "execution_count": 4,
   "id": "2e6a761c",
   "metadata": {},
   "outputs": [],
   "source": [
    "X = df.drop(['LABEL'], axis=1)\n",
    "y = df['LABEL']\n",
    "del df"
   ]
  },
  {
   "cell_type": "code",
   "execution_count": 5,
   "id": "aa370c3e",
   "metadata": {},
   "outputs": [
    {
     "data": {
      "text/plain": [
       "(12207873, 46)"
      ]
     },
     "execution_count": 5,
     "metadata": {},
     "output_type": "execute_result"
    }
   ],
   "source": [
    "X.shape"
   ]
  },
  {
   "cell_type": "code",
   "execution_count": 6,
   "id": "c346e08a",
   "metadata": {},
   "outputs": [],
   "source": [
    "X_new = SelectKBest(chi2, k=10).fit_transform(X, y)"
   ]
  },
  {
   "cell_type": "code",
   "execution_count": 7,
   "id": "5c6db18a",
   "metadata": {},
   "outputs": [
    {
     "data": {
      "text/plain": [
       "(12207873, 10)"
      ]
     },
     "execution_count": 7,
     "metadata": {},
     "output_type": "execute_result"
    }
   ],
   "source": [
    "X = X_new\n",
    "del X_new\n",
    "X.shape"
   ]
  },
  {
   "cell_type": "code",
   "execution_count": 8,
   "id": "0e94d7e2",
   "metadata": {},
   "outputs": [],
   "source": [
    "X = pd.DataFrame(X)"
   ]
  },
  {
   "cell_type": "markdown",
   "id": "12687db9",
   "metadata": {},
   "source": [
    "### Separación de datos \n",
    "- 55% entrenamiento\n",
    "- 15% validación\n",
    "- 30% pruebas"
   ]
  },
  {
   "cell_type": "code",
   "execution_count": 9,
   "id": "70dd4621",
   "metadata": {},
   "outputs": [],
   "source": [
    "from sklearn.model_selection import train_test_split"
   ]
  },
  {
   "cell_type": "code",
   "execution_count": 10,
   "id": "8b050af9",
   "metadata": {},
   "outputs": [],
   "source": [
    "feature_train, feature_test, target_train, target_test =\\\n",
    "    train_test_split(X, y, test_size=0.30, random_state=31)\n",
    "\n",
    "feature_train, feature_validation, target_train, target_validation =\\\n",
    "    train_test_split(feature_train, target_train, test_size=0.21, random_state=31) # 0.21*0.7 = 0.15"
   ]
  },
  {
   "cell_type": "markdown",
   "id": "92da047b",
   "metadata": {},
   "source": [
    "#### Resolver el problema del desbalance en las observaciones del ataque Slowloris"
   ]
  },
  {
   "cell_type": "code",
   "execution_count": 11,
   "id": "de9de3de",
   "metadata": {},
   "outputs": [],
   "source": [
    "from sklearn.utils import resample"
   ]
  },
  {
   "cell_type": "code",
   "execution_count": 12,
   "id": "1ebf48c4",
   "metadata": {},
   "outputs": [],
   "source": [
    "X = pd.concat(\n",
    "    [\n",
    "        feature_train.reset_index().drop(['index'], axis=1),\n",
    "        pd.DataFrame(target_train).reset_index().drop(['index'], axis=1)\n",
    "    ],\n",
    "    axis=1\n",
    ")"
   ]
  },
  {
   "cell_type": "code",
   "execution_count": 13,
   "id": "ff3166c0",
   "metadata": {},
   "outputs": [
    {
     "data": {
      "text/html": [
       "<div>\n",
       "<style scoped>\n",
       "    .dataframe tbody tr th:only-of-type {\n",
       "        vertical-align: middle;\n",
       "    }\n",
       "\n",
       "    .dataframe tbody tr th {\n",
       "        vertical-align: top;\n",
       "    }\n",
       "\n",
       "    .dataframe thead th {\n",
       "        text-align: right;\n",
       "    }\n",
       "</style>\n",
       "<table border=\"1\" class=\"dataframe\">\n",
       "  <thead>\n",
       "    <tr style=\"text-align: right;\">\n",
       "      <th></th>\n",
       "      <th>0</th>\n",
       "      <th>1</th>\n",
       "      <th>2</th>\n",
       "      <th>3</th>\n",
       "      <th>4</th>\n",
       "      <th>5</th>\n",
       "      <th>6</th>\n",
       "      <th>7</th>\n",
       "      <th>8</th>\n",
       "      <th>9</th>\n",
       "      <th>LABEL</th>\n",
       "    </tr>\n",
       "  </thead>\n",
       "  <tbody>\n",
       "    <tr>\n",
       "      <th>0</th>\n",
       "      <td>5745749</td>\n",
       "      <td>17901</td>\n",
       "      <td>17</td>\n",
       "      <td>1618232890860</td>\n",
       "      <td>82997240</td>\n",
       "      <td>1618232890842</td>\n",
       "      <td>164</td>\n",
       "      <td>64860</td>\n",
       "      <td>64860</td>\n",
       "      <td>82997240</td>\n",
       "      <td>2</td>\n",
       "    </tr>\n",
       "    <tr>\n",
       "      <th>1</th>\n",
       "      <td>3373497</td>\n",
       "      <td>0</td>\n",
       "      <td>0</td>\n",
       "      <td>1616673692217</td>\n",
       "      <td>5667065</td>\n",
       "      <td>1616673692217</td>\n",
       "      <td>0</td>\n",
       "      <td>0</td>\n",
       "      <td>0</td>\n",
       "      <td>5667065</td>\n",
       "      <td>0</td>\n",
       "    </tr>\n",
       "    <tr>\n",
       "      <th>2</th>\n",
       "      <td>3005773</td>\n",
       "      <td>899816</td>\n",
       "      <td>899</td>\n",
       "      <td>1618224720923</td>\n",
       "      <td>80257264</td>\n",
       "      <td>1618224720023</td>\n",
       "      <td>104</td>\n",
       "      <td>507</td>\n",
       "      <td>507</td>\n",
       "      <td>80257264</td>\n",
       "      <td>2</td>\n",
       "    </tr>\n",
       "    <tr>\n",
       "      <th>3</th>\n",
       "      <td>1949520</td>\n",
       "      <td>742</td>\n",
       "      <td>0</td>\n",
       "      <td>1616669105445</td>\n",
       "      <td>4243088</td>\n",
       "      <td>1616669105444</td>\n",
       "      <td>40</td>\n",
       "      <td>1024</td>\n",
       "      <td>1024</td>\n",
       "      <td>4243088</td>\n",
       "      <td>1</td>\n",
       "    </tr>\n",
       "    <tr>\n",
       "      <th>4</th>\n",
       "      <td>2734119</td>\n",
       "      <td>228</td>\n",
       "      <td>0</td>\n",
       "      <td>1616671657493</td>\n",
       "      <td>5027687</td>\n",
       "      <td>1616671657492</td>\n",
       "      <td>40</td>\n",
       "      <td>1024</td>\n",
       "      <td>1024</td>\n",
       "      <td>5027687</td>\n",
       "      <td>1</td>\n",
       "    </tr>\n",
       "  </tbody>\n",
       "</table>\n",
       "</div>"
      ],
      "text/plain": [
       "         0       1    2              3         4              5    6      7  \\\n",
       "0  5745749   17901   17  1618232890860  82997240  1618232890842  164  64860   \n",
       "1  3373497       0    0  1616673692217   5667065  1616673692217    0      0   \n",
       "2  3005773  899816  899  1618224720923  80257264  1618224720023  104    507   \n",
       "3  1949520     742    0  1616669105445   4243088  1616669105444   40   1024   \n",
       "4  2734119     228    0  1616671657493   5027687  1616671657492   40   1024   \n",
       "\n",
       "       8         9  LABEL  \n",
       "0  64860  82997240      2  \n",
       "1      0   5667065      0  \n",
       "2    507  80257264      2  \n",
       "3   1024   4243088      1  \n",
       "4   1024   5027687      1  "
      ]
     },
     "execution_count": 13,
     "metadata": {},
     "output_type": "execute_result"
    }
   ],
   "source": [
    "X.head(5)"
   ]
  },
  {
   "cell_type": "code",
   "execution_count": 14,
   "id": "95b8971f",
   "metadata": {},
   "outputs": [],
   "source": [
    "ft0 = X[X.LABEL == 0]\n",
    "ft1 = X[X.LABEL == 1]\n",
    "ft2 = X[X.LABEL == 2]\n",
    "ft3 = X[X.LABEL == 3]"
   ]
  },
  {
   "cell_type": "code",
   "execution_count": 15,
   "id": "70c16c82",
   "metadata": {},
   "outputs": [
    {
     "data": {
      "text/plain": [
       "[3633487, 1380346, 1259318, 477802]"
      ]
     },
     "execution_count": 15,
     "metadata": {},
     "output_type": "execute_result"
    }
   ],
   "source": [
    "sizes = [len(ft0), len(ft1), len(ft2), len(ft3)]\n",
    "sizes"
   ]
  },
  {
   "cell_type": "code",
   "execution_count": 16,
   "id": "6c11c647",
   "metadata": {},
   "outputs": [
    {
     "data": {
      "text/plain": [
       "3633487"
      ]
     },
     "execution_count": 16,
     "metadata": {},
     "output_type": "execute_result"
    }
   ],
   "source": [
    "max_size = max(sizes)\n",
    "max_size"
   ]
  },
  {
   "cell_type": "code",
   "execution_count": 17,
   "id": "ed359bf2",
   "metadata": {},
   "outputs": [
    {
     "data": {
      "text/plain": [
       "[1.0, 0.37989567597186946, 0.346586626015175, 0.13149957602710563]"
      ]
     },
     "execution_count": 17,
     "metadata": {},
     "output_type": "execute_result"
    }
   ],
   "source": [
    "per_size = [x/max_size for x in sizes]\n",
    "per_size"
   ]
  },
  {
   "cell_type": "code",
   "execution_count": 18,
   "id": "5656fe4c",
   "metadata": {},
   "outputs": [
    {
     "data": {
      "text/plain": [
       "1816743"
      ]
     },
     "execution_count": 18,
     "metadata": {},
     "output_type": "execute_result"
    }
   ],
   "source": [
    "new_size = int(3633487*0.5)\n",
    "new_size"
   ]
  },
  {
   "cell_type": "markdown",
   "id": "619458d5",
   "metadata": {},
   "source": [
    "Vamos a usar upsample a 1816743 para tener por lo menos un 50% del feature que mas observaciones tiene"
   ]
  },
  {
   "cell_type": "code",
   "execution_count": 19,
   "id": "3055b01a",
   "metadata": {},
   "outputs": [],
   "source": [
    "ft0 = resample(ft0, replace=True, n_samples=new_size, random_state=27)\n",
    "ft1 = resample(ft1, replace=True, n_samples=new_size, random_state=27)\n",
    "ft2 = resample(ft2, replace=True, n_samples=new_size, random_state=27)\n",
    "ft3 = resample(ft3, replace=True, n_samples=new_size, random_state=27)"
   ]
  },
  {
   "cell_type": "code",
   "execution_count": 20,
   "id": "0b7b72d9",
   "metadata": {
    "scrolled": true
   },
   "outputs": [
    {
     "data": {
      "text/plain": [
       "0    1816743\n",
       "1    1816743\n",
       "2    1816743\n",
       "3    1816743\n",
       "Name: LABEL, dtype: int64"
      ]
     },
     "execution_count": 20,
     "metadata": {},
     "output_type": "execute_result"
    }
   ],
   "source": [
    "X = pd.concat([ft0, ft1, ft2, ft3])\n",
    "X['LABEL'].value_counts()"
   ]
  },
  {
   "cell_type": "code",
   "execution_count": 21,
   "id": "2fbd37da",
   "metadata": {},
   "outputs": [],
   "source": [
    "feature_train = X.drop(['LABEL'], axis=1)\n",
    "target_train = X['LABEL']"
   ]
  },
  {
   "cell_type": "markdown",
   "id": "60c9f5fb",
   "metadata": {},
   "source": [
    "### Implementación\n",
    "\n",
    "**Algoritmo de árboles de decisión para entrenar el modelo**"
   ]
  },
  {
   "cell_type": "code",
   "execution_count": 22,
   "id": "7c7ba237",
   "metadata": {},
   "outputs": [],
   "source": [
    "from sklearn import svm\n",
    "import numpy as np\n",
    "from sklearn.tree import DecisionTreeClassifier"
   ]
  },
  {
   "cell_type": "code",
   "execution_count": 23,
   "id": "918c98bb",
   "metadata": {},
   "outputs": [],
   "source": [
    "dtc = DecisionTreeClassifier()\n",
    "dtc = dtc.fit(feature_train, target_train)"
   ]
  },
  {
   "cell_type": "markdown",
   "id": "cf75bda5",
   "metadata": {},
   "source": [
    "**Métricas de desempeño del modelo**"
   ]
  },
  {
   "cell_type": "markdown",
   "id": "a2315978",
   "metadata": {},
   "source": [
    "Datos de pruebas"
   ]
  },
  {
   "cell_type": "code",
   "execution_count": 25,
   "id": "e7b98771",
   "metadata": {},
   "outputs": [],
   "source": [
    "from sklearn.metrics import confusion_matrix, classification_report"
   ]
  },
  {
   "cell_type": "code",
   "execution_count": 26,
   "id": "f9fd0b2a",
   "metadata": {},
   "outputs": [],
   "source": [
    "target_pred_test = dtc.predict(feature_test)"
   ]
  },
  {
   "cell_type": "code",
   "execution_count": 27,
   "id": "55f7bf7f",
   "metadata": {},
   "outputs": [
    {
     "data": {
      "text/plain": [
       "array([[1970452,    1848,      71,      21],\n",
       "       [    950,  747767,       0,       0],\n",
       "       [     17,       0,  682001,       0],\n",
       "       [      1,       0,       0,  259234]])"
      ]
     },
     "execution_count": 27,
     "metadata": {},
     "output_type": "execute_result"
    }
   ],
   "source": [
    "confusion_matrix(target_test, target_pred_test)"
   ]
  },
  {
   "cell_type": "code",
   "execution_count": 28,
   "id": "726ffad1",
   "metadata": {},
   "outputs": [
    {
     "name": "stdout",
     "output_type": "stream",
     "text": [
      "                                precision    recall  f1-score   support\n",
      "\n",
      "                   Normal flow       1.00      1.00      1.00   1972392\n",
      "         SYN Scan - aggressive       1.00      1.00      1.00    748717\n",
      "Denial of Service R-U-Dead-Yet       1.00      1.00      1.00    682018\n",
      "   Denial of Service Slowloris       1.00      1.00      1.00    259235\n",
      "\n",
      "                      accuracy                           1.00   3662362\n",
      "                     macro avg       1.00      1.00      1.00   3662362\n",
      "                  weighted avg       1.00      1.00      1.00   3662362\n",
      "\n"
     ]
    }
   ],
   "source": [
    "classification_report_test = classification_report(target_test, target_pred_test, target_names=['Normal flow', 'SYN Scan - aggressive', 'Denial of Service R-U-Dead-Yet', 'Denial of Service Slowloris'])\n",
    "print(classification_report_test)"
   ]
  },
  {
   "cell_type": "markdown",
   "id": "ed248ccb",
   "metadata": {},
   "source": [
    "Datos de validación"
   ]
  },
  {
   "cell_type": "code",
   "execution_count": 29,
   "id": "457e1f03",
   "metadata": {},
   "outputs": [],
   "source": [
    "target_pred_validation = dtc.predict(feature_validation)"
   ]
  },
  {
   "cell_type": "code",
   "execution_count": 30,
   "id": "a91082d2",
   "metadata": {},
   "outputs": [
    {
     "data": {
      "text/plain": [
       "array([[963203,    931,     33,     12],\n",
       "       [   505, 367246,      0,      0],\n",
       "       [     8,      0, 335603,      0],\n",
       "       [     0,      0,      0, 127017]])"
      ]
     },
     "execution_count": 30,
     "metadata": {},
     "output_type": "execute_result"
    }
   ],
   "source": [
    "confusion_matrix(target_validation, target_pred_validation)"
   ]
  },
  {
   "cell_type": "code",
   "execution_count": 31,
   "id": "ee378cea",
   "metadata": {},
   "outputs": [
    {
     "name": "stdout",
     "output_type": "stream",
     "text": [
      "                                precision    recall  f1-score   support\n",
      "\n",
      "                   Normal flow       1.00      1.00      1.00    964179\n",
      "         SYN Scan - aggressive       1.00      1.00      1.00    367751\n",
      "Denial of Service R-U-Dead-Yet       1.00      1.00      1.00    335611\n",
      "   Denial of Service Slowloris       1.00      1.00      1.00    127017\n",
      "\n",
      "                      accuracy                           1.00   1794558\n",
      "                     macro avg       1.00      1.00      1.00   1794558\n",
      "                  weighted avg       1.00      1.00      1.00   1794558\n",
      "\n"
     ]
    }
   ],
   "source": [
    "classification_report_validation = classification_report(target_validation, target_pred_validation, target_names=['Normal flow', 'SYN Scan - aggressive', 'Denial of Service R-U-Dead-Yet', 'Denial of Service Slowloris'])\n",
    "print(classification_report_validation)"
   ]
  },
  {
   "cell_type": "markdown",
   "id": "93f9101f",
   "metadata": {},
   "source": [
    "Gráfica de la curva ROC"
   ]
  },
  {
   "cell_type": "code",
   "execution_count": 34,
   "id": "a8b95b2f",
   "metadata": {},
   "outputs": [],
   "source": [
    "from sklearn.metrics import roc_curve, auc\n",
    "import matplotlib.pyplot as plt\n",
    "import seaborn as sns"
   ]
  },
  {
   "cell_type": "code",
   "execution_count": 50,
   "id": "caf4ca03",
   "metadata": {},
   "outputs": [],
   "source": [
    "def plot_roc_curve(fper, tper):  \n",
    "    plt.plot(fper, tper, color='orange', label='ROC')\n",
    "    plt.plot([0, 1], [0, 1], color='darkblue', linestyle='--')\n",
    "    plt.xlabel('False Positive Rate')\n",
    "    plt.ylabel('True Positive Rate')\n",
    "    plt.title('Receiver Operating Characteristic (ROC) Curve')\n",
    "    plt.legend()\n",
    "    plt.show()"
   ]
  },
  {
   "cell_type": "code",
   "execution_count": 42,
   "id": "77f1b7e4",
   "metadata": {},
   "outputs": [],
   "source": [
    "probs = dtc.predict_proba(feature_test)  \n",
    "probs = probs[:, 1]"
   ]
  },
  {
   "cell_type": "code",
   "execution_count": 51,
   "id": "f488bc6b",
   "metadata": {},
   "outputs": [
    {
     "name": "stderr",
     "output_type": "stream",
     "text": [
      "/Users/josuevalenzuela/Documents/per/u/A6S1/cc3094/labs/proyecto01/venv/lib/python3.8/site-packages/sklearn/metrics/_ranking.py:999: UndefinedMetricWarning: No positive samples in y_true, true positive value should be meaningless\n",
      "  warnings.warn(\n"
     ]
    },
    {
     "data": {
      "image/png": "[encoded data removed]",
      "text/plain": [
       "<Figure size 432x288 with 1 Axes>"
      ]
     },
     "metadata": {
      "needs_background": "light"
     },
     "output_type": "display_data"
    }
   ],
   "source": [
    "fper, tper, thresholds = roc_curve(target_test, probs, pos_label=4)\n",
    "plot_roc_curve(fper, tper)"
   ]
  },
  {
   "cell_type": "code",
   "execution_count": 52,
   "id": "6501741f",
   "metadata": {},
   "outputs": [
    {
     "name": "stderr",
     "output_type": "stream",
     "text": [
      "/Users/josuevalenzuela/Documents/per/u/A6S1/cc3094/labs/proyecto01/venv/lib/python3.8/site-packages/sklearn/metrics/_ranking.py:999: UndefinedMetricWarning: No positive samples in y_true, true positive value should be meaningless\n",
      "  warnings.warn(\n"
     ]
    },
    {
     "data": {
      "image/png": "[encoded data removed]",
      "text/plain": [
       "<Figure size 432x288 with 1 Axes>"
      ]
     },
     "metadata": {
      "needs_background": "light"
     },
     "output_type": "display_data"
    }
   ],
   "source": [
    "probs = dtc.predict_proba(feature_validation)  \n",
    "probs = probs[:, 1]\n",
    "fper, tper, thresholds = roc_curve(target_validation, probs, pos_label=4)\n",
    "plot_roc_curve(fper, tper)"
   ]
  },
  {
   "cell_type": "markdown",
   "id": "08f2e40e",
   "metadata": {},
   "source": [
    "Evaluación cruzada con K - folds para k = 10 "
   ]
  },
  {
   "cell_type": "code",
   "execution_count": 53,
   "id": "fde4a0fc",
   "metadata": {},
   "outputs": [],
   "source": [
    "from sklearn.model_selection import cross_val_score"
   ]
  },
  {
   "cell_type": "code",
   "execution_count": 56,
   "id": "ddd44814",
   "metadata": {},
   "outputs": [
    {
     "data": {
      "text/plain": [
       "array([0.9990143 , 0.99901703, 0.99883409, 0.9989433 , 0.9990416 ,\n",
       "       0.9990416 , 0.99898699, 0.99899791, 0.99901703, 0.99895696])"
      ]
     },
     "execution_count": 56,
     "metadata": {},
     "output_type": "execute_result"
    }
   ],
   "source": [
    "cross_val_score(dtc, feature_test, target_test, cv=10)"
   ]
  },
  {
   "cell_type": "code",
   "execution_count": 57,
   "id": "eda298a0",
   "metadata": {},
   "outputs": [
    {
     "data": {
      "text/plain": [
       "array([0.99893567, 0.99903598, 0.9989301 , 0.99891338, 0.99904155,\n",
       "       0.99889109, 0.99888552, 0.99889667, 0.99899696, 0.99888551])"
      ]
     },
     "execution_count": 57,
     "metadata": {},
     "output_type": "execute_result"
    }
   ],
   "source": [
    "cross_val_score(dtc, feature_validation, target_validation, cv=10)"
   ]
  },
  {
   "cell_type": "markdown",
   "id": "5e7c04be",
   "metadata": {},
   "source": [
    "**Algoritmo de random forest para entrenar el modelo**"
   ]
  },
  {
   "cell_type": "code",
   "execution_count": 58,
   "id": "ad823a69",
   "metadata": {},
   "outputs": [],
   "source": [
    "from sklearn.ensemble import RandomForestClassifier"
   ]
  },
  {
   "cell_type": "code",
   "execution_count": 59,
   "id": "b3be86bd",
   "metadata": {},
   "outputs": [],
   "source": [
    "dtc = RandomForestClassifier(max_depth=2, random_state=0)"
   ]
  },
  {
   "cell_type": "code",
   "execution_count": 60,
   "id": "25eb68b6",
   "metadata": {},
   "outputs": [],
   "source": [
    "dtc = dtc.fit(feature_train, target_train)"
   ]
  },
  {
   "cell_type": "markdown",
   "id": "b18a6ac3",
   "metadata": {},
   "source": [
    "**Métricas de desempeño del modelo**\n",
    "\n",
    "Datos de prueba"
   ]
  },
  {
   "cell_type": "code",
   "execution_count": 61,
   "id": "1de88d7c",
   "metadata": {},
   "outputs": [],
   "source": [
    "target_pred_test = dtc.predict(feature_test)"
   ]
  },
  {
   "cell_type": "code",
   "execution_count": 62,
   "id": "6536008a",
   "metadata": {},
   "outputs": [
    {
     "data": {
      "text/plain": [
       "array([[ 209405,  104889, 1203044,  455054],\n",
       "       [     82,  748609,      26,       0],\n",
       "       [      0,       0,  682018,       0],\n",
       "       [      0,       0,      16,  259219]])"
      ]
     },
     "execution_count": 62,
     "metadata": {},
     "output_type": "execute_result"
    }
   ],
   "source": [
    "confusion_matrix(target_test, target_pred_test)"
   ]
  },
  {
   "cell_type": "code",
   "execution_count": 63,
   "id": "1ea197c9",
   "metadata": {},
   "outputs": [
    {
     "name": "stdout",
     "output_type": "stream",
     "text": [
      "                                precision    recall  f1-score   support\n",
      "\n",
      "                   Normal flow       1.00      0.11      0.19   1972392\n",
      "         SYN Scan - aggressive       0.88      1.00      0.93    748717\n",
      "Denial of Service R-U-Dead-Yet       0.36      1.00      0.53    682018\n",
      "   Denial of Service Slowloris       0.36      1.00      0.53    259235\n",
      "\n",
      "                      accuracy                           0.52   3662362\n",
      "                     macro avg       0.65      0.78      0.55   3662362\n",
      "                  weighted avg       0.81      0.52      0.43   3662362\n",
      "\n"
     ]
    }
   ],
   "source": [
    "classification_report_test = classification_report(target_test, target_pred_test, target_names=['Normal flow', 'SYN Scan - aggressive', 'Denial of Service R-U-Dead-Yet', 'Denial of Service Slowloris'])\n",
    "print(classification_report_test)"
   ]
  },
  {
   "cell_type": "markdown",
   "id": "a55b0aa1",
   "metadata": {},
   "source": [
    "Datos de validación"
   ]
  },
  {
   "cell_type": "code",
   "execution_count": 64,
   "id": "674fc4ca",
   "metadata": {},
   "outputs": [],
   "source": [
    "target_pred_validation = dtc.predict(feature_validation)"
   ]
  },
  {
   "cell_type": "code",
   "execution_count": 65,
   "id": "df10d4c7",
   "metadata": {},
   "outputs": [
    {
     "data": {
      "text/plain": [
       "array([[102704,  51141, 587932, 222402],\n",
       "       [    42, 367696,     13,      0],\n",
       "       [     0,      0, 335611,      0],\n",
       "       [     0,      0,      4, 127013]])"
      ]
     },
     "execution_count": 65,
     "metadata": {},
     "output_type": "execute_result"
    }
   ],
   "source": [
    "confusion_matrix(target_validation, target_pred_validation)"
   ]
  },
  {
   "cell_type": "code",
   "execution_count": 66,
   "id": "6b537949",
   "metadata": {},
   "outputs": [
    {
     "name": "stdout",
     "output_type": "stream",
     "text": [
      "                                precision    recall  f1-score   support\n",
      "\n",
      "                   Normal flow       1.00      0.11      0.19    964179\n",
      "         SYN Scan - aggressive       0.88      1.00      0.93    367751\n",
      "Denial of Service R-U-Dead-Yet       0.36      1.00      0.53    335611\n",
      "   Denial of Service Slowloris       0.36      1.00      0.53    127017\n",
      "\n",
      "                      accuracy                           0.52   1794558\n",
      "                     macro avg       0.65      0.78      0.55   1794558\n",
      "                  weighted avg       0.81      0.52      0.43   1794558\n",
      "\n"
     ]
    }
   ],
   "source": [
    "classification_report_validation = classification_report(target_validation, target_pred_validation, target_names=['Normal flow', 'SYN Scan - aggressive', 'Denial of Service R-U-Dead-Yet', 'Denial of Service Slowloris'])\n",
    "print(classification_report_validation)"
   ]
  },
  {
   "cell_type": "markdown",
   "id": "a20663a6",
   "metadata": {},
   "source": [
    "Gráfica de la curva ROC"
   ]
  },
  {
   "cell_type": "code",
   "execution_count": 68,
   "id": "04c39433",
   "metadata": {},
   "outputs": [
    {
     "name": "stderr",
     "output_type": "stream",
     "text": [
      "/Users/josuevalenzuela/Documents/per/u/A6S1/cc3094/labs/proyecto01/venv/lib/python3.8/site-packages/sklearn/metrics/_ranking.py:999: UndefinedMetricWarning: No positive samples in y_true, true positive value should be meaningless\n",
      "  warnings.warn(\n"
     ]
    },
    {
     "data": {
      "image/png": "[encoded data removed]",
      "text/plain": [
       "<Figure size 432x288 with 1 Axes>"
      ]
     },
     "metadata": {
      "needs_background": "light"
     },
     "output_type": "display_data"
    }
   ],
   "source": [
    "probs = dtc.predict_proba(feature_test)  \n",
    "probs = probs[:, 1]\n",
    "fper, tper, thresholds = roc_curve(target_test, probs, pos_label=4)\n",
    "plot_roc_curve(fper, tper)"
   ]
  },
  {
   "cell_type": "code",
   "execution_count": 67,
   "id": "9c149f11",
   "metadata": {},
   "outputs": [
    {
     "name": "stderr",
     "output_type": "stream",
     "text": [
      "/Users/josuevalenzuela/Documents/per/u/A6S1/cc3094/labs/proyecto01/venv/lib/python3.8/site-packages/sklearn/metrics/_ranking.py:999: UndefinedMetricWarning: No positive samples in y_true, true positive value should be meaningless\n",
      "  warnings.warn(\n"
     ]
    },
    {
     "data": {
      "image/png": "[encoded data removed]",
      "text/plain": [
       "<Figure size 432x288 with 1 Axes>"
      ]
     },
     "metadata": {
      "needs_background": "light"
     },
     "output_type": "display_data"
    }
   ],
   "source": [
    "probs = dtc.predict_proba(feature_validation)  \n",
    "probs = probs[:, 1]\n",
    "fper, tper, thresholds = roc_curve(target_validation, probs, pos_label=4)\n",
    "plot_roc_curve(fper, tper)"
   ]
  },
  {
   "cell_type": "markdown",
   "id": "1c339a20",
   "metadata": {},
   "source": [
    "Evaluación cruzada con K - folds para k = 10 "
   ]
  },
  {
   "cell_type": "code",
   "execution_count": 69,
   "id": "76dad675",
   "metadata": {},
   "outputs": [
    {
     "data": {
      "text/plain": [
       "array([0.83906596, 0.83847345, 0.83816173, 0.83870783, 0.83858769,\n",
       "       0.83875152, 0.83923481, 0.83922116, 0.83821361, 0.8395297 ])"
      ]
     },
     "execution_count": 69,
     "metadata": {},
     "output_type": "execute_result"
    }
   ],
   "source": [
    "cross_val_score(dtc, feature_test, target_test, cv=10)"
   ]
  },
  {
   "cell_type": "code",
   "execution_count": 70,
   "id": "4fe84b5f",
   "metadata": {},
   "outputs": [
    {
     "data": {
      "text/plain": [
       "array([0.83935338, 0.83978803, 0.83803829, 0.83947597, 0.8383392 ,\n",
       "       0.83792127, 0.83792127, 0.8395707 , 0.83846647, 0.83931348])"
      ]
     },
     "execution_count": 70,
     "metadata": {},
     "output_type": "execute_result"
    }
   ],
   "source": [
    "cross_val_score(dtc, feature_validation, target_validation, cv=10)"
   ]
  },
  {
   "cell_type": "code",
   "execution_count": null,
   "id": "f9592ea0",
   "metadata": {},
   "outputs": [],
   "source": []
  }
 ],
 "metadata": {
  "kernelspec": {
   "display_name": "proyecto01-cc3094",
   "language": "python",
   "name": "proyecto01-cc3094"
  },
  "language_info": {
   "codemirror_mode": {
    "name": "ipython",
    "version": 3
   },
   "file_extension": ".py",
   "mimetype": "text/x-python",
   "name": "python",
   "nbconvert_exporter": "python",
   "pygments_lexer": "ipython3",
   "version": "3.8.12"
  }
 },
 "nbformat": 4,
 "nbformat_minor": 5
}
