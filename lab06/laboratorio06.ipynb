{
 "cells": [
  {
   "cell_type": "markdown",
   "id": "75900f04",
   "metadata": {},
   "source": [
    "# Laboratorio 6"
   ]
  },
  {
   "cell_type": "code",
   "execution_count": 1,
   "id": "b84ec3b7",
   "metadata": {},
   "outputs": [],
   "source": [
    "import json\n",
    "import pandas as pd\n",
    "import numpy as np\n",
    "import warnings\n",
    "from flare.data_science.features import domain_tld_extract\n",
    "from urllib.parse import urlparse, urlencode\n",
    "from flare.data_science.features import dga_classifier\n",
    "from flare.tools.umbrella import Umbrella\n",
    "import joblib\n",
    "import whois\n",
    "warnings.filterwarnings('ignore')\n",
    "warnings.simplefilter('ignore')"
   ]
  },
  {
   "cell_type": "code",
   "execution_count": 2,
   "id": "c9c3a49f",
   "metadata": {},
   "outputs": [],
   "source": [
    "def filter_set(dictionary, search_string):\n",
    "    def iterator_func(x):\n",
    "        if search_string in list(x.keys()):\n",
    "            return True\n",
    "        return False\n",
    "    return filter(iterator_func, dictionary)\n",
    "\n",
    "def getDomain(url):\n",
    "    return urlparse(url).netloc\n",
    "    \n",
    "def getProtocol(url):\n",
    "    return 1 if urlparse(url).scheme == 'https' else 0\n",
    "    \n",
    "def getSpecialCharacters(url):\n",
    "    count_characters = 0\n",
    "    count_characters += url.count('.')\n",
    "    count_characters += url.count('-')\n",
    "    count_characters += url.count('@')\n",
    "    count_characters += url.count('?')\n",
    "    count_characters += url.count('&')\n",
    "    count_characters += url.count('|')\n",
    "    count_characters += url.count('=')\n",
    "    count_characters += url.count('_')\n",
    "    count_characters += url.count('~')\n",
    "    count_characters += url.count('%')\n",
    "    count_characters += url.count('/')\n",
    "    count_characters += url.count('*')\n",
    "    count_characters += url.count(':')\n",
    "    count_characters += url.count(',')\n",
    "    count_characters += url.count(';')\n",
    "    count_characters += url.count('$')\n",
    "    count_characters += url.count('%20')\n",
    "    count_characters += url.count(' ')\n",
    "    return count_characters\n",
    "\n",
    "def creation_date(domain):\n",
    "    return whois.whois(domain).creation_date"
   ]
  },
  {
   "cell_type": "markdown",
   "id": "64d549cc",
   "metadata": {},
   "source": [
    "### Parte 1"
   ]
  },
  {
   "cell_type": "code",
   "execution_count": 3,
   "id": "366916bc",
   "metadata": {},
   "outputs": [],
   "source": [
    "file = open('large_eve.json')\n",
    "json_file = file.readlines()\n",
    "file.close()"
   ]
  },
  {
   "cell_type": "code",
   "execution_count": 4,
   "id": "6c829a15",
   "metadata": {},
   "outputs": [],
   "source": [
    "array = [json.loads(registro) for registro in json_file if registro]"
   ]
  },
  {
   "cell_type": "code",
   "execution_count": 5,
   "id": "e557a9a5",
   "metadata": {},
   "outputs": [
    {
     "data": {
      "text/plain": [
       "746909"
      ]
     },
     "execution_count": 5,
     "metadata": {},
     "output_type": "execute_result"
    }
   ],
   "source": [
    "len(array)"
   ]
  },
  {
   "cell_type": "code",
   "execution_count": 6,
   "id": "2b4561fd",
   "metadata": {},
   "outputs": [],
   "source": [
    "dns_records = list(filter_set(array, 'dns'))"
   ]
  },
  {
   "cell_type": "code",
   "execution_count": 7,
   "id": "d6d3737e",
   "metadata": {},
   "outputs": [
    {
     "name": "stdout",
     "output_type": "stream",
     "text": [
      "{'timestamp': '2017-07-22T17:33:27.398815-0500', 'flow_id': 2090016796251365, 'pcap_cnt': 54532, 'event_type': 'dns', 'vlan': 150, 'src_ip': '192.168.207.4', 'src_port': 53, 'dest_ip': '192.168.205.170', 'dest_port': 36690, 'proto': 'UDP', 'dns': {'type': 'answer', 'id': 26728, 'rcode': 'NXDOMAIN', 'rrname': '<root>', 'rrtype': 'SOA', 'ttl': 20864}}\n",
      "{'timestamp': '2017-07-22T17:34:45.072033-0500', 'flow_id': 49722652170593, 'pcap_cnt': 60675, 'event_type': 'dns', 'vlan': 110, 'src_ip': '2001:0dbb:0c18:0011:0260:6eff:fe30:0863', 'src_port': 33150, 'dest_ip': '2001:07fd:0000:0000:0000:0000:0000:0001', 'dest_port': 53, 'proto': 'UDP', 'dns': {'type': 'query', 'id': 31082, 'rrname': 'stork79.dropbox.com', 'rrtype': 'A', 'tx_id': 0}}\n"
     ]
    }
   ],
   "source": [
    "for i in range(100, 102):\n",
    "    print(dns_records[i])"
   ]
  },
  {
   "cell_type": "code",
   "execution_count": 8,
   "id": "16ccd8f3",
   "metadata": {},
   "outputs": [],
   "source": [
    "df = pd.json_normalize(dns_records)"
   ]
  },
  {
   "cell_type": "code",
   "execution_count": 10,
   "id": "63559f39",
   "metadata": {},
   "outputs": [],
   "source": [
    "registros = df[df['dns.rrtype'] == 'A']"
   ]
  },
  {
   "cell_type": "code",
   "execution_count": 11,
   "id": "890147f2",
   "metadata": {},
   "outputs": [
    {
     "data": {
      "text/plain": [
       "A    2849\n",
       "Name: dns.rrtype, dtype: int64"
      ]
     },
     "execution_count": 11,
     "metadata": {},
     "output_type": "execute_result"
    }
   ],
   "source": [
    "registros['dns.rrtype'].value_counts()"
   ]
  },
  {
   "cell_type": "code",
   "execution_count": 12,
   "id": "53abf63c",
   "metadata": {},
   "outputs": [],
   "source": [
    "unique_domains = registros.drop_duplicates(subset = ['dns.rrname'])"
   ]
  },
  {
   "cell_type": "code",
   "execution_count": 13,
   "id": "096ecefb",
   "metadata": {},
   "outputs": [],
   "source": [
    "unique_domains['tld_extract_domain'] = unique_domains['dns.rrname'].apply(domain_tld_extract)"
   ]
  },
  {
   "cell_type": "code",
   "execution_count": 14,
   "id": "debffbbe",
   "metadata": {},
   "outputs": [
    {
     "data": {
      "text/html": [
       "<div>\n",
       "<style scoped>\n",
       "    .dataframe tbody tr th:only-of-type {\n",
       "        vertical-align: middle;\n",
       "    }\n",
       "\n",
       "    .dataframe tbody tr th {\n",
       "        vertical-align: top;\n",
       "    }\n",
       "\n",
       "    .dataframe thead th {\n",
       "        text-align: right;\n",
       "    }\n",
       "</style>\n",
       "<table border=\"1\" class=\"dataframe\">\n",
       "  <thead>\n",
       "    <tr style=\"text-align: right;\">\n",
       "      <th></th>\n",
       "      <th>timestamp</th>\n",
       "      <th>flow_id</th>\n",
       "      <th>pcap_cnt</th>\n",
       "      <th>event_type</th>\n",
       "      <th>vlan</th>\n",
       "      <th>src_ip</th>\n",
       "      <th>src_port</th>\n",
       "      <th>dest_ip</th>\n",
       "      <th>dest_port</th>\n",
       "      <th>proto</th>\n",
       "      <th>dns.type</th>\n",
       "      <th>dns.id</th>\n",
       "      <th>dns.rrname</th>\n",
       "      <th>dns.rrtype</th>\n",
       "      <th>dns.tx_id</th>\n",
       "      <th>dns.rcode</th>\n",
       "      <th>dns.ttl</th>\n",
       "      <th>dns.rdata</th>\n",
       "      <th>tld_extract_domain</th>\n",
       "    </tr>\n",
       "  </thead>\n",
       "  <tbody>\n",
       "    <tr>\n",
       "      <th>0</th>\n",
       "      <td>2017-07-22T17:33:16.661646-0500</td>\n",
       "      <td>1327836194150542</td>\n",
       "      <td>22269</td>\n",
       "      <td>dns</td>\n",
       "      <td>110</td>\n",
       "      <td>2001:0dbb:0c18:0011:0260:6eff:fe30:0863</td>\n",
       "      <td>59680</td>\n",
       "      <td>2001:0500:0001:0000:0000:0000:803f:0235</td>\n",
       "      <td>53</td>\n",
       "      <td>UDP</td>\n",
       "      <td>query</td>\n",
       "      <td>15529</td>\n",
       "      <td>api.wunderground.com</td>\n",
       "      <td>A</td>\n",
       "      <td>0.0</td>\n",
       "      <td>NaN</td>\n",
       "      <td>NaN</td>\n",
       "      <td>NaN</td>\n",
       "      <td>wunderground.com</td>\n",
       "    </tr>\n",
       "    <tr>\n",
       "      <th>1</th>\n",
       "      <td>2017-07-22T17:33:24.990320-0500</td>\n",
       "      <td>2022925111925872</td>\n",
       "      <td>54352</td>\n",
       "      <td>dns</td>\n",
       "      <td>110</td>\n",
       "      <td>2001:0dbb:0c18:0011:0260:6eff:fe30:0863</td>\n",
       "      <td>38051</td>\n",
       "      <td>2001:0500:0003:0000:0000:0000:0000:0042</td>\n",
       "      <td>53</td>\n",
       "      <td>UDP</td>\n",
       "      <td>query</td>\n",
       "      <td>58278</td>\n",
       "      <td>stork79.dropbox.com</td>\n",
       "      <td>A</td>\n",
       "      <td>0.0</td>\n",
       "      <td>NaN</td>\n",
       "      <td>NaN</td>\n",
       "      <td>NaN</td>\n",
       "      <td>dropbox.com</td>\n",
       "    </tr>\n",
       "    <tr>\n",
       "      <th>2</th>\n",
       "      <td>2017-07-22T17:33:27.379891-0500</td>\n",
       "      <td>578544790391795</td>\n",
       "      <td>54519</td>\n",
       "      <td>dns</td>\n",
       "      <td>150</td>\n",
       "      <td>192.168.205.170</td>\n",
       "      <td>31393</td>\n",
       "      <td>192.168.207.4</td>\n",
       "      <td>53</td>\n",
       "      <td>UDP</td>\n",
       "      <td>query</td>\n",
       "      <td>54724</td>\n",
       "      <td>hpca-tier2.office.aol.com.ad.aol.aoltw.net</td>\n",
       "      <td>A</td>\n",
       "      <td>0.0</td>\n",
       "      <td>NaN</td>\n",
       "      <td>NaN</td>\n",
       "      <td>NaN</td>\n",
       "      <td>aoltw.net</td>\n",
       "    </tr>\n",
       "    <tr>\n",
       "      <th>6</th>\n",
       "      <td>2017-07-22T17:33:38.537426-0500</td>\n",
       "      <td>2167545251640146</td>\n",
       "      <td>55687</td>\n",
       "      <td>dns</td>\n",
       "      <td>180</td>\n",
       "      <td>192.168.198.62</td>\n",
       "      <td>35092</td>\n",
       "      <td>192.168.207.4</td>\n",
       "      <td>53</td>\n",
       "      <td>UDP</td>\n",
       "      <td>query</td>\n",
       "      <td>7425</td>\n",
       "      <td>safebrowsing.clients.google.com.home</td>\n",
       "      <td>A</td>\n",
       "      <td>0.0</td>\n",
       "      <td>NaN</td>\n",
       "      <td>NaN</td>\n",
       "      <td>NaN</td>\n",
       "      <td>safebrowsing.clients.google.com.home</td>\n",
       "    </tr>\n",
       "    <tr>\n",
       "      <th>9</th>\n",
       "      <td>2017-07-22T17:33:45.672579-0500</td>\n",
       "      <td>541745511744323</td>\n",
       "      <td>56307</td>\n",
       "      <td>dns</td>\n",
       "      <td>120</td>\n",
       "      <td>192.168.202.172</td>\n",
       "      <td>55580</td>\n",
       "      <td>192.168.207.4</td>\n",
       "      <td>53</td>\n",
       "      <td>UDP</td>\n",
       "      <td>query</td>\n",
       "      <td>12854</td>\n",
       "      <td>fxfeeds.mozilla.com</td>\n",
       "      <td>A</td>\n",
       "      <td>0.0</td>\n",
       "      <td>NaN</td>\n",
       "      <td>NaN</td>\n",
       "      <td>NaN</td>\n",
       "      <td>mozilla.com</td>\n",
       "    </tr>\n",
       "  </tbody>\n",
       "</table>\n",
       "</div>"
      ],
      "text/plain": [
       "                         timestamp           flow_id  pcap_cnt event_type  \\\n",
       "0  2017-07-22T17:33:16.661646-0500  1327836194150542     22269        dns   \n",
       "1  2017-07-22T17:33:24.990320-0500  2022925111925872     54352        dns   \n",
       "2  2017-07-22T17:33:27.379891-0500   578544790391795     54519        dns   \n",
       "6  2017-07-22T17:33:38.537426-0500  2167545251640146     55687        dns   \n",
       "9  2017-07-22T17:33:45.672579-0500   541745511744323     56307        dns   \n",
       "\n",
       "   vlan                                   src_ip  src_port  \\\n",
       "0   110  2001:0dbb:0c18:0011:0260:6eff:fe30:0863     59680   \n",
       "1   110  2001:0dbb:0c18:0011:0260:6eff:fe30:0863     38051   \n",
       "2   150                          192.168.205.170     31393   \n",
       "6   180                           192.168.198.62     35092   \n",
       "9   120                          192.168.202.172     55580   \n",
       "\n",
       "                                   dest_ip  dest_port proto dns.type  dns.id  \\\n",
       "0  2001:0500:0001:0000:0000:0000:803f:0235         53   UDP    query   15529   \n",
       "1  2001:0500:0003:0000:0000:0000:0000:0042         53   UDP    query   58278   \n",
       "2                            192.168.207.4         53   UDP    query   54724   \n",
       "6                            192.168.207.4         53   UDP    query    7425   \n",
       "9                            192.168.207.4         53   UDP    query   12854   \n",
       "\n",
       "                                   dns.rrname dns.rrtype  dns.tx_id dns.rcode  \\\n",
       "0                        api.wunderground.com          A        0.0       NaN   \n",
       "1                         stork79.dropbox.com          A        0.0       NaN   \n",
       "2  hpca-tier2.office.aol.com.ad.aol.aoltw.net          A        0.0       NaN   \n",
       "6        safebrowsing.clients.google.com.home          A        0.0       NaN   \n",
       "9                         fxfeeds.mozilla.com          A        0.0       NaN   \n",
       "\n",
       "   dns.ttl dns.rdata                    tld_extract_domain  \n",
       "0      NaN       NaN                      wunderground.com  \n",
       "1      NaN       NaN                           dropbox.com  \n",
       "2      NaN       NaN                             aoltw.net  \n",
       "6      NaN       NaN  safebrowsing.clients.google.com.home  \n",
       "9      NaN       NaN                           mozilla.com  "
      ]
     },
     "execution_count": 14,
     "metadata": {},
     "output_type": "execute_result"
    }
   ],
   "source": [
    "unique_domains.head()"
   ]
  },
  {
   "cell_type": "markdown",
   "id": "dde57f5e",
   "metadata": {},
   "source": [
    "### Parte 2"
   ]
  },
  {
   "cell_type": "code",
   "execution_count": 15,
   "id": "d23c75e5",
   "metadata": {},
   "outputs": [],
   "source": [
    "df_model = pd.DataFrame()\n",
    "df_model['longitud_hostname'] = unique_domains['dns.rrname'].apply(getDomain).str.len()\n",
    "df_model['special_characters'] = unique_domains['dns.rrname'].apply(getSpecialCharacters)\n",
    "df_model['longitud_url'] = unique_domains['dns.rrname'].str.len()\n",
    "df_model['ratio_digits_url'] = unique_domains['dns.rrname'].str.count('[0-9]') / unique_domains['dns.rrname'].str.len()\n",
    "df_model['ratio_digits_domain'] = unique_domains['dns.rrname'].apply(getDomain).str.count('[0-9]') / unique_domains['dns.rrname'].apply(getDomain).str.len()\n",
    "\n",
    "df_model['longitud_hostname'] = df_model['longitud_hostname'].fillna(0)\n",
    "df_model['special_characters'] = df_model['special_characters'].fillna(0)\n",
    "df_model['ratio_digits_domain'] = df_model['ratio_digits_domain'].fillna(0)\n",
    "df_model['longitud_url'] = df_model['longitud_url'].fillna(0)\n",
    "df_model['ratio_digits_url'] = df_model['ratio_digits_url'].fillna(0)"
   ]
  },
  {
   "cell_type": "code",
   "execution_count": 16,
   "id": "3a5bec7d",
   "metadata": {},
   "outputs": [
    {
     "data": {
      "text/html": [
       "<div>\n",
       "<style scoped>\n",
       "    .dataframe tbody tr th:only-of-type {\n",
       "        vertical-align: middle;\n",
       "    }\n",
       "\n",
       "    .dataframe tbody tr th {\n",
       "        vertical-align: top;\n",
       "    }\n",
       "\n",
       "    .dataframe thead th {\n",
       "        text-align: right;\n",
       "    }\n",
       "</style>\n",
       "<table border=\"1\" class=\"dataframe\">\n",
       "  <thead>\n",
       "    <tr style=\"text-align: right;\">\n",
       "      <th></th>\n",
       "      <th>longitud_hostname</th>\n",
       "      <th>special_characters</th>\n",
       "      <th>longitud_url</th>\n",
       "      <th>ratio_digits_url</th>\n",
       "      <th>ratio_digits_domain</th>\n",
       "    </tr>\n",
       "  </thead>\n",
       "  <tbody>\n",
       "    <tr>\n",
       "      <th>0</th>\n",
       "      <td>0</td>\n",
       "      <td>2</td>\n",
       "      <td>20</td>\n",
       "      <td>0.000000</td>\n",
       "      <td>0.0</td>\n",
       "    </tr>\n",
       "    <tr>\n",
       "      <th>1</th>\n",
       "      <td>0</td>\n",
       "      <td>2</td>\n",
       "      <td>19</td>\n",
       "      <td>0.105263</td>\n",
       "      <td>0.0</td>\n",
       "    </tr>\n",
       "    <tr>\n",
       "      <th>2</th>\n",
       "      <td>0</td>\n",
       "      <td>8</td>\n",
       "      <td>42</td>\n",
       "      <td>0.023810</td>\n",
       "      <td>0.0</td>\n",
       "    </tr>\n",
       "    <tr>\n",
       "      <th>6</th>\n",
       "      <td>0</td>\n",
       "      <td>4</td>\n",
       "      <td>36</td>\n",
       "      <td>0.000000</td>\n",
       "      <td>0.0</td>\n",
       "    </tr>\n",
       "    <tr>\n",
       "      <th>9</th>\n",
       "      <td>0</td>\n",
       "      <td>2</td>\n",
       "      <td>19</td>\n",
       "      <td>0.000000</td>\n",
       "      <td>0.0</td>\n",
       "    </tr>\n",
       "  </tbody>\n",
       "</table>\n",
       "</div>"
      ],
      "text/plain": [
       "   longitud_hostname  special_characters  longitud_url  ratio_digits_url  \\\n",
       "0                  0                   2            20          0.000000   \n",
       "1                  0                   2            19          0.105263   \n",
       "2                  0                   8            42          0.023810   \n",
       "6                  0                   4            36          0.000000   \n",
       "9                  0                   2            19          0.000000   \n",
       "\n",
       "   ratio_digits_domain  \n",
       "0                  0.0  \n",
       "1                  0.0  \n",
       "2                  0.0  \n",
       "6                  0.0  \n",
       "9                  0.0  "
      ]
     },
     "execution_count": 16,
     "metadata": {},
     "output_type": "execute_result"
    }
   ],
   "source": [
    "df_model.head()"
   ]
  },
  {
   "cell_type": "code",
   "execution_count": 17,
   "id": "546b457b",
   "metadata": {},
   "outputs": [
    {
     "data": {
      "text/html": [
       "<div>\n",
       "<style scoped>\n",
       "    .dataframe tbody tr th:only-of-type {\n",
       "        vertical-align: middle;\n",
       "    }\n",
       "\n",
       "    .dataframe tbody tr th {\n",
       "        vertical-align: top;\n",
       "    }\n",
       "\n",
       "    .dataframe thead th {\n",
       "        text-align: right;\n",
       "    }\n",
       "</style>\n",
       "<table border=\"1\" class=\"dataframe\">\n",
       "  <thead>\n",
       "    <tr style=\"text-align: right;\">\n",
       "      <th></th>\n",
       "      <th>longitud_hostname</th>\n",
       "      <th>special_characters</th>\n",
       "      <th>longitud_url</th>\n",
       "      <th>ratio_digits_url</th>\n",
       "      <th>ratio_digits_domain</th>\n",
       "    </tr>\n",
       "  </thead>\n",
       "  <tbody>\n",
       "    <tr>\n",
       "      <th>0</th>\n",
       "      <td>0</td>\n",
       "      <td>2</td>\n",
       "      <td>20</td>\n",
       "      <td>0.000000</td>\n",
       "      <td>0.0</td>\n",
       "    </tr>\n",
       "    <tr>\n",
       "      <th>1</th>\n",
       "      <td>0</td>\n",
       "      <td>2</td>\n",
       "      <td>19</td>\n",
       "      <td>0.105263</td>\n",
       "      <td>0.0</td>\n",
       "    </tr>\n",
       "    <tr>\n",
       "      <th>2</th>\n",
       "      <td>0</td>\n",
       "      <td>8</td>\n",
       "      <td>42</td>\n",
       "      <td>0.023810</td>\n",
       "      <td>0.0</td>\n",
       "    </tr>\n",
       "    <tr>\n",
       "      <th>6</th>\n",
       "      <td>0</td>\n",
       "      <td>4</td>\n",
       "      <td>36</td>\n",
       "      <td>0.000000</td>\n",
       "      <td>0.0</td>\n",
       "    </tr>\n",
       "    <tr>\n",
       "      <th>9</th>\n",
       "      <td>0</td>\n",
       "      <td>2</td>\n",
       "      <td>19</td>\n",
       "      <td>0.000000</td>\n",
       "      <td>0.0</td>\n",
       "    </tr>\n",
       "  </tbody>\n",
       "</table>\n",
       "</div>"
      ],
      "text/plain": [
       "   longitud_hostname  special_characters  longitud_url  ratio_digits_url  \\\n",
       "0                  0                   2            20          0.000000   \n",
       "1                  0                   2            19          0.105263   \n",
       "2                  0                   8            42          0.023810   \n",
       "6                  0                   4            36          0.000000   \n",
       "9                  0                   2            19          0.000000   \n",
       "\n",
       "   ratio_digits_domain  \n",
       "0                  0.0  \n",
       "1                  0.0  \n",
       "2                  0.0  \n",
       "6                  0.0  \n",
       "9                  0.0  "
      ]
     },
     "execution_count": 17,
     "metadata": {},
     "output_type": "execute_result"
    }
   ],
   "source": [
    "df_model.head()"
   ]
  },
  {
   "cell_type": "code",
   "execution_count": 18,
   "id": "780ef0a1",
   "metadata": {},
   "outputs": [],
   "source": [
    "modelo = joblib.load('modelo.h5')"
   ]
  },
  {
   "cell_type": "code",
   "execution_count": 19,
   "id": "9c710a21",
   "metadata": {},
   "outputs": [],
   "source": [
    "predicciones = modelo.predict(df_model)"
   ]
  },
  {
   "cell_type": "code",
   "execution_count": 20,
   "id": "2b137c36",
   "metadata": {},
   "outputs": [],
   "source": [
    "resultado = []\n",
    "\n",
    "for i in predicciones:\n",
    "    if i == 1:\n",
    "        resultado.append(True)\n",
    "    else:\n",
    "        resultado.append(False)"
   ]
  },
  {
   "cell_type": "code",
   "execution_count": 21,
   "id": "8accc6d1",
   "metadata": {},
   "outputs": [
    {
     "data": {
      "text/plain": [
       "163      192.168.22.110phpmyadmin\n",
       "1195             \"192.168.206.56\"\n",
       "1836              192.168.26-27.0\n",
       "6898              192.168.21.1201\n",
       "9979              1922.168.22.254\n",
       "10048        1922.168.22.254.home\n",
       "10607             192.168.21-28.0\n",
       "14730        192.168.21-28.0.home\n",
       "15507             192.168.22.201:\n",
       "Name: tld_extract_domain, dtype: object"
      ]
     },
     "execution_count": 21,
     "metadata": {},
     "output_type": "execute_result"
    }
   ],
   "source": [
    "unique_domains[resultado]['tld_extract_domain']"
   ]
  },
  {
   "cell_type": "code",
   "execution_count": 22,
   "id": "e12b068f",
   "metadata": {},
   "outputs": [
    {
     "name": "stdout",
     "output_type": "stream",
     "text": [
      "[*] Initializing... training classifier - Please wait.\n",
      "[+] Training classifier on training set\n",
      "[+] Out of sample legit f1 score 0.9989393832970429\n",
      "[+] Out of sample dga f1 score 0.6496519721577726\n",
      "[+] Training final classifier\n",
      "[+] Classifier Ready\n"
     ]
    }
   ],
   "source": [
    "dga_c = dga_classifier()"
   ]
  },
  {
   "cell_type": "code",
   "execution_count": 23,
   "id": "1ae77dac",
   "metadata": {},
   "outputs": [],
   "source": [
    "unique_domains['is_legit'] = unique_domains['tld_extract_domain'].apply(dga_c.predict)"
   ]
  },
  {
   "cell_type": "code",
   "execution_count": 24,
   "id": "aaa15bba",
   "metadata": {},
   "outputs": [
    {
     "data": {
      "text/html": [
       "<div>\n",
       "<style scoped>\n",
       "    .dataframe tbody tr th:only-of-type {\n",
       "        vertical-align: middle;\n",
       "    }\n",
       "\n",
       "    .dataframe tbody tr th {\n",
       "        vertical-align: top;\n",
       "    }\n",
       "\n",
       "    .dataframe thead th {\n",
       "        text-align: right;\n",
       "    }\n",
       "</style>\n",
       "<table border=\"1\" class=\"dataframe\">\n",
       "  <thead>\n",
       "    <tr style=\"text-align: right;\">\n",
       "      <th></th>\n",
       "      <th>timestamp</th>\n",
       "      <th>flow_id</th>\n",
       "      <th>pcap_cnt</th>\n",
       "      <th>event_type</th>\n",
       "      <th>vlan</th>\n",
       "      <th>src_ip</th>\n",
       "      <th>src_port</th>\n",
       "      <th>dest_ip</th>\n",
       "      <th>dest_port</th>\n",
       "      <th>proto</th>\n",
       "      <th>dns.type</th>\n",
       "      <th>dns.id</th>\n",
       "      <th>dns.rrname</th>\n",
       "      <th>dns.rrtype</th>\n",
       "      <th>dns.tx_id</th>\n",
       "      <th>dns.rcode</th>\n",
       "      <th>dns.ttl</th>\n",
       "      <th>dns.rdata</th>\n",
       "      <th>tld_extract_domain</th>\n",
       "      <th>is_legit</th>\n",
       "    </tr>\n",
       "  </thead>\n",
       "  <tbody>\n",
       "    <tr>\n",
       "      <th>0</th>\n",
       "      <td>2017-07-22T17:33:16.661646-0500</td>\n",
       "      <td>1327836194150542</td>\n",
       "      <td>22269</td>\n",
       "      <td>dns</td>\n",
       "      <td>110</td>\n",
       "      <td>2001:0dbb:0c18:0011:0260:6eff:fe30:0863</td>\n",
       "      <td>59680</td>\n",
       "      <td>2001:0500:0001:0000:0000:0000:803f:0235</td>\n",
       "      <td>53</td>\n",
       "      <td>UDP</td>\n",
       "      <td>query</td>\n",
       "      <td>15529</td>\n",
       "      <td>api.wunderground.com</td>\n",
       "      <td>A</td>\n",
       "      <td>0.0</td>\n",
       "      <td>NaN</td>\n",
       "      <td>NaN</td>\n",
       "      <td>NaN</td>\n",
       "      <td>wunderground.com</td>\n",
       "      <td>legit</td>\n",
       "    </tr>\n",
       "    <tr>\n",
       "      <th>1</th>\n",
       "      <td>2017-07-22T17:33:24.990320-0500</td>\n",
       "      <td>2022925111925872</td>\n",
       "      <td>54352</td>\n",
       "      <td>dns</td>\n",
       "      <td>110</td>\n",
       "      <td>2001:0dbb:0c18:0011:0260:6eff:fe30:0863</td>\n",
       "      <td>38051</td>\n",
       "      <td>2001:0500:0003:0000:0000:0000:0000:0042</td>\n",
       "      <td>53</td>\n",
       "      <td>UDP</td>\n",
       "      <td>query</td>\n",
       "      <td>58278</td>\n",
       "      <td>stork79.dropbox.com</td>\n",
       "      <td>A</td>\n",
       "      <td>0.0</td>\n",
       "      <td>NaN</td>\n",
       "      <td>NaN</td>\n",
       "      <td>NaN</td>\n",
       "      <td>dropbox.com</td>\n",
       "      <td>legit</td>\n",
       "    </tr>\n",
       "    <tr>\n",
       "      <th>2</th>\n",
       "      <td>2017-07-22T17:33:27.379891-0500</td>\n",
       "      <td>578544790391795</td>\n",
       "      <td>54519</td>\n",
       "      <td>dns</td>\n",
       "      <td>150</td>\n",
       "      <td>192.168.205.170</td>\n",
       "      <td>31393</td>\n",
       "      <td>192.168.207.4</td>\n",
       "      <td>53</td>\n",
       "      <td>UDP</td>\n",
       "      <td>query</td>\n",
       "      <td>54724</td>\n",
       "      <td>hpca-tier2.office.aol.com.ad.aol.aoltw.net</td>\n",
       "      <td>A</td>\n",
       "      <td>0.0</td>\n",
       "      <td>NaN</td>\n",
       "      <td>NaN</td>\n",
       "      <td>NaN</td>\n",
       "      <td>aoltw.net</td>\n",
       "      <td>legit</td>\n",
       "    </tr>\n",
       "    <tr>\n",
       "      <th>6</th>\n",
       "      <td>2017-07-22T17:33:38.537426-0500</td>\n",
       "      <td>2167545251640146</td>\n",
       "      <td>55687</td>\n",
       "      <td>dns</td>\n",
       "      <td>180</td>\n",
       "      <td>192.168.198.62</td>\n",
       "      <td>35092</td>\n",
       "      <td>192.168.207.4</td>\n",
       "      <td>53</td>\n",
       "      <td>UDP</td>\n",
       "      <td>query</td>\n",
       "      <td>7425</td>\n",
       "      <td>safebrowsing.clients.google.com.home</td>\n",
       "      <td>A</td>\n",
       "      <td>0.0</td>\n",
       "      <td>NaN</td>\n",
       "      <td>NaN</td>\n",
       "      <td>NaN</td>\n",
       "      <td>safebrowsing.clients.google.com.home</td>\n",
       "      <td>legit</td>\n",
       "    </tr>\n",
       "    <tr>\n",
       "      <th>9</th>\n",
       "      <td>2017-07-22T17:33:45.672579-0500</td>\n",
       "      <td>541745511744323</td>\n",
       "      <td>56307</td>\n",
       "      <td>dns</td>\n",
       "      <td>120</td>\n",
       "      <td>192.168.202.172</td>\n",
       "      <td>55580</td>\n",
       "      <td>192.168.207.4</td>\n",
       "      <td>53</td>\n",
       "      <td>UDP</td>\n",
       "      <td>query</td>\n",
       "      <td>12854</td>\n",
       "      <td>fxfeeds.mozilla.com</td>\n",
       "      <td>A</td>\n",
       "      <td>0.0</td>\n",
       "      <td>NaN</td>\n",
       "      <td>NaN</td>\n",
       "      <td>NaN</td>\n",
       "      <td>mozilla.com</td>\n",
       "      <td>legit</td>\n",
       "    </tr>\n",
       "  </tbody>\n",
       "</table>\n",
       "</div>"
      ],
      "text/plain": [
       "                         timestamp           flow_id  pcap_cnt event_type  \\\n",
       "0  2017-07-22T17:33:16.661646-0500  1327836194150542     22269        dns   \n",
       "1  2017-07-22T17:33:24.990320-0500  2022925111925872     54352        dns   \n",
       "2  2017-07-22T17:33:27.379891-0500   578544790391795     54519        dns   \n",
       "6  2017-07-22T17:33:38.537426-0500  2167545251640146     55687        dns   \n",
       "9  2017-07-22T17:33:45.672579-0500   541745511744323     56307        dns   \n",
       "\n",
       "   vlan                                   src_ip  src_port  \\\n",
       "0   110  2001:0dbb:0c18:0011:0260:6eff:fe30:0863     59680   \n",
       "1   110  2001:0dbb:0c18:0011:0260:6eff:fe30:0863     38051   \n",
       "2   150                          192.168.205.170     31393   \n",
       "6   180                           192.168.198.62     35092   \n",
       "9   120                          192.168.202.172     55580   \n",
       "\n",
       "                                   dest_ip  dest_port proto dns.type  dns.id  \\\n",
       "0  2001:0500:0001:0000:0000:0000:803f:0235         53   UDP    query   15529   \n",
       "1  2001:0500:0003:0000:0000:0000:0000:0042         53   UDP    query   58278   \n",
       "2                            192.168.207.4         53   UDP    query   54724   \n",
       "6                            192.168.207.4         53   UDP    query    7425   \n",
       "9                            192.168.207.4         53   UDP    query   12854   \n",
       "\n",
       "                                   dns.rrname dns.rrtype  dns.tx_id dns.rcode  \\\n",
       "0                        api.wunderground.com          A        0.0       NaN   \n",
       "1                         stork79.dropbox.com          A        0.0       NaN   \n",
       "2  hpca-tier2.office.aol.com.ad.aol.aoltw.net          A        0.0       NaN   \n",
       "6        safebrowsing.clients.google.com.home          A        0.0       NaN   \n",
       "9                         fxfeeds.mozilla.com          A        0.0       NaN   \n",
       "\n",
       "   dns.ttl dns.rdata                    tld_extract_domain is_legit  \n",
       "0      NaN       NaN                      wunderground.com    legit  \n",
       "1      NaN       NaN                           dropbox.com    legit  \n",
       "2      NaN       NaN                             aoltw.net    legit  \n",
       "6      NaN       NaN  safebrowsing.clients.google.com.home    legit  \n",
       "9      NaN       NaN                           mozilla.com    legit  "
      ]
     },
     "execution_count": 24,
     "metadata": {},
     "output_type": "execute_result"
    }
   ],
   "source": [
    "unique_domains.head()"
   ]
  },
  {
   "cell_type": "code",
   "execution_count": 25,
   "id": "a68fa75f",
   "metadata": {},
   "outputs": [
    {
     "data": {
      "text/plain": [
       "9856     vtlfccmfxlkgifuf.com\n",
       "10048    1922.168.22.254.home\n",
       "10646    ejfodfmfxlkgifuf.xyz\n",
       "14730    192.168.21-28.0.home\n",
       "Name: tld_extract_domain, dtype: object"
      ]
     },
     "execution_count": 25,
     "metadata": {},
     "output_type": "execute_result"
    }
   ],
   "source": [
    "unique_domains[unique_domains['is_legit'] == 'dga']['tld_extract_domain']"
   ]
  },
  {
   "cell_type": "markdown",
   "id": "95fc52f8",
   "metadata": {},
   "source": [
    "### Parte 3"
   ]
  },
  {
   "cell_type": "code",
   "execution_count": 26,
   "id": "df28c1bb",
   "metadata": {},
   "outputs": [
    {
     "name": "stdout",
     "output_type": "stream",
     "text": [
      "[+] Updated Umbrella Top 1 Million list...\n"
     ]
    }
   ],
   "source": [
    "umbrellaCisco = Umbrella(limit = 1000000)"
   ]
  },
  {
   "cell_type": "code",
   "execution_count": 27,
   "id": "7a03dfba",
   "metadata": {},
   "outputs": [
    {
     "name": "stdout",
     "output_type": "stream",
     "text": [
      "vtlfccmfxlkgifuf.com  no esta en Cisco Umbrella\n",
      "1922.168.22.254.home  no esta en Cisco Umbrella\n",
      "ejfodfmfxlkgifuf.xyz  no esta en Cisco Umbrella\n",
      "192.168.21-28.0.home  no esta en Cisco Umbrella\n"
     ]
    }
   ],
   "source": [
    "for i in unique_domains[unique_domains['is_legit'] == 'dga']['tld_extract_domain']:\n",
    "    if umbrellaCisco.domain_tld_in_umbrella(i):\n",
    "        print(i, ' si se encuentra')\n",
    "    else:\n",
    "        print(i, ' no se encuentra')"
   ]
  },
  {
   "cell_type": "code",
   "execution_count": 28,
   "id": "b5476df3",
   "metadata": {},
   "outputs": [
    {
     "name": "stdout",
     "output_type": "stream",
     "text": [
      "vtlfccmfxlkgifuf.com  no tiene fecha de creacion\n",
      "1922.168.22.254.home  tiene fecha de creacion de  None\n",
      "ejfodfmfxlkgifuf.xyz  tiene fecha de creacion de  None\n",
      "192.168.21-28.0.home  tiene fecha de creacion de  None\n"
     ]
    }
   ],
   "source": [
    "for i in unique_domains[unique_domains['is_legit'] == 'dga']['tld_extract_domain']:\n",
    "    try:\n",
    "        print(i, ' tiene fecha de creacion ', creation_date(i))\n",
    "    except:\n",
    "        print(i, ' no tiene fecha de creacion')"
   ]
  }
 ],
 "metadata": {
  "kernelspec": {
   "display_name": "Python 3 (ipykernel)",
   "language": "python",
   "name": "python3"
  },
  "language_info": {
   "codemirror_mode": {
    "name": "ipython",
    "version": 3
   },
   "file_extension": ".py",
   "mimetype": "text/x-python",
   "name": "python",
   "nbconvert_exporter": "python",
   "pygments_lexer": "ipython3",
   "version": "3.9.12"
  }
 },
 "nbformat": 4,
 "nbformat_minor": 5
}
