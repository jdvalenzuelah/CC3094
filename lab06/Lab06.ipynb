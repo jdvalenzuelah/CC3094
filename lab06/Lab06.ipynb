{
 "cells": [
  {
   "cell_type": "markdown",
   "metadata": {},
   "source": [
    "# Lab 6\n",
    "\n",
    "## Parte 1"
   ]
  },
  {
   "cell_type": "code",
   "execution_count": 35,
   "metadata": {},
   "outputs": [],
   "source": [
    "import json\n",
    "from pandas import json_normalize\n",
    "from flare.data_science.features import domain_tld_extract\n",
    "import pandas as pd"
   ]
  },
  {
   "cell_type": "code",
   "execution_count": 12,
   "metadata": {},
   "outputs": [],
   "source": [
    "with open('large_eve.json', 'r') as f:\n",
    "    data = [ json.loads(l) for l in f.readlines() if 'dns' in l]\n",
    "\n",
    "assert data is not None"
   ]
  },
  {
   "cell_type": "code",
   "execution_count": 13,
   "metadata": {},
   "outputs": [
    {
     "name": "stdout",
     "output_type": "stream",
     "text": [
      "<class 'pandas.core.frame.DataFrame'>\n",
      "RangeIndex: 21484 entries, 0 to 21483\n",
      "Columns: 163 entries, timestamp to stats.http.memcap\n",
      "dtypes: float64(129), object(34)\n",
      "memory usage: 26.7+ MB\n"
     ]
    }
   ],
   "source": [
    "df = json_normalize(data)\n",
    "df.info()"
   ]
  },
  {
   "cell_type": "code",
   "execution_count": 14,
   "metadata": {},
   "outputs": [
    {
     "data": {
      "text/html": [
       "<div>\n",
       "<style scoped>\n",
       "    .dataframe tbody tr th:only-of-type {\n",
       "        vertical-align: middle;\n",
       "    }\n",
       "\n",
       "    .dataframe tbody tr th {\n",
       "        vertical-align: top;\n",
       "    }\n",
       "\n",
       "    .dataframe thead th {\n",
       "        text-align: right;\n",
       "    }\n",
       "</style>\n",
       "<table border=\"1\" class=\"dataframe\">\n",
       "  <thead>\n",
       "    <tr style=\"text-align: right;\">\n",
       "      <th></th>\n",
       "      <th>timestamp</th>\n",
       "      <th>flow_id</th>\n",
       "      <th>pcap_cnt</th>\n",
       "      <th>event_type</th>\n",
       "      <th>vlan</th>\n",
       "      <th>src_ip</th>\n",
       "      <th>src_port</th>\n",
       "      <th>dest_ip</th>\n",
       "      <th>dest_port</th>\n",
       "      <th>proto</th>\n",
       "      <th>...</th>\n",
       "      <th>stats.flow_mgr.rows_skipped</th>\n",
       "      <th>stats.flow_mgr.rows_empty</th>\n",
       "      <th>stats.flow_mgr.rows_busy</th>\n",
       "      <th>stats.flow_mgr.rows_maxlen</th>\n",
       "      <th>stats.file_store.open_files</th>\n",
       "      <th>stats.dns.memuse</th>\n",
       "      <th>stats.dns.memcap_state</th>\n",
       "      <th>stats.dns.memcap_global</th>\n",
       "      <th>stats.http.memuse</th>\n",
       "      <th>stats.http.memcap</th>\n",
       "    </tr>\n",
       "  </thead>\n",
       "  <tbody>\n",
       "    <tr>\n",
       "      <th>15153</th>\n",
       "      <td>2017-07-22T19:29:19.014323-0500</td>\n",
       "      <td>1.038856e+15</td>\n",
       "      <td>3354669.0</td>\n",
       "      <td>dns</td>\n",
       "      <td>150.0</td>\n",
       "      <td>192.168.207.4</td>\n",
       "      <td>53.0</td>\n",
       "      <td>192.168.205.188</td>\n",
       "      <td>55640.0</td>\n",
       "      <td>UDP</td>\n",
       "      <td>...</td>\n",
       "      <td>NaN</td>\n",
       "      <td>NaN</td>\n",
       "      <td>NaN</td>\n",
       "      <td>NaN</td>\n",
       "      <td>NaN</td>\n",
       "      <td>NaN</td>\n",
       "      <td>NaN</td>\n",
       "      <td>NaN</td>\n",
       "      <td>NaN</td>\n",
       "      <td>NaN</td>\n",
       "    </tr>\n",
       "    <tr>\n",
       "      <th>1464</th>\n",
       "      <td>2017-07-22T17:45:57.783232-0500</td>\n",
       "      <td>1.132581e+14</td>\n",
       "      <td>NaN</td>\n",
       "      <td>flow</td>\n",
       "      <td>NaN</td>\n",
       "      <td>192.168.205.58</td>\n",
       "      <td>33909.0</td>\n",
       "      <td>192.168.25.123</td>\n",
       "      <td>53.0</td>\n",
       "      <td>UDP</td>\n",
       "      <td>...</td>\n",
       "      <td>NaN</td>\n",
       "      <td>NaN</td>\n",
       "      <td>NaN</td>\n",
       "      <td>NaN</td>\n",
       "      <td>NaN</td>\n",
       "      <td>NaN</td>\n",
       "      <td>NaN</td>\n",
       "      <td>NaN</td>\n",
       "      <td>NaN</td>\n",
       "      <td>NaN</td>\n",
       "    </tr>\n",
       "  </tbody>\n",
       "</table>\n",
       "<p>2 rows × 163 columns</p>\n",
       "</div>"
      ],
      "text/plain": [
       "                             timestamp       flow_id   pcap_cnt event_type  \\\n",
       "15153  2017-07-22T19:29:19.014323-0500  1.038856e+15  3354669.0        dns   \n",
       "1464   2017-07-22T17:45:57.783232-0500  1.132581e+14        NaN       flow   \n",
       "\n",
       "        vlan          src_ip  src_port          dest_ip  dest_port proto  ...  \\\n",
       "15153  150.0   192.168.207.4      53.0  192.168.205.188    55640.0   UDP  ...   \n",
       "1464     NaN  192.168.205.58   33909.0   192.168.25.123       53.0   UDP  ...   \n",
       "\n",
       "      stats.flow_mgr.rows_skipped  stats.flow_mgr.rows_empty  \\\n",
       "15153                         NaN                        NaN   \n",
       "1464                          NaN                        NaN   \n",
       "\n",
       "      stats.flow_mgr.rows_busy stats.flow_mgr.rows_maxlen  \\\n",
       "15153                      NaN                        NaN   \n",
       "1464                       NaN                        NaN   \n",
       "\n",
       "       stats.file_store.open_files stats.dns.memuse  stats.dns.memcap_state  \\\n",
       "15153                          NaN              NaN                     NaN   \n",
       "1464                           NaN              NaN                     NaN   \n",
       "\n",
       "      stats.dns.memcap_global  stats.http.memuse  stats.http.memcap  \n",
       "15153                     NaN                NaN                NaN  \n",
       "1464                      NaN                NaN                NaN  \n",
       "\n",
       "[2 rows x 163 columns]"
      ]
     },
     "execution_count": 14,
     "metadata": {},
     "output_type": "execute_result"
    }
   ],
   "source": [
    "df.sample(2)"
   ]
  },
  {
   "cell_type": "code",
   "execution_count": 15,
   "metadata": {},
   "outputs": [
    {
     "name": "stdout",
     "output_type": "stream",
     "text": [
      "<class 'pandas.core.frame.DataFrame'>\n",
      "Int64Index: 2849 entries, 0 to 21303\n",
      "Columns: 163 entries, timestamp to stats.http.memcap\n",
      "dtypes: float64(129), object(34)\n",
      "memory usage: 3.6+ MB\n"
     ]
    }
   ],
   "source": [
    "df = df.loc[df['dns.rrtype'] == 'A']\n",
    "df.info()"
   ]
  },
  {
   "cell_type": "code",
   "execution_count": 16,
   "metadata": {},
   "outputs": [
    {
     "name": "stdout",
     "output_type": "stream",
     "text": [
      "<class 'pandas.core.frame.DataFrame'>\n",
      "Int64Index: 177 entries, 0 to 21297\n",
      "Columns: 163 entries, timestamp to stats.http.memcap\n",
      "dtypes: float64(129), object(34)\n",
      "memory usage: 226.8+ KB\n"
     ]
    }
   ],
   "source": [
    "df = df.drop_duplicates(subset=['dns.rrname'])\n",
    "df.info()"
   ]
  },
  {
   "cell_type": "code",
   "execution_count": 17,
   "metadata": {},
   "outputs": [],
   "source": [
    "df['domain_tld'] = df['dns.rrname'].apply(domain_tld_extract)"
   ]
  },
  {
   "cell_type": "code",
   "execution_count": 18,
   "metadata": {},
   "outputs": [
    {
     "data": {
      "text/plain": [
       "1705       acunetix.com\n",
       "893      postgresql.org\n",
       "1880      microsoft.com\n",
       "1836         flickr.com\n",
       "496     stopbadware.org\n",
       "Name: domain_tld, dtype: object"
      ]
     },
     "execution_count": 18,
     "metadata": {},
     "output_type": "execute_result"
    }
   ],
   "source": [
    "df['domain_tld'].sample(5)"
   ]
  },
  {
   "cell_type": "markdown",
   "metadata": {},
   "source": [
    "## Parte 2"
   ]
  },
  {
   "cell_type": "code",
   "execution_count": 19,
   "metadata": {},
   "outputs": [],
   "source": [
    "import pickle"
   ]
  },
  {
   "cell_type": "code",
   "execution_count": 20,
   "metadata": {},
   "outputs": [],
   "source": [
    "dtc = pickle.load(open('ht1model.m', 'rb'))"
   ]
  },
  {
   "cell_type": "code",
   "execution_count": 36,
   "metadata": {},
   "outputs": [],
   "source": [
    "new_df = pd.DataFrame()"
   ]
  },
  {
   "cell_type": "code",
   "execution_count": 51,
   "metadata": {},
   "outputs": [],
   "source": [
    "new_df['ip'] = df['dest_ip'].apply(lambda s: 1 if s is not None else 0 )\n",
    "for missing_col in ['nb_hyperlinks','domain_in_title','domain_age','google_index','page_rank', 'phish_hints']:\n",
    "    new_df[missing_col] = 0"
   ]
  },
  {
   "cell_type": "code",
   "execution_count": 52,
   "metadata": {},
   "outputs": [],
   "source": [
    "contains = lambda c: lambda s: 1 if c in s else 0 \n",
    "nb_www = contains('www.')\n",
    "\n",
    "new_df['nb_www'] = df['dns.rrname'].apply(nb_www)"
   ]
  },
  {
   "cell_type": "code",
   "execution_count": 53,
   "metadata": {},
   "outputs": [],
   "source": [
    "digits_ratio = lambda s: sum(c.isdigit() for c in s) / max(sum(not c.isdigit() for c in s), 1)\n",
    "new_df['digit_ratio_url'] = df['dns.rrname'].apply(digits_ratio)\n",
    "new_df['digit_ratio_hostname'] = df['dns.rrname'].apply(digits_ratio)"
   ]
  },
  {
   "cell_type": "code",
   "execution_count": 58,
   "metadata": {},
   "outputs": [
    {
     "name": "stderr",
     "output_type": "stream",
     "text": [
      "/usr/local/lib/python3.8/dist-packages/sklearn/base.py:493: FutureWarning: The feature names should match those that were passed during fit. Starting version 1.2, an error will be raised.\n",
      "Feature names must be in the same order as they were in fit.\n",
      "\n",
      "  warnings.warn(message, FutureWarning)\n"
     ]
    }
   ],
   "source": [
    "res = dtc.predict(new_df)"
   ]
  },
  {
   "cell_type": "code",
   "execution_count": 60,
   "metadata": {},
   "outputs": [
    {
     "data": {
      "text/plain": [
       "Series([], Name: dns.rrname, dtype: object)"
      ]
     },
     "execution_count": 60,
     "metadata": {},
     "output_type": "execute_result"
    }
   ],
   "source": [
    "df[[True if s else False for s in res]]['dns.rrname']"
   ]
  },
  {
   "cell_type": "code",
   "execution_count": 61,
   "metadata": {},
   "outputs": [],
   "source": [
    "from flare.tools.umbrella import Umbrella"
   ]
  },
  {
   "cell_type": "code",
   "execution_count": 64,
   "metadata": {},
   "outputs": [
    {
     "name": "stdout",
     "output_type": "stream",
     "text": [
      "[+] Updated Umbrella Top 1 Million list...\n"
     ]
    }
   ],
   "source": [
    "umb = Umbrella()"
   ]
  },
  {
   "cell_type": "code",
   "execution_count": 66,
   "metadata": {},
   "outputs": [],
   "source": [
    "df['in_umbrella'] = df['dns.rrname'].apply(lambda s: 1 if umb.domain_tld_in_umbrella(s) else 0)"
   ]
  },
  {
   "cell_type": "code",
   "execution_count": 69,
   "metadata": {},
   "outputs": [
    {
     "data": {
      "text/html": [
       "<div>\n",
       "<style scoped>\n",
       "    .dataframe tbody tr th:only-of-type {\n",
       "        vertical-align: middle;\n",
       "    }\n",
       "\n",
       "    .dataframe tbody tr th {\n",
       "        vertical-align: top;\n",
       "    }\n",
       "\n",
       "    .dataframe thead th {\n",
       "        text-align: right;\n",
       "    }\n",
       "</style>\n",
       "<table border=\"1\" class=\"dataframe\">\n",
       "  <thead>\n",
       "    <tr style=\"text-align: right;\">\n",
       "      <th></th>\n",
       "      <th>timestamp</th>\n",
       "      <th>flow_id</th>\n",
       "      <th>pcap_cnt</th>\n",
       "      <th>event_type</th>\n",
       "      <th>vlan</th>\n",
       "      <th>src_ip</th>\n",
       "      <th>src_port</th>\n",
       "      <th>dest_ip</th>\n",
       "      <th>dest_port</th>\n",
       "      <th>proto</th>\n",
       "      <th>...</th>\n",
       "      <th>stats.flow_mgr.rows_busy</th>\n",
       "      <th>stats.flow_mgr.rows_maxlen</th>\n",
       "      <th>stats.file_store.open_files</th>\n",
       "      <th>stats.dns.memuse</th>\n",
       "      <th>stats.dns.memcap_state</th>\n",
       "      <th>stats.dns.memcap_global</th>\n",
       "      <th>stats.http.memuse</th>\n",
       "      <th>stats.http.memcap</th>\n",
       "      <th>domain_tld</th>\n",
       "      <th>in_umbrella</th>\n",
       "    </tr>\n",
       "  </thead>\n",
       "  <tbody>\n",
       "    <tr>\n",
       "      <th>468</th>\n",
       "      <td>2017-07-22T17:40:48.114275-0500</td>\n",
       "      <td>1.014351e+15</td>\n",
       "      <td>96677.0</td>\n",
       "      <td>dns</td>\n",
       "      <td>140.0</td>\n",
       "      <td>192.168.204.63</td>\n",
       "      <td>52070.0</td>\n",
       "      <td>192.168.207.4</td>\n",
       "      <td>53.0</td>\n",
       "      <td>UDP</td>\n",
       "      <td>...</td>\n",
       "      <td>NaN</td>\n",
       "      <td>NaN</td>\n",
       "      <td>NaN</td>\n",
       "      <td>NaN</td>\n",
       "      <td>NaN</td>\n",
       "      <td>NaN</td>\n",
       "      <td>NaN</td>\n",
       "      <td>NaN</td>\n",
       "      <td>portswigger.net</td>\n",
       "      <td>1</td>\n",
       "    </tr>\n",
       "    <tr>\n",
       "      <th>973</th>\n",
       "      <td>2017-07-22T17:48:23.255644-0500</td>\n",
       "      <td>1.964866e+15</td>\n",
       "      <td>203832.0</td>\n",
       "      <td>dns</td>\n",
       "      <td>120.0</td>\n",
       "      <td>192.168.202.172</td>\n",
       "      <td>54399.0</td>\n",
       "      <td>192.168.207.4</td>\n",
       "      <td>53.0</td>\n",
       "      <td>UDP</td>\n",
       "      <td>...</td>\n",
       "      <td>NaN</td>\n",
       "      <td>NaN</td>\n",
       "      <td>NaN</td>\n",
       "      <td>NaN</td>\n",
       "      <td>NaN</td>\n",
       "      <td>NaN</td>\n",
       "      <td>NaN</td>\n",
       "      <td>NaN</td>\n",
       "      <td>sourceforge.net</td>\n",
       "      <td>1</td>\n",
       "    </tr>\n",
       "    <tr>\n",
       "      <th>1599</th>\n",
       "      <td>2017-07-22T17:53:44.404783-0500</td>\n",
       "      <td>1.151274e+15</td>\n",
       "      <td>234696.0</td>\n",
       "      <td>dns</td>\n",
       "      <td>120.0</td>\n",
       "      <td>192.168.202.172</td>\n",
       "      <td>55750.0</td>\n",
       "      <td>192.168.207.4</td>\n",
       "      <td>53.0</td>\n",
       "      <td>UDP</td>\n",
       "      <td>...</td>\n",
       "      <td>NaN</td>\n",
       "      <td>NaN</td>\n",
       "      <td>NaN</td>\n",
       "      <td>NaN</td>\n",
       "      <td>NaN</td>\n",
       "      <td>NaN</td>\n",
       "      <td>NaN</td>\n",
       "      <td>NaN</td>\n",
       "      <td>freepbx.org</td>\n",
       "      <td>1</td>\n",
       "    </tr>\n",
       "    <tr>\n",
       "      <th>2879</th>\n",
       "      <td>2017-07-22T18:24:52.733891-0500</td>\n",
       "      <td>9.570046e+14</td>\n",
       "      <td>482149.0</td>\n",
       "      <td>dns</td>\n",
       "      <td>140.0</td>\n",
       "      <td>192.168.204.60</td>\n",
       "      <td>62393.0</td>\n",
       "      <td>192.168.207.4</td>\n",
       "      <td>53.0</td>\n",
       "      <td>UDP</td>\n",
       "      <td>...</td>\n",
       "      <td>NaN</td>\n",
       "      <td>NaN</td>\n",
       "      <td>NaN</td>\n",
       "      <td>NaN</td>\n",
       "      <td>NaN</td>\n",
       "      <td>NaN</td>\n",
       "      <td>NaN</td>\n",
       "      <td>NaN</td>\n",
       "      <td>google.com</td>\n",
       "      <td>1</td>\n",
       "    </tr>\n",
       "  </tbody>\n",
       "</table>\n",
       "<p>4 rows × 165 columns</p>\n",
       "</div>"
      ],
      "text/plain": [
       "                            timestamp       flow_id  pcap_cnt event_type  \\\n",
       "468   2017-07-22T17:40:48.114275-0500  1.014351e+15   96677.0        dns   \n",
       "973   2017-07-22T17:48:23.255644-0500  1.964866e+15  203832.0        dns   \n",
       "1599  2017-07-22T17:53:44.404783-0500  1.151274e+15  234696.0        dns   \n",
       "2879  2017-07-22T18:24:52.733891-0500  9.570046e+14  482149.0        dns   \n",
       "\n",
       "       vlan           src_ip  src_port        dest_ip  dest_port proto  ...  \\\n",
       "468   140.0   192.168.204.63   52070.0  192.168.207.4       53.0   UDP  ...   \n",
       "973   120.0  192.168.202.172   54399.0  192.168.207.4       53.0   UDP  ...   \n",
       "1599  120.0  192.168.202.172   55750.0  192.168.207.4       53.0   UDP  ...   \n",
       "2879  140.0   192.168.204.60   62393.0  192.168.207.4       53.0   UDP  ...   \n",
       "\n",
       "     stats.flow_mgr.rows_busy  stats.flow_mgr.rows_maxlen  \\\n",
       "468                       NaN                         NaN   \n",
       "973                       NaN                         NaN   \n",
       "1599                      NaN                         NaN   \n",
       "2879                      NaN                         NaN   \n",
       "\n",
       "     stats.file_store.open_files stats.dns.memuse  stats.dns.memcap_state  \\\n",
       "468                          NaN              NaN                     NaN   \n",
       "973                          NaN              NaN                     NaN   \n",
       "1599                         NaN              NaN                     NaN   \n",
       "2879                         NaN              NaN                     NaN   \n",
       "\n",
       "     stats.dns.memcap_global  stats.http.memuse stats.http.memcap  \\\n",
       "468                      NaN                NaN               NaN   \n",
       "973                      NaN                NaN               NaN   \n",
       "1599                     NaN                NaN               NaN   \n",
       "2879                     NaN                NaN               NaN   \n",
       "\n",
       "           domain_tld  in_umbrella  \n",
       "468   portswigger.net            1  \n",
       "973   sourceforge.net            1  \n",
       "1599      freepbx.org            1  \n",
       "2879       google.com            1  \n",
       "\n",
       "[4 rows x 165 columns]"
      ]
     },
     "execution_count": 69,
     "metadata": {},
     "output_type": "execute_result"
    }
   ],
   "source": [
    "df.loc[df['in_umbrella'] == 1]"
   ]
  },
  {
   "cell_type": "markdown",
   "metadata": {},
   "source": [
    "El modelo del laboratorio 1 no detecto ningun dominio sospechoso. "
   ]
  },
  {
   "cell_type": "code",
   "execution_count": null,
   "metadata": {},
   "outputs": [],
   "source": []
  }
 ],
 "metadata": {
  "kernelspec": {
   "display_name": "Python 3 (ipykernel)",
   "language": "python",
   "name": "python3"
  },
  "language_info": {
   "codemirror_mode": {
    "name": "ipython",
    "version": 3
   },
   "file_extension": ".py",
   "mimetype": "text/x-python",
   "name": "python",
   "nbconvert_exporter": "python",
   "pygments_lexer": "ipython3",
   "version": "3.8.10"
  }
 },
 "nbformat": 4,
 "nbformat_minor": 2
}
