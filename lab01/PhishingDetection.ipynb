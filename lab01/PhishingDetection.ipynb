{
 "cells": [
  {
   "cell_type": "markdown",
   "id": "759950ab",
   "metadata": {},
   "source": [
    "# LAB01: Detección de pishing"
   ]
  },
  {
   "cell_type": "markdown",
   "id": "d130ee47",
   "metadata": {},
   "source": [
    "## Ingeniería de características"
   ]
  },
  {
   "cell_type": "code",
   "execution_count": 2,
   "id": "a828d0be",
   "metadata": {},
   "outputs": [],
   "source": [
    "import pandas as pd\n",
    "import numpy as np"
   ]
  },
  {
   "cell_type": "markdown",
   "id": "a177b362",
   "metadata": {},
   "source": [
    "### Exploración de datos"
   ]
  },
  {
   "cell_type": "code",
   "execution_count": 4,
   "id": "1ab1038a",
   "metadata": {},
   "outputs": [],
   "source": [
    "df = pd.read_csv(\"datasets/dataset_pishing.csv\")"
   ]
  },
  {
   "cell_type": "code",
   "execution_count": 5,
   "id": "9ac77521",
   "metadata": {},
   "outputs": [
    {
     "data": {
      "text/html": [
       "<div>\n",
       "<style scoped>\n",
       "    .dataframe tbody tr th:only-of-type {\n",
       "        vertical-align: middle;\n",
       "    }\n",
       "\n",
       "    .dataframe tbody tr th {\n",
       "        vertical-align: top;\n",
       "    }\n",
       "\n",
       "    .dataframe thead th {\n",
       "        text-align: right;\n",
       "    }\n",
       "</style>\n",
       "<table border=\"1\" class=\"dataframe\">\n",
       "  <thead>\n",
       "    <tr style=\"text-align: right;\">\n",
       "      <th></th>\n",
       "      <th>url</th>\n",
       "      <th>ip</th>\n",
       "      <th>nb_www</th>\n",
       "      <th>nb_com</th>\n",
       "      <th>nb_dslash</th>\n",
       "      <th>http_in_path</th>\n",
       "      <th>punycode</th>\n",
       "      <th>port</th>\n",
       "      <th>tld_in_path</th>\n",
       "      <th>tld_in_subdomain</th>\n",
       "      <th>...</th>\n",
       "      <th>domain_in_title</th>\n",
       "      <th>domain_with_copyright</th>\n",
       "      <th>whois_registered_domain</th>\n",
       "      <th>domain_registration_length</th>\n",
       "      <th>domain_age</th>\n",
       "      <th>web_traffic</th>\n",
       "      <th>dns_record</th>\n",
       "      <th>google_index</th>\n",
       "      <th>page_rank</th>\n",
       "      <th>status</th>\n",
       "    </tr>\n",
       "  </thead>\n",
       "  <tbody>\n",
       "    <tr>\n",
       "      <th>0</th>\n",
       "      <td>http://www.crestonwood.com/router.php</td>\n",
       "      <td>0</td>\n",
       "      <td>1</td>\n",
       "      <td>0</td>\n",
       "      <td>0</td>\n",
       "      <td>0</td>\n",
       "      <td>0</td>\n",
       "      <td>0</td>\n",
       "      <td>0</td>\n",
       "      <td>0</td>\n",
       "      <td>...</td>\n",
       "      <td>0</td>\n",
       "      <td>1</td>\n",
       "      <td>0</td>\n",
       "      <td>45</td>\n",
       "      <td>-1</td>\n",
       "      <td>0</td>\n",
       "      <td>1</td>\n",
       "      <td>1</td>\n",
       "      <td>4</td>\n",
       "      <td>legitimate</td>\n",
       "    </tr>\n",
       "    <tr>\n",
       "      <th>1</th>\n",
       "      <td>http://shadetreetechnology.com/V4/validation/a...</td>\n",
       "      <td>1</td>\n",
       "      <td>0</td>\n",
       "      <td>0</td>\n",
       "      <td>0</td>\n",
       "      <td>0</td>\n",
       "      <td>0</td>\n",
       "      <td>0</td>\n",
       "      <td>0</td>\n",
       "      <td>0</td>\n",
       "      <td>...</td>\n",
       "      <td>1</td>\n",
       "      <td>0</td>\n",
       "      <td>0</td>\n",
       "      <td>77</td>\n",
       "      <td>5767</td>\n",
       "      <td>0</td>\n",
       "      <td>0</td>\n",
       "      <td>1</td>\n",
       "      <td>2</td>\n",
       "      <td>phishing</td>\n",
       "    </tr>\n",
       "    <tr>\n",
       "      <th>2</th>\n",
       "      <td>https://support-appleld.com.secureupdate.duila...</td>\n",
       "      <td>1</td>\n",
       "      <td>0</td>\n",
       "      <td>1</td>\n",
       "      <td>0</td>\n",
       "      <td>0</td>\n",
       "      <td>0</td>\n",
       "      <td>0</td>\n",
       "      <td>0</td>\n",
       "      <td>1</td>\n",
       "      <td>...</td>\n",
       "      <td>1</td>\n",
       "      <td>0</td>\n",
       "      <td>0</td>\n",
       "      <td>14</td>\n",
       "      <td>4004</td>\n",
       "      <td>5828815</td>\n",
       "      <td>0</td>\n",
       "      <td>1</td>\n",
       "      <td>0</td>\n",
       "      <td>phishing</td>\n",
       "    </tr>\n",
       "    <tr>\n",
       "      <th>3</th>\n",
       "      <td>http://rgipt.ac.in</td>\n",
       "      <td>0</td>\n",
       "      <td>0</td>\n",
       "      <td>0</td>\n",
       "      <td>0</td>\n",
       "      <td>0</td>\n",
       "      <td>0</td>\n",
       "      <td>0</td>\n",
       "      <td>0</td>\n",
       "      <td>0</td>\n",
       "      <td>...</td>\n",
       "      <td>1</td>\n",
       "      <td>0</td>\n",
       "      <td>0</td>\n",
       "      <td>62</td>\n",
       "      <td>-1</td>\n",
       "      <td>107721</td>\n",
       "      <td>0</td>\n",
       "      <td>0</td>\n",
       "      <td>3</td>\n",
       "      <td>legitimate</td>\n",
       "    </tr>\n",
       "    <tr>\n",
       "      <th>4</th>\n",
       "      <td>http://www.iracing.com/tracks/gateway-motorspo...</td>\n",
       "      <td>0</td>\n",
       "      <td>1</td>\n",
       "      <td>0</td>\n",
       "      <td>0</td>\n",
       "      <td>0</td>\n",
       "      <td>0</td>\n",
       "      <td>0</td>\n",
       "      <td>0</td>\n",
       "      <td>0</td>\n",
       "      <td>...</td>\n",
       "      <td>0</td>\n",
       "      <td>1</td>\n",
       "      <td>0</td>\n",
       "      <td>224</td>\n",
       "      <td>8175</td>\n",
       "      <td>8725</td>\n",
       "      <td>0</td>\n",
       "      <td>0</td>\n",
       "      <td>6</td>\n",
       "      <td>legitimate</td>\n",
       "    </tr>\n",
       "  </tbody>\n",
       "</table>\n",
       "<p>5 rows × 67 columns</p>\n",
       "</div>"
      ],
      "text/plain": [
       "                                                 url  ip  nb_www  nb_com  \\\n",
       "0              http://www.crestonwood.com/router.php   0       1       0   \n",
       "1  http://shadetreetechnology.com/V4/validation/a...   1       0       0   \n",
       "2  https://support-appleld.com.secureupdate.duila...   1       0       1   \n",
       "3                                 http://rgipt.ac.in   0       0       0   \n",
       "4  http://www.iracing.com/tracks/gateway-motorspo...   0       1       0   \n",
       "\n",
       "   nb_dslash  http_in_path  punycode  port  tld_in_path  tld_in_subdomain  \\\n",
       "0          0             0         0     0            0                 0   \n",
       "1          0             0         0     0            0                 0   \n",
       "2          0             0         0     0            0                 1   \n",
       "3          0             0         0     0            0                 0   \n",
       "4          0             0         0     0            0                 0   \n",
       "\n",
       "   ...  domain_in_title  domain_with_copyright  whois_registered_domain  \\\n",
       "0  ...                0                      1                        0   \n",
       "1  ...                1                      0                        0   \n",
       "2  ...                1                      0                        0   \n",
       "3  ...                1                      0                        0   \n",
       "4  ...                0                      1                        0   \n",
       "\n",
       "   domain_registration_length  domain_age  web_traffic  dns_record  \\\n",
       "0                          45          -1            0           1   \n",
       "1                          77        5767            0           0   \n",
       "2                          14        4004      5828815           0   \n",
       "3                          62          -1       107721           0   \n",
       "4                         224        8175         8725           0   \n",
       "\n",
       "   google_index  page_rank      status  \n",
       "0             1          4  legitimate  \n",
       "1             1          2    phishing  \n",
       "2             1          0    phishing  \n",
       "3             0          3  legitimate  \n",
       "4             0          6  legitimate  \n",
       "\n",
       "[5 rows x 67 columns]"
      ]
     },
     "execution_count": 5,
     "metadata": {},
     "output_type": "execute_result"
    }
   ],
   "source": [
    "df.head(5)"
   ]
  },
  {
   "cell_type": "markdown",
   "id": "7eafba2e",
   "metadata": {},
   "source": [
    "#### ¿Está balanceado el dataset?"
   ]
  },
  {
   "cell_type": "code",
   "execution_count": 6,
   "id": "639f6846",
   "metadata": {},
   "outputs": [
    {
     "data": {
      "text/plain": [
       "legitimate    5715\n",
       "phishing      5715\n",
       "dtype: int64"
      ]
     },
     "execution_count": 6,
     "metadata": {},
     "output_type": "execute_result"
    }
   ],
   "source": [
    "pd.Series(' '.join(df.status).split()).value_counts()[:2]"
   ]
  },
  {
   "cell_type": "markdown",
   "id": "19a2e6cd",
   "metadata": {},
   "source": [
    "El dataset si está balanceado, al tener las mismas cantidades sobre legitimate y phishing."
   ]
  },
  {
   "cell_type": "markdown",
   "id": "00c60c19",
   "metadata": {},
   "source": [
    "### Derivación de características\n",
    "En base al artículo “Towards Benchmark Datasets for ML Based Wensite Phishing Detection: An\n",
    "Experimental Study” se derivan:\n",
    "\n",
    "- f1 = Full URL length\n",
    "- f2 = Hostname length\n",
    "- f4 -> f20 =  Number of occurrences of the following characters: ’.’ (f4), ’-’ (f5), ’@’ (f6) , ’?’ (f7), ’&’ (f8), ’|’ (f9), ’=’ (f10), ’_’ (f11), ’ ̃’ (f12), ’%’ (f13), ’/’ (f14), ’*’ (f15), ’:’ (f16), ’,’ (f17), ’;’ (f18), '\\$'(f19), ’%20’ or space (f20)\n",
    "- f25 = HTTPS token\n",
    "- f26 = Ratio of digits in full URLs \n",
    "- f27 = Ratio of digits in hostnames"
   ]
  },
  {
   "cell_type": "code",
   "execution_count": 7,
   "id": "482c5f17",
   "metadata": {},
   "outputs": [],
   "source": [
    "# f1\n",
    "df['url_len'] = df['url'].apply(len)"
   ]
  },
  {
   "cell_type": "code",
   "execution_count": 8,
   "id": "88735e9f",
   "metadata": {},
   "outputs": [],
   "source": [
    "# f2\n",
    "from urllib.parse import urlparse\n",
    "\n",
    "def url_info(url):\n",
    "    parsed_url = urlparse(url)\n",
    "    return parsed_url.hostname, parsed_url.scheme\n",
    "\n",
    "df['hostname'], df['scheme'] = zip(*df['url'].apply(url_info)) # scheme for f25\n",
    "df['hostname_len'] = df['hostname'].apply(len)"
   ]
  },
  {
   "cell_type": "code",
   "execution_count": 9,
   "id": "da12a2a3",
   "metadata": {},
   "outputs": [],
   "source": [
    "#f4 - f20\n",
    "chars = ['.','-','@','?','&','|','=','_',' ̃','%','/','*',':',',',';','$']\n",
    "spaces = ['%20', ' '] # two options for spaces\n",
    "\n",
    "def count_chars(chs):\n",
    "    return lambda s: sum(s.count(ch) for ch in chs)\n",
    "\n",
    "for ch in chars:\n",
    "    df[f'{ch}_count'] = df['url'].apply(count_chars(ch))\n",
    "\n",
    "df['space_count'] = df['url'].apply(count_chars(spaces))"
   ]
  },
  {
   "cell_type": "code",
   "execution_count": 10,
   "id": "16c4ea82",
   "metadata": {},
   "outputs": [],
   "source": [
    "# f25\n",
    "df['is_https'] = df['scheme'].apply(lambda scheme: int(scheme.lower() == 'https'))"
   ]
  },
  {
   "cell_type": "code",
   "execution_count": 11,
   "id": "7bee8593",
   "metadata": {},
   "outputs": [],
   "source": [
    "#f26\n",
    "digits_ratio = lambda s: sum(c.isdigit() for c in s) / sum(not c.isdigit() for c in s)\n",
    "df['digit_ratio_url'] = df['url'].apply(digits_ratio)\n",
    "# f27\n",
    "df['digit_ratio_hostname'] = df['url'].apply(digits_ratio)"
   ]
  },
  {
   "cell_type": "code",
   "execution_count": 12,
   "id": "f7dfcdf8",
   "metadata": {},
   "outputs": [],
   "source": [
    "# Drop added columns no longer needed\n",
    "df = df.drop(['hostname', 'scheme'], axis=1)"
   ]
  },
  {
   "cell_type": "code",
   "execution_count": 13,
   "id": "fa837634",
   "metadata": {},
   "outputs": [
    {
     "data": {
      "text/html": [
       "<div>\n",
       "<style scoped>\n",
       "    .dataframe tbody tr th:only-of-type {\n",
       "        vertical-align: middle;\n",
       "    }\n",
       "\n",
       "    .dataframe tbody tr th {\n",
       "        vertical-align: top;\n",
       "    }\n",
       "\n",
       "    .dataframe thead th {\n",
       "        text-align: right;\n",
       "    }\n",
       "</style>\n",
       "<table border=\"1\" class=\"dataframe\">\n",
       "  <thead>\n",
       "    <tr style=\"text-align: right;\">\n",
       "      <th></th>\n",
       "      <th>url</th>\n",
       "      <th>ip</th>\n",
       "      <th>nb_www</th>\n",
       "      <th>nb_com</th>\n",
       "      <th>nb_dslash</th>\n",
       "      <th>http_in_path</th>\n",
       "      <th>punycode</th>\n",
       "      <th>port</th>\n",
       "      <th>tld_in_path</th>\n",
       "      <th>tld_in_subdomain</th>\n",
       "      <th>...</th>\n",
       "      <th>/_count</th>\n",
       "      <th>*_count</th>\n",
       "      <th>:_count</th>\n",
       "      <th>,_count</th>\n",
       "      <th>;_count</th>\n",
       "      <th>$_count</th>\n",
       "      <th>space_count</th>\n",
       "      <th>is_https</th>\n",
       "      <th>digit_ratio_url</th>\n",
       "      <th>digit_ratio_hostname</th>\n",
       "    </tr>\n",
       "  </thead>\n",
       "  <tbody>\n",
       "    <tr>\n",
       "      <th>0</th>\n",
       "      <td>http://www.crestonwood.com/router.php</td>\n",
       "      <td>0</td>\n",
       "      <td>1</td>\n",
       "      <td>0</td>\n",
       "      <td>0</td>\n",
       "      <td>0</td>\n",
       "      <td>0</td>\n",
       "      <td>0</td>\n",
       "      <td>0</td>\n",
       "      <td>0</td>\n",
       "      <td>...</td>\n",
       "      <td>3</td>\n",
       "      <td>0</td>\n",
       "      <td>1</td>\n",
       "      <td>0</td>\n",
       "      <td>0</td>\n",
       "      <td>0</td>\n",
       "      <td>0</td>\n",
       "      <td>0</td>\n",
       "      <td>0.000000</td>\n",
       "      <td>0.000000</td>\n",
       "    </tr>\n",
       "    <tr>\n",
       "      <th>1</th>\n",
       "      <td>http://shadetreetechnology.com/V4/validation/a...</td>\n",
       "      <td>1</td>\n",
       "      <td>0</td>\n",
       "      <td>0</td>\n",
       "      <td>0</td>\n",
       "      <td>0</td>\n",
       "      <td>0</td>\n",
       "      <td>0</td>\n",
       "      <td>0</td>\n",
       "      <td>0</td>\n",
       "      <td>...</td>\n",
       "      <td>5</td>\n",
       "      <td>0</td>\n",
       "      <td>1</td>\n",
       "      <td>0</td>\n",
       "      <td>0</td>\n",
       "      <td>0</td>\n",
       "      <td>0</td>\n",
       "      <td>0</td>\n",
       "      <td>0.283333</td>\n",
       "      <td>0.283333</td>\n",
       "    </tr>\n",
       "    <tr>\n",
       "      <th>2</th>\n",
       "      <td>https://support-appleld.com.secureupdate.duila...</td>\n",
       "      <td>1</td>\n",
       "      <td>0</td>\n",
       "      <td>1</td>\n",
       "      <td>0</td>\n",
       "      <td>0</td>\n",
       "      <td>0</td>\n",
       "      <td>0</td>\n",
       "      <td>0</td>\n",
       "      <td>1</td>\n",
       "      <td>...</td>\n",
       "      <td>5</td>\n",
       "      <td>0</td>\n",
       "      <td>1</td>\n",
       "      <td>0</td>\n",
       "      <td>0</td>\n",
       "      <td>0</td>\n",
       "      <td>0</td>\n",
       "      <td>1</td>\n",
       "      <td>0.177570</td>\n",
       "      <td>0.177570</td>\n",
       "    </tr>\n",
       "    <tr>\n",
       "      <th>3</th>\n",
       "      <td>http://rgipt.ac.in</td>\n",
       "      <td>0</td>\n",
       "      <td>0</td>\n",
       "      <td>0</td>\n",
       "      <td>0</td>\n",
       "      <td>0</td>\n",
       "      <td>0</td>\n",
       "      <td>0</td>\n",
       "      <td>0</td>\n",
       "      <td>0</td>\n",
       "      <td>...</td>\n",
       "      <td>2</td>\n",
       "      <td>0</td>\n",
       "      <td>1</td>\n",
       "      <td>0</td>\n",
       "      <td>0</td>\n",
       "      <td>0</td>\n",
       "      <td>0</td>\n",
       "      <td>0</td>\n",
       "      <td>0.000000</td>\n",
       "      <td>0.000000</td>\n",
       "    </tr>\n",
       "    <tr>\n",
       "      <th>4</th>\n",
       "      <td>http://www.iracing.com/tracks/gateway-motorspo...</td>\n",
       "      <td>0</td>\n",
       "      <td>1</td>\n",
       "      <td>0</td>\n",
       "      <td>0</td>\n",
       "      <td>0</td>\n",
       "      <td>0</td>\n",
       "      <td>0</td>\n",
       "      <td>0</td>\n",
       "      <td>0</td>\n",
       "      <td>...</td>\n",
       "      <td>5</td>\n",
       "      <td>0</td>\n",
       "      <td>1</td>\n",
       "      <td>0</td>\n",
       "      <td>0</td>\n",
       "      <td>0</td>\n",
       "      <td>0</td>\n",
       "      <td>0</td>\n",
       "      <td>0.000000</td>\n",
       "      <td>0.000000</td>\n",
       "    </tr>\n",
       "  </tbody>\n",
       "</table>\n",
       "<p>5 rows × 89 columns</p>\n",
       "</div>"
      ],
      "text/plain": [
       "                                                 url  ip  nb_www  nb_com  \\\n",
       "0              http://www.crestonwood.com/router.php   0       1       0   \n",
       "1  http://shadetreetechnology.com/V4/validation/a...   1       0       0   \n",
       "2  https://support-appleld.com.secureupdate.duila...   1       0       1   \n",
       "3                                 http://rgipt.ac.in   0       0       0   \n",
       "4  http://www.iracing.com/tracks/gateway-motorspo...   0       1       0   \n",
       "\n",
       "   nb_dslash  http_in_path  punycode  port  tld_in_path  tld_in_subdomain  \\\n",
       "0          0             0         0     0            0                 0   \n",
       "1          0             0         0     0            0                 0   \n",
       "2          0             0         0     0            0                 1   \n",
       "3          0             0         0     0            0                 0   \n",
       "4          0             0         0     0            0                 0   \n",
       "\n",
       "   ...  /_count  *_count  :_count  ,_count  ;_count  $_count  space_count  \\\n",
       "0  ...        3        0        1        0        0        0            0   \n",
       "1  ...        5        0        1        0        0        0            0   \n",
       "2  ...        5        0        1        0        0        0            0   \n",
       "3  ...        2        0        1        0        0        0            0   \n",
       "4  ...        5        0        1        0        0        0            0   \n",
       "\n",
       "   is_https  digit_ratio_url  digit_ratio_hostname  \n",
       "0         0         0.000000              0.000000  \n",
       "1         0         0.283333              0.283333  \n",
       "2         1         0.177570              0.177570  \n",
       "3         0         0.000000              0.000000  \n",
       "4         0         0.000000              0.000000  \n",
       "\n",
       "[5 rows x 89 columns]"
      ]
     },
     "execution_count": 13,
     "metadata": {},
     "output_type": "execute_result"
    }
   ],
   "source": [
    "# Ejemplo de cinco observaciones\n",
    "df.head(5)"
   ]
  },
  {
   "cell_type": "markdown",
   "id": "0d170f74",
   "metadata": {},
   "source": [
    "#### Preprocesamiento"
   ]
  },
  {
   "cell_type": "code",
   "execution_count": 14,
   "id": "0ed834be",
   "metadata": {},
   "outputs": [
    {
     "name": "stdout",
     "output_type": "stream",
     "text": [
      "<class 'pandas.core.frame.DataFrame'>\n",
      "RangeIndex: 11430 entries, 0 to 11429\n",
      "Data columns (total 89 columns):\n",
      " #   Column                      Non-Null Count  Dtype  \n",
      "---  ------                      --------------  -----  \n",
      " 0   url                         11430 non-null  object \n",
      " 1   ip                          11430 non-null  int64  \n",
      " 2   nb_www                      11430 non-null  int64  \n",
      " 3   nb_com                      11430 non-null  int64  \n",
      " 4   nb_dslash                   11430 non-null  int64  \n",
      " 5   http_in_path                11430 non-null  int64  \n",
      " 6   punycode                    11430 non-null  int64  \n",
      " 7   port                        11430 non-null  int64  \n",
      " 8   tld_in_path                 11430 non-null  int64  \n",
      " 9   tld_in_subdomain            11430 non-null  int64  \n",
      " 10  abnormal_subdomain          11430 non-null  int64  \n",
      " 11  nb_subdomains               11430 non-null  int64  \n",
      " 12  prefix_suffix               11430 non-null  int64  \n",
      " 13  random_domain               11430 non-null  int64  \n",
      " 14  shortening_service          11430 non-null  int64  \n",
      " 15  path_extension              11430 non-null  int64  \n",
      " 16  nb_redirection              11430 non-null  int64  \n",
      " 17  nb_external_redirection     11430 non-null  int64  \n",
      " 18  length_words_raw            11430 non-null  int64  \n",
      " 19  char_repeat                 11430 non-null  int64  \n",
      " 20  shortest_words_raw          11430 non-null  int64  \n",
      " 21  shortest_word_host          11430 non-null  int64  \n",
      " 22  shortest_word_path          11430 non-null  int64  \n",
      " 23  longest_words_raw           11430 non-null  int64  \n",
      " 24  longest_word_host           11430 non-null  int64  \n",
      " 25  longest_word_path           11430 non-null  int64  \n",
      " 26  avg_words_raw               11430 non-null  float64\n",
      " 27  avg_word_host               11430 non-null  float64\n",
      " 28  avg_word_path               11430 non-null  float64\n",
      " 29  phish_hints                 11430 non-null  int64  \n",
      " 30  domain_in_brand             11430 non-null  int64  \n",
      " 31  brand_in_subdomain          11430 non-null  int64  \n",
      " 32  brand_in_path               11430 non-null  int64  \n",
      " 33  suspecious_tld              11430 non-null  int64  \n",
      " 34  statistical_report          11430 non-null  int64  \n",
      " 35  nb_hyperlinks               11430 non-null  int64  \n",
      " 36  ratio_intHyperlinks         11430 non-null  float64\n",
      " 37  ratio_extHyperlinks         11430 non-null  float64\n",
      " 38  ratio_nullHyperlinks        11430 non-null  int64  \n",
      " 39  nb_extCSS                   11430 non-null  int64  \n",
      " 40  ratio_intRedirection        11430 non-null  int64  \n",
      " 41  ratio_extRedirection        11430 non-null  float64\n",
      " 42  ratio_intErrors             11430 non-null  int64  \n",
      " 43  ratio_extErrors             11430 non-null  float64\n",
      " 44  login_form                  11430 non-null  int64  \n",
      " 45  external_favicon            11430 non-null  int64  \n",
      " 46  links_in_tags               11430 non-null  float64\n",
      " 47  submit_email                11430 non-null  int64  \n",
      " 48  ratio_intMedia              11430 non-null  float64\n",
      " 49  ratio_extMedia              11430 non-null  float64\n",
      " 50  sfh                         11430 non-null  int64  \n",
      " 51  iframe                      11430 non-null  int64  \n",
      " 52  popup_window                11430 non-null  int64  \n",
      " 53  safe_anchor                 11430 non-null  float64\n",
      " 54  onmouseover                 11430 non-null  int64  \n",
      " 55  right_clic                  11430 non-null  int64  \n",
      " 56  empty_title                 11430 non-null  int64  \n",
      " 57  domain_in_title             11430 non-null  int64  \n",
      " 58  domain_with_copyright       11430 non-null  int64  \n",
      " 59  whois_registered_domain     11430 non-null  int64  \n",
      " 60  domain_registration_length  11430 non-null  int64  \n",
      " 61  domain_age                  11430 non-null  int64  \n",
      " 62  web_traffic                 11430 non-null  int64  \n",
      " 63  dns_record                  11430 non-null  int64  \n",
      " 64  google_index                11430 non-null  int64  \n",
      " 65  page_rank                   11430 non-null  int64  \n",
      " 66  status                      11430 non-null  object \n",
      " 67  url_len                     11430 non-null  int64  \n",
      " 68  hostname_len                11430 non-null  int64  \n",
      " 69  ._count                     11430 non-null  int64  \n",
      " 70  -_count                     11430 non-null  int64  \n",
      " 71  @_count                     11430 non-null  int64  \n",
      " 72  ?_count                     11430 non-null  int64  \n",
      " 73  &_count                     11430 non-null  int64  \n",
      " 74  |_count                     11430 non-null  int64  \n",
      " 75  =_count                     11430 non-null  int64  \n",
      " 76  __count                     11430 non-null  int64  \n",
      " 77   ̃_count                    11430 non-null  int64  \n",
      " 78  %_count                     11430 non-null  int64  \n",
      " 79  /_count                     11430 non-null  int64  \n",
      " 80  *_count                     11430 non-null  int64  \n",
      " 81  :_count                     11430 non-null  int64  \n",
      " 82  ,_count                     11430 non-null  int64  \n",
      " 83  ;_count                     11430 non-null  int64  \n",
      " 84  $_count                     11430 non-null  int64  \n",
      " 85  space_count                 11430 non-null  int64  \n",
      " 86  is_https                    11430 non-null  int64  \n",
      " 87  digit_ratio_url             11430 non-null  float64\n",
      " 88  digit_ratio_hostname        11430 non-null  float64\n",
      "dtypes: float64(13), int64(74), object(2)\n",
      "memory usage: 7.8+ MB\n"
     ]
    }
   ],
   "source": [
    "df.info()"
   ]
  },
  {
   "cell_type": "code",
   "execution_count": 15,
   "id": "75558bd0",
   "metadata": {},
   "outputs": [],
   "source": [
    "# Convertir la variable categórica status a una variable binaria\n",
    "df['status'] = df['status'].apply(lambda status: int(status == 'legitimate'))"
   ]
  },
  {
   "cell_type": "code",
   "execution_count": 16,
   "id": "efce720a",
   "metadata": {},
   "outputs": [],
   "source": [
    "# Elimine la columna del dominio\n",
    "del df['url']"
   ]
  },
  {
   "cell_type": "code",
   "execution_count": 17,
   "id": "c491e04c",
   "metadata": {},
   "outputs": [
    {
     "data": {
      "text/html": [
       "<div>\n",
       "<style scoped>\n",
       "    .dataframe tbody tr th:only-of-type {\n",
       "        vertical-align: middle;\n",
       "    }\n",
       "\n",
       "    .dataframe tbody tr th {\n",
       "        vertical-align: top;\n",
       "    }\n",
       "\n",
       "    .dataframe thead th {\n",
       "        text-align: right;\n",
       "    }\n",
       "</style>\n",
       "<table border=\"1\" class=\"dataframe\">\n",
       "  <thead>\n",
       "    <tr style=\"text-align: right;\">\n",
       "      <th></th>\n",
       "      <th>ip</th>\n",
       "      <th>nb_www</th>\n",
       "      <th>nb_com</th>\n",
       "      <th>nb_dslash</th>\n",
       "      <th>http_in_path</th>\n",
       "      <th>punycode</th>\n",
       "      <th>port</th>\n",
       "      <th>tld_in_path</th>\n",
       "      <th>tld_in_subdomain</th>\n",
       "      <th>abnormal_subdomain</th>\n",
       "      <th>...</th>\n",
       "      <th>/_count</th>\n",
       "      <th>*_count</th>\n",
       "      <th>:_count</th>\n",
       "      <th>,_count</th>\n",
       "      <th>;_count</th>\n",
       "      <th>$_count</th>\n",
       "      <th>space_count</th>\n",
       "      <th>is_https</th>\n",
       "      <th>digit_ratio_url</th>\n",
       "      <th>digit_ratio_hostname</th>\n",
       "    </tr>\n",
       "  </thead>\n",
       "  <tbody>\n",
       "    <tr>\n",
       "      <th>0</th>\n",
       "      <td>0</td>\n",
       "      <td>1</td>\n",
       "      <td>0</td>\n",
       "      <td>0</td>\n",
       "      <td>0</td>\n",
       "      <td>0</td>\n",
       "      <td>0</td>\n",
       "      <td>0</td>\n",
       "      <td>0</td>\n",
       "      <td>0</td>\n",
       "      <td>...</td>\n",
       "      <td>3</td>\n",
       "      <td>0</td>\n",
       "      <td>1</td>\n",
       "      <td>0</td>\n",
       "      <td>0</td>\n",
       "      <td>0</td>\n",
       "      <td>0</td>\n",
       "      <td>0</td>\n",
       "      <td>0.000000</td>\n",
       "      <td>0.000000</td>\n",
       "    </tr>\n",
       "    <tr>\n",
       "      <th>1</th>\n",
       "      <td>1</td>\n",
       "      <td>0</td>\n",
       "      <td>0</td>\n",
       "      <td>0</td>\n",
       "      <td>0</td>\n",
       "      <td>0</td>\n",
       "      <td>0</td>\n",
       "      <td>0</td>\n",
       "      <td>0</td>\n",
       "      <td>0</td>\n",
       "      <td>...</td>\n",
       "      <td>5</td>\n",
       "      <td>0</td>\n",
       "      <td>1</td>\n",
       "      <td>0</td>\n",
       "      <td>0</td>\n",
       "      <td>0</td>\n",
       "      <td>0</td>\n",
       "      <td>0</td>\n",
       "      <td>0.283333</td>\n",
       "      <td>0.283333</td>\n",
       "    </tr>\n",
       "    <tr>\n",
       "      <th>2</th>\n",
       "      <td>1</td>\n",
       "      <td>0</td>\n",
       "      <td>1</td>\n",
       "      <td>0</td>\n",
       "      <td>0</td>\n",
       "      <td>0</td>\n",
       "      <td>0</td>\n",
       "      <td>0</td>\n",
       "      <td>1</td>\n",
       "      <td>0</td>\n",
       "      <td>...</td>\n",
       "      <td>5</td>\n",
       "      <td>0</td>\n",
       "      <td>1</td>\n",
       "      <td>0</td>\n",
       "      <td>0</td>\n",
       "      <td>0</td>\n",
       "      <td>0</td>\n",
       "      <td>1</td>\n",
       "      <td>0.177570</td>\n",
       "      <td>0.177570</td>\n",
       "    </tr>\n",
       "    <tr>\n",
       "      <th>3</th>\n",
       "      <td>0</td>\n",
       "      <td>0</td>\n",
       "      <td>0</td>\n",
       "      <td>0</td>\n",
       "      <td>0</td>\n",
       "      <td>0</td>\n",
       "      <td>0</td>\n",
       "      <td>0</td>\n",
       "      <td>0</td>\n",
       "      <td>0</td>\n",
       "      <td>...</td>\n",
       "      <td>2</td>\n",
       "      <td>0</td>\n",
       "      <td>1</td>\n",
       "      <td>0</td>\n",
       "      <td>0</td>\n",
       "      <td>0</td>\n",
       "      <td>0</td>\n",
       "      <td>0</td>\n",
       "      <td>0.000000</td>\n",
       "      <td>0.000000</td>\n",
       "    </tr>\n",
       "    <tr>\n",
       "      <th>4</th>\n",
       "      <td>0</td>\n",
       "      <td>1</td>\n",
       "      <td>0</td>\n",
       "      <td>0</td>\n",
       "      <td>0</td>\n",
       "      <td>0</td>\n",
       "      <td>0</td>\n",
       "      <td>0</td>\n",
       "      <td>0</td>\n",
       "      <td>0</td>\n",
       "      <td>...</td>\n",
       "      <td>5</td>\n",
       "      <td>0</td>\n",
       "      <td>1</td>\n",
       "      <td>0</td>\n",
       "      <td>0</td>\n",
       "      <td>0</td>\n",
       "      <td>0</td>\n",
       "      <td>0</td>\n",
       "      <td>0.000000</td>\n",
       "      <td>0.000000</td>\n",
       "    </tr>\n",
       "  </tbody>\n",
       "</table>\n",
       "<p>5 rows × 88 columns</p>\n",
       "</div>"
      ],
      "text/plain": [
       "   ip  nb_www  nb_com  nb_dslash  http_in_path  punycode  port  tld_in_path  \\\n",
       "0   0       1       0          0             0         0     0            0   \n",
       "1   1       0       0          0             0         0     0            0   \n",
       "2   1       0       1          0             0         0     0            0   \n",
       "3   0       0       0          0             0         0     0            0   \n",
       "4   0       1       0          0             0         0     0            0   \n",
       "\n",
       "   tld_in_subdomain  abnormal_subdomain  ...  /_count  *_count  :_count  \\\n",
       "0                 0                   0  ...        3        0        1   \n",
       "1                 0                   0  ...        5        0        1   \n",
       "2                 1                   0  ...        5        0        1   \n",
       "3                 0                   0  ...        2        0        1   \n",
       "4                 0                   0  ...        5        0        1   \n",
       "\n",
       "   ,_count  ;_count  $_count  space_count  is_https  digit_ratio_url  \\\n",
       "0        0        0        0            0         0         0.000000   \n",
       "1        0        0        0            0         0         0.283333   \n",
       "2        0        0        0            0         1         0.177570   \n",
       "3        0        0        0            0         0         0.000000   \n",
       "4        0        0        0            0         0         0.000000   \n",
       "\n",
       "   digit_ratio_hostname  \n",
       "0              0.000000  \n",
       "1              0.283333  \n",
       "2              0.177570  \n",
       "3              0.000000  \n",
       "4              0.000000  \n",
       "\n",
       "[5 rows x 88 columns]"
      ]
     },
     "execution_count": 17,
     "metadata": {},
     "output_type": "execute_result"
    }
   ],
   "source": [
    "df.head(5)"
   ]
  },
  {
   "cell_type": "markdown",
   "id": "33727b8f",
   "metadata": {},
   "source": [
    "#### 5) Visualización de resultados"
   ]
  },
  {
   "cell_type": "code",
   "execution_count": 18,
   "id": "276b0e95",
   "metadata": {},
   "outputs": [
    {
     "data": {
      "application/vnd.jupyter.widget-view+json": {
       "model_id": "365f555b584642e690b1cf9b18b4f40e",
       "version_major": 2,
       "version_minor": 0
      },
      "text/plain": [
       "Summarize dataset:   0%|          | 0/5 [00:00<?, ?it/s]"
      ]
     },
     "metadata": {},
     "output_type": "display_data"
    },
    {
     "name": "stderr",
     "output_type": "stream",
     "text": [
      "/Users/josuevalenzuela/Documents/per/u/A6S1/cc3094/labs/lab01/venv/lib/python3.9/site-packages/missingno/missingno.py:250: UserWarning: FixedFormatter should only be used together with FixedLocator\n",
      "  ax1.set_xticklabels(ax1.get_xticklabels(), rotation=45, ha='right', fontsize=fontsize)\n",
      "/Users/josuevalenzuela/Documents/per/u/A6S1/cc3094/labs/lab01/venv/lib/python3.9/site-packages/pandas_profiling/model/missing.py:89: UserWarning: There was an attempt to generate the Count missing values diagrams, but this failed.\n",
      "To hide this warning, disable the calculation\n",
      "(using `df.profile_report(missing_diagrams={\"Count\": False}`)\n",
      "If this is problematic for your use case, please report this as an issue:\n",
      "https://github.com/pandas-profiling/pandas-profiling/issues\n",
      "(include the error message: 'The number of FixedLocator locations (7), usually from a call to set_ticks, does not match the number of ticklabels (88).')\n",
      "  warnings.warn(\n"
     ]
    },
    {
     "data": {
      "application/vnd.jupyter.widget-view+json": {
       "model_id": "318e318b222f48078ebda5a5add1a028",
       "version_major": 2,
       "version_minor": 0
      },
      "text/plain": [
       "Generate report structure:   0%|          | 0/1 [00:00<?, ?it/s]"
      ]
     },
     "metadata": {},
     "output_type": "display_data"
    },
    {
     "data": {
      "application/vnd.jupyter.widget-view+json": {
       "model_id": "3a506e882a1345eca6497e17559b1a18",
       "version_major": 2,
       "version_minor": 0
      },
      "text/plain": [
       "Render HTML:   0%|          | 0/1 [00:00<?, ?it/s]"
      ]
     },
     "metadata": {},
     "output_type": "display_data"
    },
    {
     "data": {
      "application/vnd.jupyter.widget-view+json": {
       "model_id": "6fd1f236aabc44ada8a6c7ad80d34741",
       "version_major": 2,
       "version_minor": 0
      },
      "text/plain": [
       "Export report to file:   0%|          | 0/1 [00:00<?, ?it/s]"
      ]
     },
     "metadata": {},
     "output_type": "display_data"
    }
   ],
   "source": [
    "import pandas_profiling\n",
    "\n",
    "# https://pandas-profiling.github.io/pandas-profiling/docs/master/rtd/pages/advanced_usage.html\n",
    "profile = df.profile_report(\n",
    "    title=\"Pandas Profiling Report\",\n",
    "    vars = {\n",
    "        \"num\": {\n",
    "            \"low_categorical_threshold\": 0\n",
    "        }\n",
    "    },\n",
    "    interactions = {\n",
    "        \"continuous\": False, # Avoid huge html file\n",
    "    },\n",
    "    correlations= { # enable just spearman to speed up\n",
    "        \"pearson\": { \n",
    "            \"calculate\": True,\n",
    "            \"threshold\": 0.3,\n",
    "        },\n",
    "        \"spearman\": { \"calculate\": False },\n",
    "        \"kendall\": { \"calculate\": False },\n",
    "        \"phi_k\": { \"calculate\": False },\n",
    "        \"cramers\": { \"calculate\": False },\n",
    "    }\n",
    ")\n",
    "profile.to_file(\"phishing_report.html\")"
   ]
  },
  {
   "cell_type": "markdown",
   "id": "cc1c1b6d",
   "metadata": {},
   "source": [
    "#### Selección de Características\n",
    "\n",
    "Las características con mayor correlacion con status y no son constantes:\n",
    "- ip\n",
    "- nb_www\n",
    "- phish_hints\n",
    "- nb_hyperlinks\n",
    "- domain_in_title\n",
    "- domain_age\n",
    "- google_index\n",
    "- page_rank\n",
    "- digit_ratio_url\n",
    "- digit_ratio_hostname#### 6) Selección de características"
   ]
  },
  {
   "cell_type": "code",
   "execution_count": 19,
   "id": "4d0c43ae",
   "metadata": {},
   "outputs": [],
   "source": [
    "# Eliminamos registros duplicados\n",
    "df = df.drop_duplicates()"
   ]
  },
  {
   "cell_type": "code",
   "execution_count": 20,
   "id": "34469a8c",
   "metadata": {},
   "outputs": [],
   "source": [
    "# Mantenemos solo los features que vamos a usar en el modelo\n",
    "features = ['ip', 'nb_www', 'phish_hints', 'nb_hyperlinks', 'domain_in_title', 'domain_age', 'google_index', 'page_rank', 'digit_ratio_url', 'digit_ratio_hostname', 'status']\n",
    "cols_to_remove = list(filter(lambda col: col not in features, df.columns))\n",
    "df = df.drop(cols_to_remove, axis=1)"
   ]
  },
  {
   "cell_type": "code",
   "execution_count": 21,
   "id": "493992a3",
   "metadata": {},
   "outputs": [
    {
     "data": {
      "text/html": [
       "<div>\n",
       "<style scoped>\n",
       "    .dataframe tbody tr th:only-of-type {\n",
       "        vertical-align: middle;\n",
       "    }\n",
       "\n",
       "    .dataframe tbody tr th {\n",
       "        vertical-align: top;\n",
       "    }\n",
       "\n",
       "    .dataframe thead th {\n",
       "        text-align: right;\n",
       "    }\n",
       "</style>\n",
       "<table border=\"1\" class=\"dataframe\">\n",
       "  <thead>\n",
       "    <tr style=\"text-align: right;\">\n",
       "      <th></th>\n",
       "      <th>ip</th>\n",
       "      <th>nb_www</th>\n",
       "      <th>phish_hints</th>\n",
       "      <th>nb_hyperlinks</th>\n",
       "      <th>domain_in_title</th>\n",
       "      <th>domain_age</th>\n",
       "      <th>google_index</th>\n",
       "      <th>page_rank</th>\n",
       "      <th>status</th>\n",
       "      <th>digit_ratio_url</th>\n",
       "      <th>digit_ratio_hostname</th>\n",
       "    </tr>\n",
       "  </thead>\n",
       "  <tbody>\n",
       "    <tr>\n",
       "      <th>0</th>\n",
       "      <td>0</td>\n",
       "      <td>1</td>\n",
       "      <td>0</td>\n",
       "      <td>17</td>\n",
       "      <td>0</td>\n",
       "      <td>-1</td>\n",
       "      <td>1</td>\n",
       "      <td>4</td>\n",
       "      <td>1</td>\n",
       "      <td>0.000000</td>\n",
       "      <td>0.000000</td>\n",
       "    </tr>\n",
       "    <tr>\n",
       "      <th>1</th>\n",
       "      <td>1</td>\n",
       "      <td>0</td>\n",
       "      <td>0</td>\n",
       "      <td>30</td>\n",
       "      <td>1</td>\n",
       "      <td>5767</td>\n",
       "      <td>1</td>\n",
       "      <td>2</td>\n",
       "      <td>0</td>\n",
       "      <td>0.283333</td>\n",
       "      <td>0.283333</td>\n",
       "    </tr>\n",
       "    <tr>\n",
       "      <th>2</th>\n",
       "      <td>1</td>\n",
       "      <td>0</td>\n",
       "      <td>0</td>\n",
       "      <td>4</td>\n",
       "      <td>1</td>\n",
       "      <td>4004</td>\n",
       "      <td>1</td>\n",
       "      <td>0</td>\n",
       "      <td>0</td>\n",
       "      <td>0.177570</td>\n",
       "      <td>0.177570</td>\n",
       "    </tr>\n",
       "    <tr>\n",
       "      <th>3</th>\n",
       "      <td>0</td>\n",
       "      <td>0</td>\n",
       "      <td>0</td>\n",
       "      <td>149</td>\n",
       "      <td>1</td>\n",
       "      <td>-1</td>\n",
       "      <td>0</td>\n",
       "      <td>3</td>\n",
       "      <td>1</td>\n",
       "      <td>0.000000</td>\n",
       "      <td>0.000000</td>\n",
       "    </tr>\n",
       "    <tr>\n",
       "      <th>4</th>\n",
       "      <td>0</td>\n",
       "      <td>1</td>\n",
       "      <td>0</td>\n",
       "      <td>102</td>\n",
       "      <td>0</td>\n",
       "      <td>8175</td>\n",
       "      <td>0</td>\n",
       "      <td>6</td>\n",
       "      <td>1</td>\n",
       "      <td>0.000000</td>\n",
       "      <td>0.000000</td>\n",
       "    </tr>\n",
       "  </tbody>\n",
       "</table>\n",
       "</div>"
      ],
      "text/plain": [
       "   ip  nb_www  phish_hints  nb_hyperlinks  domain_in_title  domain_age  \\\n",
       "0   0       1            0             17                0          -1   \n",
       "1   1       0            0             30                1        5767   \n",
       "2   1       0            0              4                1        4004   \n",
       "3   0       0            0            149                1          -1   \n",
       "4   0       1            0            102                0        8175   \n",
       "\n",
       "   google_index  page_rank  status  digit_ratio_url  digit_ratio_hostname  \n",
       "0             1          4       1         0.000000              0.000000  \n",
       "1             1          2       0         0.283333              0.283333  \n",
       "2             1          0       0         0.177570              0.177570  \n",
       "3             0          3       1         0.000000              0.000000  \n",
       "4             0          6       1         0.000000              0.000000  "
      ]
     },
     "execution_count": 21,
     "metadata": {},
     "output_type": "execute_result"
    }
   ],
   "source": [
    "df.head(5)"
   ]
  },
  {
   "cell_type": "markdown",
   "id": "19d126aa",
   "metadata": {},
   "source": [
    "## Implementación del modelo"
   ]
  },
  {
   "cell_type": "markdown",
   "id": "044af43b",
   "metadata": {},
   "source": [
    "#### Separación de datos\n",
    "- Datos de entrenamiento: 55%\n",
    "- Datos de validación: 15%\n",
    "- Datos de prueba: 30%"
   ]
  },
  {
   "cell_type": "code",
   "execution_count": 22,
   "id": "1e4a11b8",
   "metadata": {},
   "outputs": [],
   "source": [
    "target = df['status']\n",
    "features = df.drop(['status'], axis=1)"
   ]
  },
  {
   "cell_type": "code",
   "execution_count": 23,
   "id": "adbaddae",
   "metadata": {},
   "outputs": [],
   "source": [
    "from sklearn.model_selection import train_test_split\n",
    "feature_train, feature_test, target_train, target_test =\\\n",
    "    train_test_split(features, target, test_size=0.30, random_state=31)\n",
    "\n",
    "feature_train, feature_validation, target_train, target_validation =\\\n",
    "    train_test_split(feature_train, target_train, test_size=0.21, random_state=31) # 0.21*0.7 = 0.15"
   ]
  },
  {
   "cell_type": "code",
   "execution_count": 24,
   "id": "1e5eb7a5",
   "metadata": {},
   "outputs": [],
   "source": [
    "# Dump data to csv\n",
    "feature_train.to_csv('datasets/feature_train.csv')\n",
    "feature_test.to_csv('datasets/feature_test.csv')\n",
    "target_train.to_csv('datasets/target_train.csv')\n",
    "target_test.to_csv('datasets/target_test.csv')\n",
    "feature_validation.to_csv('datasets/feature_validation.csv')\n",
    "target_validation.to_csv('datasets/target_validation.csv')"
   ]
  },
  {
   "cell_type": "markdown",
   "id": "e26fb0bb",
   "metadata": {},
   "source": [
    "#### Implementación\n",
    "\n",
    "Algoritmo de árboles de decisión para entrenar el modelo"
   ]
  },
  {
   "cell_type": "code",
   "execution_count": 25,
   "id": "0663d42b",
   "metadata": {},
   "outputs": [],
   "source": [
    "from sklearn.tree import DecisionTreeClassifier\n",
    "dtc = DecisionTreeClassifier()\n",
    "dtc = dtc.fit(feature_train, target_train)"
   ]
  },
  {
   "cell_type": "markdown",
   "id": "5ef4f57c",
   "metadata": {},
   "source": [
    "#### Métricas de desempeño del modelo"
   ]
  },
  {
   "cell_type": "code",
   "execution_count": 26,
   "id": "6197192e",
   "metadata": {},
   "outputs": [],
   "source": [
    "from sklearn.metrics import confusion_matrix, classification_report"
   ]
  },
  {
   "cell_type": "markdown",
   "id": "a166be90",
   "metadata": {},
   "source": [
    "##### Datos de pruebas"
   ]
  },
  {
   "cell_type": "code",
   "execution_count": 27,
   "id": "9a13389c",
   "metadata": {},
   "outputs": [],
   "source": [
    "target_pred_test = dtc.predict(feature_test)"
   ]
  },
  {
   "cell_type": "markdown",
   "id": "3f446e2b",
   "metadata": {},
   "source": [
    "Matriz de confusión"
   ]
  },
  {
   "cell_type": "code",
   "execution_count": 28,
   "id": "b4a241e3",
   "metadata": {},
   "outputs": [
    {
     "data": {
      "text/plain": [
       "array([[1568,  125],\n",
       "       [ 143, 1541]])"
      ]
     },
     "execution_count": 28,
     "metadata": {},
     "output_type": "execute_result"
    }
   ],
   "source": [
    "confusion_matrix(target_test, target_pred_test)"
   ]
  },
  {
   "cell_type": "markdown",
   "id": "dd3654f5",
   "metadata": {},
   "source": [
    "Precision, Recall, F1 Score"
   ]
  },
  {
   "cell_type": "code",
   "execution_count": 29,
   "id": "93d2ea94",
   "metadata": {},
   "outputs": [
    {
     "name": "stdout",
     "output_type": "stream",
     "text": [
      "              precision    recall  f1-score   support\n",
      "\n",
      "       legit       0.92      0.93      0.92      1693\n",
      "    phishing       0.92      0.92      0.92      1684\n",
      "\n",
      "    accuracy                           0.92      3377\n",
      "   macro avg       0.92      0.92      0.92      3377\n",
      "weighted avg       0.92      0.92      0.92      3377\n",
      "\n"
     ]
    }
   ],
   "source": [
    "classification_report_test = classification_report(target_test, target_pred_test, target_names=['legit', 'phishing'])\n",
    "print(classification_report_test)"
   ]
  },
  {
   "cell_type": "markdown",
   "id": "aee3af06",
   "metadata": {},
   "source": [
    "##### Datos de validación"
   ]
  },
  {
   "cell_type": "code",
   "execution_count": 30,
   "id": "d35dc94b",
   "metadata": {},
   "outputs": [],
   "source": [
    "target_pred_validation = dtc.predict(feature_validation)"
   ]
  },
  {
   "cell_type": "markdown",
   "id": "06e08755",
   "metadata": {},
   "source": [
    "Matriz de confusión"
   ]
  },
  {
   "cell_type": "code",
   "execution_count": 31,
   "id": "78eda86f",
   "metadata": {},
   "outputs": [
    {
     "data": {
      "text/plain": [
       "array([[732,  62],\n",
       "       [ 76, 785]])"
      ]
     },
     "execution_count": 31,
     "metadata": {},
     "output_type": "execute_result"
    }
   ],
   "source": [
    "confusion_matrix(target_validation, target_pred_validation)"
   ]
  },
  {
   "cell_type": "markdown",
   "id": "882a1d40",
   "metadata": {},
   "source": [
    "Precision, Recall, F1 Score"
   ]
  },
  {
   "cell_type": "code",
   "execution_count": 32,
   "id": "4e083054",
   "metadata": {},
   "outputs": [
    {
     "name": "stdout",
     "output_type": "stream",
     "text": [
      "              precision    recall  f1-score   support\n",
      "\n",
      "       legit       0.91      0.92      0.91       794\n",
      "    phishing       0.93      0.91      0.92       861\n",
      "\n",
      "    accuracy                           0.92      1655\n",
      "   macro avg       0.92      0.92      0.92      1655\n",
      "weighted avg       0.92      0.92      0.92      1655\n",
      "\n"
     ]
    }
   ],
   "source": [
    "classification_report_validation = classification_report(target_validation, target_pred_validation, target_names=['legit', 'phishing'])\n",
    "print(classification_report_validation)"
   ]
  },
  {
   "cell_type": "markdown",
   "id": "88816796",
   "metadata": {},
   "source": [
    "## Resultados\n",
    "1. **¿Cuál es el impacto de clasificar un sitio legítimo como Phishing?**\n",
    "\n",
    "Dependiendo del contexto del sitio puede resultar en pérdidas de dinero (por ejemplo disminuir la exposición de un sitio de ecommerce a posibles clientes) o en riesgos que pueden afectar seriamente a los usuarios de los sitios (por ejemplo no permitir que notificaciones de sitios gubernamentales puedan ser expuestas a los usuarios).\n",
    "\n",
    "2. **¿Cuál es el impacto de clasificar un sitio de Phishing como legítimo?**\n",
    "\n",
    "Se corre el riesgo de filtrar información sensible a terceras partes con fines maliciosos. Además esto puede resultar en una mala reputación para el sitio legítimo, ya que la mayoría de personas que pueda ser afectado por los sitios de Phishing nunca se enteren que fue un sitio de Phishing. \n",
    "\n",
    "3. **En base a las respuestas anteriores, ¿Qué métrica elegiría para comparar modelos similares de clasificación de phishing?**\n",
    "\n",
    "Recall, en estos casos podemos decir que en la mayoría de casos se detectan correctamente entre sitios legítimos y phishing.\n",
    "\n",
    "4. **¿Es necesaria la intervención de una persona humana en la decisión final de clasificación?**\n",
    "\n",
    "No debe de ser necesaria. Una de las características que hacen al Phishing tan efectivo es la dificultad para un humano en distinguir entre sitios legítimos y sitios de phishing. Las características que un humano busca en un sitio de phishing pueden ser bien detectadas por un modelo automatizado. \n"
   ]
  },
  {
   "cell_type": "code",
   "execution_count": null,
   "id": "c5762696",
   "metadata": {},
   "outputs": [],
   "source": []
  }
 ],
 "metadata": {
  "kernelspec": {
   "display_name": "cc3094",
   "language": "python",
   "name": "cc3094"
  },
  "language_info": {
   "codemirror_mode": {
    "name": "ipython",
    "version": 3
   },
   "file_extension": ".py",
   "mimetype": "text/x-python",
   "name": "python",
   "nbconvert_exporter": "python",
   "pygments_lexer": "ipython3",
   "version": "3.9.7"
  }
 },
 "nbformat": 4,
 "nbformat_minor": 5
}
